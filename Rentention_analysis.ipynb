{
 "cells": [
  {
   "cell_type": "markdown",
   "metadata": {},
   "source": [
    "<h1 align=\"center\"><font size='6'>  DATA Analysis </h1>\n",
    "<br>\n"
   ]
  },
  {
   "cell_type": "code",
   "execution_count": 1,
   "metadata": {},
   "outputs": [
    {
     "data": {
      "text/html": [
       "        <script type=\"text/javascript\">\n",
       "        window.PlotlyConfig = {MathJaxConfig: 'local'};\n",
       "        if (window.MathJax) {MathJax.Hub.Config({SVG: {font: \"STIX-Web\"}});}\n",
       "        if (typeof require !== 'undefined') {\n",
       "        require.undef(\"plotly\");\n",
       "        requirejs.config({\n",
       "            paths: {\n",
       "                'plotly': ['https://cdn.plot.ly/plotly-latest.min']\n",
       "            }\n",
       "        });\n",
       "        require(['plotly'], function(Plotly) {\n",
       "            window._Plotly = Plotly;\n",
       "        });\n",
       "        }\n",
       "        </script>\n",
       "        "
      ]
     },
     "metadata": {},
     "output_type": "display_data"
    }
   ],
   "source": [
    "import pandas as pd\n",
    "import datetime\n",
    "import numpy as np\n",
    "import matplotlib.pyplot as plt\n",
    "import plotly.offline as py\n",
    "import plotly.graph_objs as go \n",
    "import plotly.express as px\n",
    "py.init_notebook_mode(connected=True)"
   ]
  },
  {
   "cell_type": "code",
   "execution_count": 2,
   "metadata": {},
   "outputs": [],
   "source": [
    "# load data\n",
    "data = pd.read_csv(f'C:/Users/james/Desktop/Wecloud_Data_Bootcamp/ontario_cars.csv')"
   ]
  },
  {
   "cell_type": "code",
   "execution_count": 3,
   "metadata": {},
   "outputs": [
    {
     "data": {
      "text/plain": [
       "(23978, 18)"
      ]
     },
     "execution_count": 3,
     "metadata": {},
     "output_type": "execute_result"
    }
   ],
   "source": [
    "data.shape"
   ]
  },
  {
   "cell_type": "code",
   "execution_count": 4,
   "metadata": {},
   "outputs": [
    {
     "name": "stdout",
     "output_type": "stream",
     "text": [
      "<class 'pandas.core.frame.DataFrame'>\n",
      "RangeIndex: 23978 entries, 0 to 23977\n",
      "Data columns (total 18 columns):\n",
      " #   Column           Non-Null Count  Dtype  \n",
      "---  ------           --------------  -----  \n",
      " 0   year             23978 non-null  int64  \n",
      " 1   brand            23978 non-null  object \n",
      " 2   model            23978 non-null  object \n",
      " 3   location         23978 non-null  object \n",
      " 4   price            23978 non-null  int64  \n",
      " 5   mileage          23978 non-null  int64  \n",
      " 6   body_type        23978 non-null  object \n",
      " 7   exterior_colour  23978 non-null  object \n",
      " 8   interior_colour  23978 non-null  object \n",
      " 9   door             23978 non-null  object \n",
      " 10  passenger        23978 non-null  object \n",
      " 11  transmission     23978 non-null  object \n",
      " 12  drive_type       23978 non-null  object \n",
      " 13  displacement     23978 non-null  object \n",
      " 14  cylinder         23978 non-null  object \n",
      " 15  fuel             23978 non-null  object \n",
      " 16  country          23978 non-null  object \n",
      " 17  real_year        23978 non-null  float64\n",
      "dtypes: float64(1), int64(3), object(14)\n",
      "memory usage: 3.3+ MB\n"
     ]
    }
   ],
   "source": [
    "data.info()"
   ]
  },
  {
   "cell_type": "code",
   "execution_count": 6,
   "metadata": {
    "scrolled": true
   },
   "outputs": [
    {
     "data": {
      "text/html": [
       "<div>\n",
       "<style scoped>\n",
       "    .dataframe tbody tr th:only-of-type {\n",
       "        vertical-align: middle;\n",
       "    }\n",
       "\n",
       "    .dataframe tbody tr th {\n",
       "        vertical-align: top;\n",
       "    }\n",
       "\n",
       "    .dataframe thead th {\n",
       "        text-align: right;\n",
       "    }\n",
       "</style>\n",
       "<table border=\"1\" class=\"dataframe\">\n",
       "  <thead>\n",
       "    <tr style=\"text-align: right;\">\n",
       "      <th></th>\n",
       "      <th>year</th>\n",
       "      <th>brand</th>\n",
       "      <th>model</th>\n",
       "      <th>location</th>\n",
       "      <th>price</th>\n",
       "      <th>mileage</th>\n",
       "      <th>body_type</th>\n",
       "      <th>exterior_colour</th>\n",
       "      <th>interior_colour</th>\n",
       "      <th>door</th>\n",
       "      <th>passenger</th>\n",
       "      <th>transmission</th>\n",
       "      <th>drive_type</th>\n",
       "      <th>displacement</th>\n",
       "      <th>cylinder</th>\n",
       "      <th>fuel</th>\n",
       "      <th>country</th>\n",
       "      <th>real_year</th>\n",
       "    </tr>\n",
       "  </thead>\n",
       "  <tbody>\n",
       "    <tr>\n",
       "      <th>0</th>\n",
       "      <td>2016</td>\n",
       "      <td>Toyota</td>\n",
       "      <td>Corolla</td>\n",
       "      <td>Aurora</td>\n",
       "      <td>13888</td>\n",
       "      <td>42098</td>\n",
       "      <td>Sedan</td>\n",
       "      <td>-</td>\n",
       "      <td>-</td>\n",
       "      <td>4</td>\n",
       "      <td>5</td>\n",
       "      <td>Automatic</td>\n",
       "      <td>FWD</td>\n",
       "      <td>1.8</td>\n",
       "      <td>4</td>\n",
       "      <td>Gasoline</td>\n",
       "      <td>Japan</td>\n",
       "      <td>3.75</td>\n",
       "    </tr>\n",
       "    <tr>\n",
       "      <th>1</th>\n",
       "      <td>2017</td>\n",
       "      <td>Dodge</td>\n",
       "      <td>Grand</td>\n",
       "      <td>Dodge</td>\n",
       "      <td>17885</td>\n",
       "      <td>57100</td>\n",
       "      <td>-</td>\n",
       "      <td>-</td>\n",
       "      <td>-</td>\n",
       "      <td>-</td>\n",
       "      <td>-</td>\n",
       "      <td>Automatic</td>\n",
       "      <td>-</td>\n",
       "      <td>-</td>\n",
       "      <td>-</td>\n",
       "      <td>-</td>\n",
       "      <td>USA</td>\n",
       "      <td>3.88</td>\n",
       "    </tr>\n",
       "  </tbody>\n",
       "</table>\n",
       "</div>"
      ],
      "text/plain": [
       "   year   brand    model location  price  mileage body_type exterior_colour  \\\n",
       "0  2016  Toyota  Corolla   Aurora  13888    42098     Sedan               -   \n",
       "1  2017   Dodge    Grand    Dodge  17885    57100         -               -   \n",
       "\n",
       "  interior_colour door passenger transmission drive_type displacement  \\\n",
       "0               -    4         5    Automatic        FWD          1.8   \n",
       "1               -    -         -    Automatic          -            -   \n",
       "\n",
       "  cylinder      fuel country  real_year  \n",
       "0        4  Gasoline   Japan       3.75  \n",
       "1        -         -     USA       3.88  "
      ]
     },
     "execution_count": 6,
     "metadata": {},
     "output_type": "execute_result"
    }
   ],
   "source": [
    "data.head(2)"
   ]
  },
  {
   "cell_type": "markdown",
   "metadata": {},
   "source": [
    "<h1 align=\"center\"><font size='6'>  Retention Rate </h1>\n",
    "<br>\n",
    "\n",
    "<h1 align=\"center\"><font size='3'>  Check the Retention rate of different Brand, Body Type, Model with in 5 years </h1>\n",
    "<br>\n"
   ]
  },
  {
   "cell_type": "code",
   "execution_count": 7,
   "metadata": {},
   "outputs": [],
   "source": [
    "data['car_age_int']=data['real_year'].round(0).astype(int)\n",
    "data['car_age_str']=data['car_age_int'].astype(str)\n"
   ]
  },
  {
   "cell_type": "code",
   "execution_count": 8,
   "metadata": {},
   "outputs": [
    {
     "data": {
      "text/html": [
       "<div>\n",
       "<style scoped>\n",
       "    .dataframe tbody tr th:only-of-type {\n",
       "        vertical-align: middle;\n",
       "    }\n",
       "\n",
       "    .dataframe tbody tr th {\n",
       "        vertical-align: top;\n",
       "    }\n",
       "\n",
       "    .dataframe thead th {\n",
       "        text-align: right;\n",
       "    }\n",
       "</style>\n",
       "<table border=\"1\" class=\"dataframe\">\n",
       "  <thead>\n",
       "    <tr style=\"text-align: right;\">\n",
       "      <th></th>\n",
       "      <th>year</th>\n",
       "      <th>brand</th>\n",
       "      <th>model</th>\n",
       "      <th>location</th>\n",
       "      <th>price</th>\n",
       "      <th>mileage</th>\n",
       "      <th>body_type</th>\n",
       "      <th>exterior_colour</th>\n",
       "      <th>interior_colour</th>\n",
       "      <th>door</th>\n",
       "      <th>passenger</th>\n",
       "      <th>transmission</th>\n",
       "      <th>drive_type</th>\n",
       "      <th>displacement</th>\n",
       "      <th>cylinder</th>\n",
       "      <th>fuel</th>\n",
       "      <th>country</th>\n",
       "      <th>real_year</th>\n",
       "      <th>car_age_int</th>\n",
       "      <th>car_age_str</th>\n",
       "    </tr>\n",
       "  </thead>\n",
       "  <tbody>\n",
       "    <tr>\n",
       "      <th>0</th>\n",
       "      <td>2016</td>\n",
       "      <td>Toyota</td>\n",
       "      <td>Corolla</td>\n",
       "      <td>Aurora</td>\n",
       "      <td>13888</td>\n",
       "      <td>42098</td>\n",
       "      <td>Sedan</td>\n",
       "      <td>-</td>\n",
       "      <td>-</td>\n",
       "      <td>4</td>\n",
       "      <td>5</td>\n",
       "      <td>Automatic</td>\n",
       "      <td>FWD</td>\n",
       "      <td>1.8</td>\n",
       "      <td>4</td>\n",
       "      <td>Gasoline</td>\n",
       "      <td>Japan</td>\n",
       "      <td>3.75</td>\n",
       "      <td>4</td>\n",
       "      <td>4</td>\n",
       "    </tr>\n",
       "    <tr>\n",
       "      <th>1</th>\n",
       "      <td>2017</td>\n",
       "      <td>Dodge</td>\n",
       "      <td>Grand</td>\n",
       "      <td>Dodge</td>\n",
       "      <td>17885</td>\n",
       "      <td>57100</td>\n",
       "      <td>-</td>\n",
       "      <td>-</td>\n",
       "      <td>-</td>\n",
       "      <td>-</td>\n",
       "      <td>-</td>\n",
       "      <td>Automatic</td>\n",
       "      <td>-</td>\n",
       "      <td>-</td>\n",
       "      <td>-</td>\n",
       "      <td>-</td>\n",
       "      <td>USA</td>\n",
       "      <td>3.88</td>\n",
       "      <td>4</td>\n",
       "      <td>4</td>\n",
       "    </tr>\n",
       "    <tr>\n",
       "      <th>2</th>\n",
       "      <td>2017</td>\n",
       "      <td>Toyota</td>\n",
       "      <td>Camry</td>\n",
       "      <td>Toyota</td>\n",
       "      <td>22888</td>\n",
       "      <td>95532</td>\n",
       "      <td>Sedan</td>\n",
       "      <td>White</td>\n",
       "      <td>Gray</td>\n",
       "      <td>4</td>\n",
       "      <td>5</td>\n",
       "      <td>Automatic</td>\n",
       "      <td>FWD</td>\n",
       "      <td>2.5</td>\n",
       "      <td>4</td>\n",
       "      <td>Gasoline</td>\n",
       "      <td>Japan</td>\n",
       "      <td>5.48</td>\n",
       "      <td>5</td>\n",
       "      <td>5</td>\n",
       "    </tr>\n",
       "    <tr>\n",
       "      <th>3</th>\n",
       "      <td>2016</td>\n",
       "      <td>Toyota</td>\n",
       "      <td>Camry</td>\n",
       "      <td>Aurora</td>\n",
       "      <td>19888</td>\n",
       "      <td>48315</td>\n",
       "      <td>Sedan</td>\n",
       "      <td>White</td>\n",
       "      <td>Black</td>\n",
       "      <td>4</td>\n",
       "      <td>5</td>\n",
       "      <td>Automatic</td>\n",
       "      <td>FWD</td>\n",
       "      <td>2.5</td>\n",
       "      <td>4</td>\n",
       "      <td>Gasoline</td>\n",
       "      <td>Japan</td>\n",
       "      <td>4.01</td>\n",
       "      <td>4</td>\n",
       "      <td>4</td>\n",
       "    </tr>\n",
       "    <tr>\n",
       "      <th>4</th>\n",
       "      <td>2009</td>\n",
       "      <td>Dodge</td>\n",
       "      <td>Grand</td>\n",
       "      <td>Dodge</td>\n",
       "      <td>5395</td>\n",
       "      <td>179686</td>\n",
       "      <td>-</td>\n",
       "      <td>-</td>\n",
       "      <td>Gray</td>\n",
       "      <td>5</td>\n",
       "      <td>7</td>\n",
       "      <td>Automatic</td>\n",
       "      <td>FWD</td>\n",
       "      <td>-</td>\n",
       "      <td>-</td>\n",
       "      <td>Gasoline</td>\n",
       "      <td>USA</td>\n",
       "      <td>12.99</td>\n",
       "      <td>13</td>\n",
       "      <td>13</td>\n",
       "    </tr>\n",
       "    <tr>\n",
       "      <th>...</th>\n",
       "      <td>...</td>\n",
       "      <td>...</td>\n",
       "      <td>...</td>\n",
       "      <td>...</td>\n",
       "      <td>...</td>\n",
       "      <td>...</td>\n",
       "      <td>...</td>\n",
       "      <td>...</td>\n",
       "      <td>...</td>\n",
       "      <td>...</td>\n",
       "      <td>...</td>\n",
       "      <td>...</td>\n",
       "      <td>...</td>\n",
       "      <td>...</td>\n",
       "      <td>...</td>\n",
       "      <td>...</td>\n",
       "      <td>...</td>\n",
       "      <td>...</td>\n",
       "      <td>...</td>\n",
       "      <td>...</td>\n",
       "    </tr>\n",
       "    <tr>\n",
       "      <th>23973</th>\n",
       "      <td>2008</td>\n",
       "      <td>Ford</td>\n",
       "      <td>Ranger</td>\n",
       "      <td>Windsor</td>\n",
       "      <td>6999</td>\n",
       "      <td>126182</td>\n",
       "      <td>Truck</td>\n",
       "      <td>Gray</td>\n",
       "      <td>Gray</td>\n",
       "      <td>4</td>\n",
       "      <td>4</td>\n",
       "      <td>Manual</td>\n",
       "      <td>RWD</td>\n",
       "      <td>4.0</td>\n",
       "      <td>6</td>\n",
       "      <td>Gasoline</td>\n",
       "      <td>USA</td>\n",
       "      <td>11.26</td>\n",
       "      <td>11</td>\n",
       "      <td>11</td>\n",
       "    </tr>\n",
       "    <tr>\n",
       "      <th>23974</th>\n",
       "      <td>2006</td>\n",
       "      <td>Honda</td>\n",
       "      <td>Civic</td>\n",
       "      <td>Honda</td>\n",
       "      <td>3499</td>\n",
       "      <td>250000</td>\n",
       "      <td>Sedan</td>\n",
       "      <td>Silver</td>\n",
       "      <td>Black</td>\n",
       "      <td>4</td>\n",
       "      <td>4</td>\n",
       "      <td>Manual</td>\n",
       "      <td>FWD</td>\n",
       "      <td>1.8</td>\n",
       "      <td>4</td>\n",
       "      <td>Gasoline</td>\n",
       "      <td>Japan</td>\n",
       "      <td>17.42</td>\n",
       "      <td>17</td>\n",
       "      <td>17</td>\n",
       "    </tr>\n",
       "    <tr>\n",
       "      <th>23975</th>\n",
       "      <td>2004</td>\n",
       "      <td>Audi</td>\n",
       "      <td>A4</td>\n",
       "      <td>Windsor</td>\n",
       "      <td>4299</td>\n",
       "      <td>217000</td>\n",
       "      <td>Sedan</td>\n",
       "      <td>Silver</td>\n",
       "      <td>Black</td>\n",
       "      <td>4</td>\n",
       "      <td>4</td>\n",
       "      <td>Automatic</td>\n",
       "      <td>AWD</td>\n",
       "      <td>1.8</td>\n",
       "      <td>4</td>\n",
       "      <td>Gasoline</td>\n",
       "      <td>Germany</td>\n",
       "      <td>17.04</td>\n",
       "      <td>17</td>\n",
       "      <td>17</td>\n",
       "    </tr>\n",
       "    <tr>\n",
       "      <th>23976</th>\n",
       "      <td>2007</td>\n",
       "      <td>Chevrolet</td>\n",
       "      <td>Cobalt</td>\n",
       "      <td>Windsor</td>\n",
       "      <td>3999</td>\n",
       "      <td>106402</td>\n",
       "      <td>Sedan</td>\n",
       "      <td>White</td>\n",
       "      <td>Silver</td>\n",
       "      <td>4</td>\n",
       "      <td>4</td>\n",
       "      <td>Automatic</td>\n",
       "      <td>FWD</td>\n",
       "      <td>2.2</td>\n",
       "      <td>4</td>\n",
       "      <td>Gasoline</td>\n",
       "      <td>USA</td>\n",
       "      <td>10.93</td>\n",
       "      <td>11</td>\n",
       "      <td>11</td>\n",
       "    </tr>\n",
       "    <tr>\n",
       "      <th>23977</th>\n",
       "      <td>2008</td>\n",
       "      <td>Jeep</td>\n",
       "      <td>Grand</td>\n",
       "      <td>Jeep</td>\n",
       "      <td>10499</td>\n",
       "      <td>179200</td>\n",
       "      <td>SUV</td>\n",
       "      <td>Green</td>\n",
       "      <td>Brown</td>\n",
       "      <td>4</td>\n",
       "      <td>4</td>\n",
       "      <td>Automatic</td>\n",
       "      <td>4x4</td>\n",
       "      <td>3.0</td>\n",
       "      <td>6</td>\n",
       "      <td>Diesel</td>\n",
       "      <td>USA</td>\n",
       "      <td>13.47</td>\n",
       "      <td>13</td>\n",
       "      <td>13</td>\n",
       "    </tr>\n",
       "  </tbody>\n",
       "</table>\n",
       "<p>23978 rows × 20 columns</p>\n",
       "</div>"
      ],
      "text/plain": [
       "       year      brand    model location  price  mileage body_type  \\\n",
       "0      2016     Toyota  Corolla   Aurora  13888    42098     Sedan   \n",
       "1      2017      Dodge    Grand    Dodge  17885    57100         -   \n",
       "2      2017     Toyota    Camry   Toyota  22888    95532     Sedan   \n",
       "3      2016     Toyota    Camry   Aurora  19888    48315     Sedan   \n",
       "4      2009      Dodge    Grand    Dodge   5395   179686         -   \n",
       "...     ...        ...      ...      ...    ...      ...       ...   \n",
       "23973  2008       Ford   Ranger  Windsor   6999   126182     Truck   \n",
       "23974  2006      Honda    Civic    Honda   3499   250000     Sedan   \n",
       "23975  2004       Audi       A4  Windsor   4299   217000     Sedan   \n",
       "23976  2007  Chevrolet   Cobalt  Windsor   3999   106402     Sedan   \n",
       "23977  2008       Jeep    Grand     Jeep  10499   179200       SUV   \n",
       "\n",
       "      exterior_colour interior_colour door passenger transmission drive_type  \\\n",
       "0                   -               -    4         5    Automatic        FWD   \n",
       "1                   -               -    -         -    Automatic          -   \n",
       "2               White            Gray    4         5    Automatic        FWD   \n",
       "3               White           Black    4         5    Automatic        FWD   \n",
       "4                   -            Gray    5         7    Automatic        FWD   \n",
       "...               ...             ...  ...       ...          ...        ...   \n",
       "23973            Gray            Gray    4         4       Manual        RWD   \n",
       "23974          Silver           Black    4         4       Manual        FWD   \n",
       "23975          Silver           Black    4         4    Automatic        AWD   \n",
       "23976           White          Silver    4         4    Automatic        FWD   \n",
       "23977           Green           Brown    4         4    Automatic        4x4   \n",
       "\n",
       "      displacement cylinder      fuel  country  real_year  car_age_int  \\\n",
       "0              1.8        4  Gasoline    Japan       3.75            4   \n",
       "1                -        -         -      USA       3.88            4   \n",
       "2              2.5        4  Gasoline    Japan       5.48            5   \n",
       "3              2.5        4  Gasoline    Japan       4.01            4   \n",
       "4                -        -  Gasoline      USA      12.99           13   \n",
       "...            ...      ...       ...      ...        ...          ...   \n",
       "23973          4.0        6  Gasoline      USA      11.26           11   \n",
       "23974          1.8        4  Gasoline    Japan      17.42           17   \n",
       "23975          1.8        4  Gasoline  Germany      17.04           17   \n",
       "23976          2.2        4  Gasoline      USA      10.93           11   \n",
       "23977          3.0        6    Diesel      USA      13.47           13   \n",
       "\n",
       "      car_age_str  \n",
       "0               4  \n",
       "1               4  \n",
       "2               5  \n",
       "3               4  \n",
       "4              13  \n",
       "...           ...  \n",
       "23973          11  \n",
       "23974          17  \n",
       "23975          17  \n",
       "23976          11  \n",
       "23977          13  \n",
       "\n",
       "[23978 rows x 20 columns]"
      ]
     },
     "execution_count": 8,
     "metadata": {},
     "output_type": "execute_result"
    }
   ],
   "source": [
    "data"
   ]
  },
  {
   "cell_type": "code",
   "execution_count": null,
   "metadata": {},
   "outputs": [],
   "source": []
  },
  {
   "cell_type": "code",
   "execution_count": 9,
   "metadata": {},
   "outputs": [],
   "source": [
    "# filter data with in 5 years\n",
    "data_age_less5=data[data['car_age_int']<=5]"
   ]
  },
  {
   "cell_type": "code",
   "execution_count": 10,
   "metadata": {},
   "outputs": [
    {
     "data": {
      "text/plain": [
       "(13230, 20)"
      ]
     },
     "execution_count": 10,
     "metadata": {},
     "output_type": "execute_result"
    }
   ],
   "source": [
    "data_age_less5.shape"
   ]
  },
  {
   "cell_type": "markdown",
   "metadata": {},
   "source": [
    "<h1 align=\"center\"><font size='4'>  BRAND RETETION </h1>\n",
    "<br>"
   ]
  },
  {
   "cell_type": "code",
   "execution_count": 11,
   "metadata": {},
   "outputs": [],
   "source": [
    "# 1. TOP 5 best and worst 5-years-retention-rate\n",
    "\n",
    "brand_retention5=data_age_less5.groupby(['brand','car_age_str'])['price'].mean().unstack()"
   ]
  },
  {
   "cell_type": "code",
   "execution_count": 12,
   "metadata": {
    "scrolled": true
   },
   "outputs": [
    {
     "data": {
      "text/html": [
       "<div>\n",
       "<style scoped>\n",
       "    .dataframe tbody tr th:only-of-type {\n",
       "        vertical-align: middle;\n",
       "    }\n",
       "\n",
       "    .dataframe tbody tr th {\n",
       "        vertical-align: top;\n",
       "    }\n",
       "\n",
       "    .dataframe thead th {\n",
       "        text-align: right;\n",
       "    }\n",
       "</style>\n",
       "<table border=\"1\" class=\"dataframe\">\n",
       "  <thead>\n",
       "    <tr style=\"text-align: right;\">\n",
       "      <th>car_age_str</th>\n",
       "      <th>0</th>\n",
       "      <th>1</th>\n",
       "      <th>2</th>\n",
       "      <th>3</th>\n",
       "      <th>4</th>\n",
       "      <th>5</th>\n",
       "    </tr>\n",
       "    <tr>\n",
       "      <th>brand</th>\n",
       "      <th></th>\n",
       "      <th></th>\n",
       "      <th></th>\n",
       "      <th></th>\n",
       "      <th></th>\n",
       "      <th></th>\n",
       "    </tr>\n",
       "  </thead>\n",
       "  <tbody>\n",
       "    <tr>\n",
       "      <th>Acura</th>\n",
       "      <td>46995.000000</td>\n",
       "      <td>38609.909091</td>\n",
       "      <td>33724.388889</td>\n",
       "      <td>26147.400000</td>\n",
       "      <td>23664.918919</td>\n",
       "      <td>22355.388060</td>\n",
       "    </tr>\n",
       "    <tr>\n",
       "      <th>Audi</th>\n",
       "      <td>55753.352941</td>\n",
       "      <td>57774.163636</td>\n",
       "      <td>52329.685185</td>\n",
       "      <td>37130.606061</td>\n",
       "      <td>31008.948052</td>\n",
       "      <td>28696.069767</td>\n",
       "    </tr>\n",
       "    <tr>\n",
       "      <th>BMW</th>\n",
       "      <td>60989.496350</td>\n",
       "      <td>56345.115942</td>\n",
       "      <td>45482.652174</td>\n",
       "      <td>37225.490909</td>\n",
       "      <td>33775.284314</td>\n",
       "      <td>30787.266667</td>\n",
       "    </tr>\n",
       "    <tr>\n",
       "      <th>Buick</th>\n",
       "      <td>36912.916667</td>\n",
       "      <td>29596.333333</td>\n",
       "      <td>25565.195122</td>\n",
       "      <td>23500.142857</td>\n",
       "      <td>19703.777778</td>\n",
       "      <td>19321.825000</td>\n",
       "    </tr>\n",
       "    <tr>\n",
       "      <th>Cadillac</th>\n",
       "      <td>69697.789474</td>\n",
       "      <td>57612.750000</td>\n",
       "      <td>38111.488889</td>\n",
       "      <td>32755.625000</td>\n",
       "      <td>33814.119048</td>\n",
       "      <td>26693.388889</td>\n",
       "    </tr>\n",
       "    <tr>\n",
       "      <th>Chevrolet</th>\n",
       "      <td>46427.966667</td>\n",
       "      <td>34526.886525</td>\n",
       "      <td>27483.912442</td>\n",
       "      <td>20696.783505</td>\n",
       "      <td>19950.315068</td>\n",
       "      <td>19349.552764</td>\n",
       "    </tr>\n",
       "    <tr>\n",
       "      <th>Chrysler</th>\n",
       "      <td>41747.000000</td>\n",
       "      <td>32059.454545</td>\n",
       "      <td>31323.377358</td>\n",
       "      <td>29099.384615</td>\n",
       "      <td>22132.535714</td>\n",
       "      <td>17277.882353</td>\n",
       "    </tr>\n",
       "    <tr>\n",
       "      <th>Dodge</th>\n",
       "      <td>55610.500000</td>\n",
       "      <td>37037.188889</td>\n",
       "      <td>30525.420000</td>\n",
       "      <td>24478.084746</td>\n",
       "      <td>21083.000000</td>\n",
       "      <td>20971.556701</td>\n",
       "    </tr>\n",
       "    <tr>\n",
       "      <th>Ford</th>\n",
       "      <td>49946.300000</td>\n",
       "      <td>35681.005291</td>\n",
       "      <td>33367.587121</td>\n",
       "      <td>26984.555970</td>\n",
       "      <td>24782.478417</td>\n",
       "      <td>21658.846154</td>\n",
       "    </tr>\n",
       "    <tr>\n",
       "      <th>GMC</th>\n",
       "      <td>54171.885714</td>\n",
       "      <td>37658.120690</td>\n",
       "      <td>32324.341463</td>\n",
       "      <td>32884.871429</td>\n",
       "      <td>32122.758242</td>\n",
       "      <td>29445.232143</td>\n",
       "    </tr>\n",
       "    <tr>\n",
       "      <th>Honda</th>\n",
       "      <td>39313.405797</td>\n",
       "      <td>30641.225490</td>\n",
       "      <td>26726.447761</td>\n",
       "      <td>24086.134615</td>\n",
       "      <td>21475.182266</td>\n",
       "      <td>19524.698795</td>\n",
       "    </tr>\n",
       "    <tr>\n",
       "      <th>Hyundai</th>\n",
       "      <td>24582.000000</td>\n",
       "      <td>23738.060345</td>\n",
       "      <td>21090.781915</td>\n",
       "      <td>18394.780612</td>\n",
       "      <td>17303.300000</td>\n",
       "      <td>16396.263158</td>\n",
       "    </tr>\n",
       "    <tr>\n",
       "      <th>Infiniti</th>\n",
       "      <td>51500.000000</td>\n",
       "      <td>42066.500000</td>\n",
       "      <td>33936.466667</td>\n",
       "      <td>32167.818182</td>\n",
       "      <td>27264.300000</td>\n",
       "      <td>24479.736842</td>\n",
       "    </tr>\n",
       "    <tr>\n",
       "      <th>Jeep</th>\n",
       "      <td>48068.078947</td>\n",
       "      <td>37538.464286</td>\n",
       "      <td>34471.391667</td>\n",
       "      <td>29698.116883</td>\n",
       "      <td>27062.014493</td>\n",
       "      <td>22165.383838</td>\n",
       "    </tr>\n",
       "    <tr>\n",
       "      <th>Kia</th>\n",
       "      <td>28783.187500</td>\n",
       "      <td>22631.299145</td>\n",
       "      <td>21237.617391</td>\n",
       "      <td>18612.715517</td>\n",
       "      <td>17049.385185</td>\n",
       "      <td>15623.535088</td>\n",
       "    </tr>\n",
       "    <tr>\n",
       "      <th>Land</th>\n",
       "      <td>74387.500000</td>\n",
       "      <td>74778.100000</td>\n",
       "      <td>54998.187500</td>\n",
       "      <td>56771.214286</td>\n",
       "      <td>47010.967742</td>\n",
       "      <td>40823.727273</td>\n",
       "    </tr>\n",
       "    <tr>\n",
       "      <th>Lexus</th>\n",
       "      <td>52797.000000</td>\n",
       "      <td>62265.714286</td>\n",
       "      <td>48621.000000</td>\n",
       "      <td>39211.680851</td>\n",
       "      <td>37442.690909</td>\n",
       "      <td>34244.974359</td>\n",
       "    </tr>\n",
       "    <tr>\n",
       "      <th>Lincoln</th>\n",
       "      <td>55315.333333</td>\n",
       "      <td>59421.400000</td>\n",
       "      <td>35908.285714</td>\n",
       "      <td>33771.187500</td>\n",
       "      <td>28493.960000</td>\n",
       "      <td>23200.733333</td>\n",
       "    </tr>\n",
       "    <tr>\n",
       "      <th>MINI</th>\n",
       "      <td>32907.937500</td>\n",
       "      <td>29305.000000</td>\n",
       "      <td>30000.000000</td>\n",
       "      <td>20353.800000</td>\n",
       "      <td>16997.062500</td>\n",
       "      <td>14583.470588</td>\n",
       "    </tr>\n",
       "    <tr>\n",
       "      <th>Mazda</th>\n",
       "      <td>38257.409091</td>\n",
       "      <td>27774.875000</td>\n",
       "      <td>24331.921875</td>\n",
       "      <td>20909.529412</td>\n",
       "      <td>19007.862069</td>\n",
       "      <td>18023.800000</td>\n",
       "    </tr>\n",
       "    <tr>\n",
       "      <th>Mercedes-Benz</th>\n",
       "      <td>54370.035714</td>\n",
       "      <td>58536.796296</td>\n",
       "      <td>57292.680000</td>\n",
       "      <td>51322.485714</td>\n",
       "      <td>38970.678261</td>\n",
       "      <td>30365.783784</td>\n",
       "    </tr>\n",
       "    <tr>\n",
       "      <th>Mitsubishi</th>\n",
       "      <td>35938.500000</td>\n",
       "      <td>24212.972222</td>\n",
       "      <td>21956.507042</td>\n",
       "      <td>19633.684211</td>\n",
       "      <td>17679.840000</td>\n",
       "      <td>15021.560000</td>\n",
       "    </tr>\n",
       "    <tr>\n",
       "      <th>Nissan</th>\n",
       "      <td>31624.650000</td>\n",
       "      <td>28002.530435</td>\n",
       "      <td>22277.291925</td>\n",
       "      <td>20344.336634</td>\n",
       "      <td>19197.620112</td>\n",
       "      <td>17709.788945</td>\n",
       "    </tr>\n",
       "    <tr>\n",
       "      <th>Porsche</th>\n",
       "      <td>124912.083333</td>\n",
       "      <td>108170.170213</td>\n",
       "      <td>92977.205882</td>\n",
       "      <td>83063.576923</td>\n",
       "      <td>68672.192308</td>\n",
       "      <td>60185.000000</td>\n",
       "    </tr>\n",
       "    <tr>\n",
       "      <th>Ram</th>\n",
       "      <td>63956.904762</td>\n",
       "      <td>47174.183673</td>\n",
       "      <td>35782.632075</td>\n",
       "      <td>33340.638554</td>\n",
       "      <td>33539.663158</td>\n",
       "      <td>29783.106667</td>\n",
       "    </tr>\n",
       "    <tr>\n",
       "      <th>Subaru</th>\n",
       "      <td>38798.615385</td>\n",
       "      <td>31670.400000</td>\n",
       "      <td>28985.833333</td>\n",
       "      <td>23891.070175</td>\n",
       "      <td>21860.280000</td>\n",
       "      <td>20931.272727</td>\n",
       "    </tr>\n",
       "    <tr>\n",
       "      <th>Toyota</th>\n",
       "      <td>37081.084615</td>\n",
       "      <td>28735.327731</td>\n",
       "      <td>25475.805556</td>\n",
       "      <td>25872.266304</td>\n",
       "      <td>22679.992126</td>\n",
       "      <td>21092.197183</td>\n",
       "    </tr>\n",
       "    <tr>\n",
       "      <th>Volkswagen</th>\n",
       "      <td>39680.500000</td>\n",
       "      <td>30756.168421</td>\n",
       "      <td>22625.696970</td>\n",
       "      <td>22828.157895</td>\n",
       "      <td>18688.181818</td>\n",
       "      <td>15871.757962</td>\n",
       "    </tr>\n",
       "    <tr>\n",
       "      <th>Volvo</th>\n",
       "      <td>69998.000000</td>\n",
       "      <td>59623.000000</td>\n",
       "      <td>48284.000000</td>\n",
       "      <td>38705.166667</td>\n",
       "      <td>37282.307692</td>\n",
       "      <td>30725.333333</td>\n",
       "    </tr>\n",
       "  </tbody>\n",
       "</table>\n",
       "</div>"
      ],
      "text/plain": [
       "car_age_str                0              1             2             3  \\\n",
       "brand                                                                     \n",
       "Acura           46995.000000   38609.909091  33724.388889  26147.400000   \n",
       "Audi            55753.352941   57774.163636  52329.685185  37130.606061   \n",
       "BMW             60989.496350   56345.115942  45482.652174  37225.490909   \n",
       "Buick           36912.916667   29596.333333  25565.195122  23500.142857   \n",
       "Cadillac        69697.789474   57612.750000  38111.488889  32755.625000   \n",
       "Chevrolet       46427.966667   34526.886525  27483.912442  20696.783505   \n",
       "Chrysler        41747.000000   32059.454545  31323.377358  29099.384615   \n",
       "Dodge           55610.500000   37037.188889  30525.420000  24478.084746   \n",
       "Ford            49946.300000   35681.005291  33367.587121  26984.555970   \n",
       "GMC             54171.885714   37658.120690  32324.341463  32884.871429   \n",
       "Honda           39313.405797   30641.225490  26726.447761  24086.134615   \n",
       "Hyundai         24582.000000   23738.060345  21090.781915  18394.780612   \n",
       "Infiniti        51500.000000   42066.500000  33936.466667  32167.818182   \n",
       "Jeep            48068.078947   37538.464286  34471.391667  29698.116883   \n",
       "Kia             28783.187500   22631.299145  21237.617391  18612.715517   \n",
       "Land            74387.500000   74778.100000  54998.187500  56771.214286   \n",
       "Lexus           52797.000000   62265.714286  48621.000000  39211.680851   \n",
       "Lincoln         55315.333333   59421.400000  35908.285714  33771.187500   \n",
       "MINI            32907.937500   29305.000000  30000.000000  20353.800000   \n",
       "Mazda           38257.409091   27774.875000  24331.921875  20909.529412   \n",
       "Mercedes-Benz   54370.035714   58536.796296  57292.680000  51322.485714   \n",
       "Mitsubishi      35938.500000   24212.972222  21956.507042  19633.684211   \n",
       "Nissan          31624.650000   28002.530435  22277.291925  20344.336634   \n",
       "Porsche        124912.083333  108170.170213  92977.205882  83063.576923   \n",
       "Ram             63956.904762   47174.183673  35782.632075  33340.638554   \n",
       "Subaru          38798.615385   31670.400000  28985.833333  23891.070175   \n",
       "Toyota          37081.084615   28735.327731  25475.805556  25872.266304   \n",
       "Volkswagen      39680.500000   30756.168421  22625.696970  22828.157895   \n",
       "Volvo           69998.000000   59623.000000  48284.000000  38705.166667   \n",
       "\n",
       "car_age_str               4             5  \n",
       "brand                                      \n",
       "Acura          23664.918919  22355.388060  \n",
       "Audi           31008.948052  28696.069767  \n",
       "BMW            33775.284314  30787.266667  \n",
       "Buick          19703.777778  19321.825000  \n",
       "Cadillac       33814.119048  26693.388889  \n",
       "Chevrolet      19950.315068  19349.552764  \n",
       "Chrysler       22132.535714  17277.882353  \n",
       "Dodge          21083.000000  20971.556701  \n",
       "Ford           24782.478417  21658.846154  \n",
       "GMC            32122.758242  29445.232143  \n",
       "Honda          21475.182266  19524.698795  \n",
       "Hyundai        17303.300000  16396.263158  \n",
       "Infiniti       27264.300000  24479.736842  \n",
       "Jeep           27062.014493  22165.383838  \n",
       "Kia            17049.385185  15623.535088  \n",
       "Land           47010.967742  40823.727273  \n",
       "Lexus          37442.690909  34244.974359  \n",
       "Lincoln        28493.960000  23200.733333  \n",
       "MINI           16997.062500  14583.470588  \n",
       "Mazda          19007.862069  18023.800000  \n",
       "Mercedes-Benz  38970.678261  30365.783784  \n",
       "Mitsubishi     17679.840000  15021.560000  \n",
       "Nissan         19197.620112  17709.788945  \n",
       "Porsche        68672.192308  60185.000000  \n",
       "Ram            33539.663158  29783.106667  \n",
       "Subaru         21860.280000  20931.272727  \n",
       "Toyota         22679.992126  21092.197183  \n",
       "Volkswagen     18688.181818  15871.757962  \n",
       "Volvo          37282.307692  30725.333333  "
      ]
     },
     "execution_count": 12,
     "metadata": {},
     "output_type": "execute_result"
    }
   ],
   "source": [
    "brand_retention5"
   ]
  },
  {
   "cell_type": "code",
   "execution_count": 13,
   "metadata": {},
   "outputs": [],
   "source": [
    "brand_retention5['ratention_rate']=brand_retention5['5']/brand_retention5['0']"
   ]
  },
  {
   "cell_type": "code",
   "execution_count": 14,
   "metadata": {},
   "outputs": [
    {
     "data": {
      "text/html": [
       "<div>\n",
       "<style scoped>\n",
       "    .dataframe tbody tr th:only-of-type {\n",
       "        vertical-align: middle;\n",
       "    }\n",
       "\n",
       "    .dataframe tbody tr th {\n",
       "        vertical-align: top;\n",
       "    }\n",
       "\n",
       "    .dataframe thead th {\n",
       "        text-align: right;\n",
       "    }\n",
       "</style>\n",
       "<table border=\"1\" class=\"dataframe\">\n",
       "  <thead>\n",
       "    <tr style=\"text-align: right;\">\n",
       "      <th>car_age_str</th>\n",
       "      <th>0</th>\n",
       "      <th>1</th>\n",
       "      <th>2</th>\n",
       "      <th>3</th>\n",
       "      <th>4</th>\n",
       "      <th>5</th>\n",
       "      <th>ratention_rate</th>\n",
       "    </tr>\n",
       "    <tr>\n",
       "      <th>brand</th>\n",
       "      <th></th>\n",
       "      <th></th>\n",
       "      <th></th>\n",
       "      <th></th>\n",
       "      <th></th>\n",
       "      <th></th>\n",
       "      <th></th>\n",
       "    </tr>\n",
       "  </thead>\n",
       "  <tbody>\n",
       "    <tr>\n",
       "      <th>Dodge</th>\n",
       "      <td>55610.500000</td>\n",
       "      <td>37037.188889</td>\n",
       "      <td>30525.420000</td>\n",
       "      <td>24478.084746</td>\n",
       "      <td>21083.000000</td>\n",
       "      <td>20971.556701</td>\n",
       "      <td>0.377115</td>\n",
       "    </tr>\n",
       "    <tr>\n",
       "      <th>Cadillac</th>\n",
       "      <td>69697.789474</td>\n",
       "      <td>57612.750000</td>\n",
       "      <td>38111.488889</td>\n",
       "      <td>32755.625000</td>\n",
       "      <td>33814.119048</td>\n",
       "      <td>26693.388889</td>\n",
       "      <td>0.382988</td>\n",
       "    </tr>\n",
       "    <tr>\n",
       "      <th>Volkswagen</th>\n",
       "      <td>39680.500000</td>\n",
       "      <td>30756.168421</td>\n",
       "      <td>22625.696970</td>\n",
       "      <td>22828.157895</td>\n",
       "      <td>18688.181818</td>\n",
       "      <td>15871.757962</td>\n",
       "      <td>0.399989</td>\n",
       "    </tr>\n",
       "    <tr>\n",
       "      <th>Chrysler</th>\n",
       "      <td>41747.000000</td>\n",
       "      <td>32059.454545</td>\n",
       "      <td>31323.377358</td>\n",
       "      <td>29099.384615</td>\n",
       "      <td>22132.535714</td>\n",
       "      <td>17277.882353</td>\n",
       "      <td>0.413871</td>\n",
       "    </tr>\n",
       "    <tr>\n",
       "      <th>Chevrolet</th>\n",
       "      <td>46427.966667</td>\n",
       "      <td>34526.886525</td>\n",
       "      <td>27483.912442</td>\n",
       "      <td>20696.783505</td>\n",
       "      <td>19950.315068</td>\n",
       "      <td>19349.552764</td>\n",
       "      <td>0.416765</td>\n",
       "    </tr>\n",
       "    <tr>\n",
       "      <th>Mitsubishi</th>\n",
       "      <td>35938.500000</td>\n",
       "      <td>24212.972222</td>\n",
       "      <td>21956.507042</td>\n",
       "      <td>19633.684211</td>\n",
       "      <td>17679.840000</td>\n",
       "      <td>15021.560000</td>\n",
       "      <td>0.417980</td>\n",
       "    </tr>\n",
       "    <tr>\n",
       "      <th>Lincoln</th>\n",
       "      <td>55315.333333</td>\n",
       "      <td>59421.400000</td>\n",
       "      <td>35908.285714</td>\n",
       "      <td>33771.187500</td>\n",
       "      <td>28493.960000</td>\n",
       "      <td>23200.733333</td>\n",
       "      <td>0.419427</td>\n",
       "    </tr>\n",
       "    <tr>\n",
       "      <th>Ford</th>\n",
       "      <td>49946.300000</td>\n",
       "      <td>35681.005291</td>\n",
       "      <td>33367.587121</td>\n",
       "      <td>26984.555970</td>\n",
       "      <td>24782.478417</td>\n",
       "      <td>21658.846154</td>\n",
       "      <td>0.433643</td>\n",
       "    </tr>\n",
       "    <tr>\n",
       "      <th>Volvo</th>\n",
       "      <td>69998.000000</td>\n",
       "      <td>59623.000000</td>\n",
       "      <td>48284.000000</td>\n",
       "      <td>38705.166667</td>\n",
       "      <td>37282.307692</td>\n",
       "      <td>30725.333333</td>\n",
       "      <td>0.438946</td>\n",
       "    </tr>\n",
       "    <tr>\n",
       "      <th>MINI</th>\n",
       "      <td>32907.937500</td>\n",
       "      <td>29305.000000</td>\n",
       "      <td>30000.000000</td>\n",
       "      <td>20353.800000</td>\n",
       "      <td>16997.062500</td>\n",
       "      <td>14583.470588</td>\n",
       "      <td>0.443160</td>\n",
       "    </tr>\n",
       "    <tr>\n",
       "      <th>Jeep</th>\n",
       "      <td>48068.078947</td>\n",
       "      <td>37538.464286</td>\n",
       "      <td>34471.391667</td>\n",
       "      <td>29698.116883</td>\n",
       "      <td>27062.014493</td>\n",
       "      <td>22165.383838</td>\n",
       "      <td>0.461125</td>\n",
       "    </tr>\n",
       "    <tr>\n",
       "      <th>Ram</th>\n",
       "      <td>63956.904762</td>\n",
       "      <td>47174.183673</td>\n",
       "      <td>35782.632075</td>\n",
       "      <td>33340.638554</td>\n",
       "      <td>33539.663158</td>\n",
       "      <td>29783.106667</td>\n",
       "      <td>0.465675</td>\n",
       "    </tr>\n",
       "    <tr>\n",
       "      <th>Mazda</th>\n",
       "      <td>38257.409091</td>\n",
       "      <td>27774.875000</td>\n",
       "      <td>24331.921875</td>\n",
       "      <td>20909.529412</td>\n",
       "      <td>19007.862069</td>\n",
       "      <td>18023.800000</td>\n",
       "      <td>0.471119</td>\n",
       "    </tr>\n",
       "    <tr>\n",
       "      <th>Infiniti</th>\n",
       "      <td>51500.000000</td>\n",
       "      <td>42066.500000</td>\n",
       "      <td>33936.466667</td>\n",
       "      <td>32167.818182</td>\n",
       "      <td>27264.300000</td>\n",
       "      <td>24479.736842</td>\n",
       "      <td>0.475335</td>\n",
       "    </tr>\n",
       "    <tr>\n",
       "      <th>Acura</th>\n",
       "      <td>46995.000000</td>\n",
       "      <td>38609.909091</td>\n",
       "      <td>33724.388889</td>\n",
       "      <td>26147.400000</td>\n",
       "      <td>23664.918919</td>\n",
       "      <td>22355.388060</td>\n",
       "      <td>0.475697</td>\n",
       "    </tr>\n",
       "    <tr>\n",
       "      <th>Porsche</th>\n",
       "      <td>124912.083333</td>\n",
       "      <td>108170.170213</td>\n",
       "      <td>92977.205882</td>\n",
       "      <td>83063.576923</td>\n",
       "      <td>68672.192308</td>\n",
       "      <td>60185.000000</td>\n",
       "      <td>0.481819</td>\n",
       "    </tr>\n",
       "    <tr>\n",
       "      <th>Honda</th>\n",
       "      <td>39313.405797</td>\n",
       "      <td>30641.225490</td>\n",
       "      <td>26726.447761</td>\n",
       "      <td>24086.134615</td>\n",
       "      <td>21475.182266</td>\n",
       "      <td>19524.698795</td>\n",
       "      <td>0.496642</td>\n",
       "    </tr>\n",
       "    <tr>\n",
       "      <th>BMW</th>\n",
       "      <td>60989.496350</td>\n",
       "      <td>56345.115942</td>\n",
       "      <td>45482.652174</td>\n",
       "      <td>37225.490909</td>\n",
       "      <td>33775.284314</td>\n",
       "      <td>30787.266667</td>\n",
       "      <td>0.504796</td>\n",
       "    </tr>\n",
       "    <tr>\n",
       "      <th>Audi</th>\n",
       "      <td>55753.352941</td>\n",
       "      <td>57774.163636</td>\n",
       "      <td>52329.685185</td>\n",
       "      <td>37130.606061</td>\n",
       "      <td>31008.948052</td>\n",
       "      <td>28696.069767</td>\n",
       "      <td>0.514697</td>\n",
       "    </tr>\n",
       "    <tr>\n",
       "      <th>Buick</th>\n",
       "      <td>36912.916667</td>\n",
       "      <td>29596.333333</td>\n",
       "      <td>25565.195122</td>\n",
       "      <td>23500.142857</td>\n",
       "      <td>19703.777778</td>\n",
       "      <td>19321.825000</td>\n",
       "      <td>0.523443</td>\n",
       "    </tr>\n",
       "    <tr>\n",
       "      <th>Subaru</th>\n",
       "      <td>38798.615385</td>\n",
       "      <td>31670.400000</td>\n",
       "      <td>28985.833333</td>\n",
       "      <td>23891.070175</td>\n",
       "      <td>21860.280000</td>\n",
       "      <td>20931.272727</td>\n",
       "      <td>0.539485</td>\n",
       "    </tr>\n",
       "    <tr>\n",
       "      <th>Kia</th>\n",
       "      <td>28783.187500</td>\n",
       "      <td>22631.299145</td>\n",
       "      <td>21237.617391</td>\n",
       "      <td>18612.715517</td>\n",
       "      <td>17049.385185</td>\n",
       "      <td>15623.535088</td>\n",
       "      <td>0.542801</td>\n",
       "    </tr>\n",
       "    <tr>\n",
       "      <th>GMC</th>\n",
       "      <td>54171.885714</td>\n",
       "      <td>37658.120690</td>\n",
       "      <td>32324.341463</td>\n",
       "      <td>32884.871429</td>\n",
       "      <td>32122.758242</td>\n",
       "      <td>29445.232143</td>\n",
       "      <td>0.543552</td>\n",
       "    </tr>\n",
       "    <tr>\n",
       "      <th>Land</th>\n",
       "      <td>74387.500000</td>\n",
       "      <td>74778.100000</td>\n",
       "      <td>54998.187500</td>\n",
       "      <td>56771.214286</td>\n",
       "      <td>47010.967742</td>\n",
       "      <td>40823.727273</td>\n",
       "      <td>0.548798</td>\n",
       "    </tr>\n",
       "    <tr>\n",
       "      <th>Mercedes-Benz</th>\n",
       "      <td>54370.035714</td>\n",
       "      <td>58536.796296</td>\n",
       "      <td>57292.680000</td>\n",
       "      <td>51322.485714</td>\n",
       "      <td>38970.678261</td>\n",
       "      <td>30365.783784</td>\n",
       "      <td>0.558502</td>\n",
       "    </tr>\n",
       "    <tr>\n",
       "      <th>Nissan</th>\n",
       "      <td>31624.650000</td>\n",
       "      <td>28002.530435</td>\n",
       "      <td>22277.291925</td>\n",
       "      <td>20344.336634</td>\n",
       "      <td>19197.620112</td>\n",
       "      <td>17709.788945</td>\n",
       "      <td>0.560000</td>\n",
       "    </tr>\n",
       "    <tr>\n",
       "      <th>Toyota</th>\n",
       "      <td>37081.084615</td>\n",
       "      <td>28735.327731</td>\n",
       "      <td>25475.805556</td>\n",
       "      <td>25872.266304</td>\n",
       "      <td>22679.992126</td>\n",
       "      <td>21092.197183</td>\n",
       "      <td>0.568813</td>\n",
       "    </tr>\n",
       "    <tr>\n",
       "      <th>Lexus</th>\n",
       "      <td>52797.000000</td>\n",
       "      <td>62265.714286</td>\n",
       "      <td>48621.000000</td>\n",
       "      <td>39211.680851</td>\n",
       "      <td>37442.690909</td>\n",
       "      <td>34244.974359</td>\n",
       "      <td>0.648616</td>\n",
       "    </tr>\n",
       "    <tr>\n",
       "      <th>Hyundai</th>\n",
       "      <td>24582.000000</td>\n",
       "      <td>23738.060345</td>\n",
       "      <td>21090.781915</td>\n",
       "      <td>18394.780612</td>\n",
       "      <td>17303.300000</td>\n",
       "      <td>16396.263158</td>\n",
       "      <td>0.667003</td>\n",
       "    </tr>\n",
       "  </tbody>\n",
       "</table>\n",
       "</div>"
      ],
      "text/plain": [
       "car_age_str                0              1             2             3  \\\n",
       "brand                                                                     \n",
       "Dodge           55610.500000   37037.188889  30525.420000  24478.084746   \n",
       "Cadillac        69697.789474   57612.750000  38111.488889  32755.625000   \n",
       "Volkswagen      39680.500000   30756.168421  22625.696970  22828.157895   \n",
       "Chrysler        41747.000000   32059.454545  31323.377358  29099.384615   \n",
       "Chevrolet       46427.966667   34526.886525  27483.912442  20696.783505   \n",
       "Mitsubishi      35938.500000   24212.972222  21956.507042  19633.684211   \n",
       "Lincoln         55315.333333   59421.400000  35908.285714  33771.187500   \n",
       "Ford            49946.300000   35681.005291  33367.587121  26984.555970   \n",
       "Volvo           69998.000000   59623.000000  48284.000000  38705.166667   \n",
       "MINI            32907.937500   29305.000000  30000.000000  20353.800000   \n",
       "Jeep            48068.078947   37538.464286  34471.391667  29698.116883   \n",
       "Ram             63956.904762   47174.183673  35782.632075  33340.638554   \n",
       "Mazda           38257.409091   27774.875000  24331.921875  20909.529412   \n",
       "Infiniti        51500.000000   42066.500000  33936.466667  32167.818182   \n",
       "Acura           46995.000000   38609.909091  33724.388889  26147.400000   \n",
       "Porsche        124912.083333  108170.170213  92977.205882  83063.576923   \n",
       "Honda           39313.405797   30641.225490  26726.447761  24086.134615   \n",
       "BMW             60989.496350   56345.115942  45482.652174  37225.490909   \n",
       "Audi            55753.352941   57774.163636  52329.685185  37130.606061   \n",
       "Buick           36912.916667   29596.333333  25565.195122  23500.142857   \n",
       "Subaru          38798.615385   31670.400000  28985.833333  23891.070175   \n",
       "Kia             28783.187500   22631.299145  21237.617391  18612.715517   \n",
       "GMC             54171.885714   37658.120690  32324.341463  32884.871429   \n",
       "Land            74387.500000   74778.100000  54998.187500  56771.214286   \n",
       "Mercedes-Benz   54370.035714   58536.796296  57292.680000  51322.485714   \n",
       "Nissan          31624.650000   28002.530435  22277.291925  20344.336634   \n",
       "Toyota          37081.084615   28735.327731  25475.805556  25872.266304   \n",
       "Lexus           52797.000000   62265.714286  48621.000000  39211.680851   \n",
       "Hyundai         24582.000000   23738.060345  21090.781915  18394.780612   \n",
       "\n",
       "car_age_str               4             5  ratention_rate  \n",
       "brand                                                      \n",
       "Dodge          21083.000000  20971.556701        0.377115  \n",
       "Cadillac       33814.119048  26693.388889        0.382988  \n",
       "Volkswagen     18688.181818  15871.757962        0.399989  \n",
       "Chrysler       22132.535714  17277.882353        0.413871  \n",
       "Chevrolet      19950.315068  19349.552764        0.416765  \n",
       "Mitsubishi     17679.840000  15021.560000        0.417980  \n",
       "Lincoln        28493.960000  23200.733333        0.419427  \n",
       "Ford           24782.478417  21658.846154        0.433643  \n",
       "Volvo          37282.307692  30725.333333        0.438946  \n",
       "MINI           16997.062500  14583.470588        0.443160  \n",
       "Jeep           27062.014493  22165.383838        0.461125  \n",
       "Ram            33539.663158  29783.106667        0.465675  \n",
       "Mazda          19007.862069  18023.800000        0.471119  \n",
       "Infiniti       27264.300000  24479.736842        0.475335  \n",
       "Acura          23664.918919  22355.388060        0.475697  \n",
       "Porsche        68672.192308  60185.000000        0.481819  \n",
       "Honda          21475.182266  19524.698795        0.496642  \n",
       "BMW            33775.284314  30787.266667        0.504796  \n",
       "Audi           31008.948052  28696.069767        0.514697  \n",
       "Buick          19703.777778  19321.825000        0.523443  \n",
       "Subaru         21860.280000  20931.272727        0.539485  \n",
       "Kia            17049.385185  15623.535088        0.542801  \n",
       "GMC            32122.758242  29445.232143        0.543552  \n",
       "Land           47010.967742  40823.727273        0.548798  \n",
       "Mercedes-Benz  38970.678261  30365.783784        0.558502  \n",
       "Nissan         19197.620112  17709.788945        0.560000  \n",
       "Toyota         22679.992126  21092.197183        0.568813  \n",
       "Lexus          37442.690909  34244.974359        0.648616  \n",
       "Hyundai        17303.300000  16396.263158        0.667003  "
      ]
     },
     "execution_count": 14,
     "metadata": {},
     "output_type": "execute_result"
    }
   ],
   "source": [
    "brand_retention5.sort_values(by='ratention_rate')"
   ]
  },
  {
   "cell_type": "code",
   "execution_count": 15,
   "metadata": {
    "scrolled": true
   },
   "outputs": [
    {
     "data": {
      "text/html": [
       "<div>\n",
       "<style scoped>\n",
       "    .dataframe tbody tr th:only-of-type {\n",
       "        vertical-align: middle;\n",
       "    }\n",
       "\n",
       "    .dataframe tbody tr th {\n",
       "        vertical-align: top;\n",
       "    }\n",
       "\n",
       "    .dataframe thead th {\n",
       "        text-align: right;\n",
       "    }\n",
       "</style>\n",
       "<table border=\"1\" class=\"dataframe\">\n",
       "  <thead>\n",
       "    <tr style=\"text-align: right;\">\n",
       "      <th>car_age_str</th>\n",
       "      <th>0</th>\n",
       "      <th>1</th>\n",
       "      <th>2</th>\n",
       "      <th>3</th>\n",
       "      <th>4</th>\n",
       "      <th>5</th>\n",
       "      <th>ratention_rate</th>\n",
       "    </tr>\n",
       "    <tr>\n",
       "      <th>brand</th>\n",
       "      <th></th>\n",
       "      <th></th>\n",
       "      <th></th>\n",
       "      <th></th>\n",
       "      <th></th>\n",
       "      <th></th>\n",
       "      <th></th>\n",
       "    </tr>\n",
       "  </thead>\n",
       "  <tbody>\n",
       "    <tr>\n",
       "      <th>Hyundai</th>\n",
       "      <td>24582.000000</td>\n",
       "      <td>23738.060345</td>\n",
       "      <td>21090.781915</td>\n",
       "      <td>18394.780612</td>\n",
       "      <td>17303.300000</td>\n",
       "      <td>16396.263158</td>\n",
       "      <td>0.667003</td>\n",
       "    </tr>\n",
       "    <tr>\n",
       "      <th>Lexus</th>\n",
       "      <td>52797.000000</td>\n",
       "      <td>62265.714286</td>\n",
       "      <td>48621.000000</td>\n",
       "      <td>39211.680851</td>\n",
       "      <td>37442.690909</td>\n",
       "      <td>34244.974359</td>\n",
       "      <td>0.648616</td>\n",
       "    </tr>\n",
       "    <tr>\n",
       "      <th>Toyota</th>\n",
       "      <td>37081.084615</td>\n",
       "      <td>28735.327731</td>\n",
       "      <td>25475.805556</td>\n",
       "      <td>25872.266304</td>\n",
       "      <td>22679.992126</td>\n",
       "      <td>21092.197183</td>\n",
       "      <td>0.568813</td>\n",
       "    </tr>\n",
       "    <tr>\n",
       "      <th>Nissan</th>\n",
       "      <td>31624.650000</td>\n",
       "      <td>28002.530435</td>\n",
       "      <td>22277.291925</td>\n",
       "      <td>20344.336634</td>\n",
       "      <td>19197.620112</td>\n",
       "      <td>17709.788945</td>\n",
       "      <td>0.560000</td>\n",
       "    </tr>\n",
       "    <tr>\n",
       "      <th>Mercedes-Benz</th>\n",
       "      <td>54370.035714</td>\n",
       "      <td>58536.796296</td>\n",
       "      <td>57292.680000</td>\n",
       "      <td>51322.485714</td>\n",
       "      <td>38970.678261</td>\n",
       "      <td>30365.783784</td>\n",
       "      <td>0.558502</td>\n",
       "    </tr>\n",
       "  </tbody>\n",
       "</table>\n",
       "</div>"
      ],
      "text/plain": [
       "car_age_str               0             1             2             3  \\\n",
       "brand                                                                   \n",
       "Hyundai        24582.000000  23738.060345  21090.781915  18394.780612   \n",
       "Lexus          52797.000000  62265.714286  48621.000000  39211.680851   \n",
       "Toyota         37081.084615  28735.327731  25475.805556  25872.266304   \n",
       "Nissan         31624.650000  28002.530435  22277.291925  20344.336634   \n",
       "Mercedes-Benz  54370.035714  58536.796296  57292.680000  51322.485714   \n",
       "\n",
       "car_age_str               4             5  ratention_rate  \n",
       "brand                                                      \n",
       "Hyundai        17303.300000  16396.263158        0.667003  \n",
       "Lexus          37442.690909  34244.974359        0.648616  \n",
       "Toyota         22679.992126  21092.197183        0.568813  \n",
       "Nissan         19197.620112  17709.788945        0.560000  \n",
       "Mercedes-Benz  38970.678261  30365.783784        0.558502  "
      ]
     },
     "execution_count": 15,
     "metadata": {},
     "output_type": "execute_result"
    }
   ],
   "source": [
    "retentionrate_TOP5=brand_retention5.sort_values(by='ratention_rate',ascending=False).head(5)\n",
    "retentionrate_TOP5"
   ]
  },
  {
   "cell_type": "code",
   "execution_count": 16,
   "metadata": {
    "scrolled": true
   },
   "outputs": [
    {
     "data": {
      "text/html": [
       "<div>\n",
       "<style scoped>\n",
       "    .dataframe tbody tr th:only-of-type {\n",
       "        vertical-align: middle;\n",
       "    }\n",
       "\n",
       "    .dataframe tbody tr th {\n",
       "        vertical-align: top;\n",
       "    }\n",
       "\n",
       "    .dataframe thead th {\n",
       "        text-align: right;\n",
       "    }\n",
       "</style>\n",
       "<table border=\"1\" class=\"dataframe\">\n",
       "  <thead>\n",
       "    <tr style=\"text-align: right;\">\n",
       "      <th>car_age_str</th>\n",
       "      <th>0</th>\n",
       "      <th>1</th>\n",
       "      <th>2</th>\n",
       "      <th>3</th>\n",
       "      <th>4</th>\n",
       "      <th>5</th>\n",
       "      <th>ratention_rate</th>\n",
       "    </tr>\n",
       "    <tr>\n",
       "      <th>brand</th>\n",
       "      <th></th>\n",
       "      <th></th>\n",
       "      <th></th>\n",
       "      <th></th>\n",
       "      <th></th>\n",
       "      <th></th>\n",
       "      <th></th>\n",
       "    </tr>\n",
       "  </thead>\n",
       "  <tbody>\n",
       "    <tr>\n",
       "      <th>Dodge</th>\n",
       "      <td>55610.500000</td>\n",
       "      <td>37037.188889</td>\n",
       "      <td>30525.420000</td>\n",
       "      <td>24478.084746</td>\n",
       "      <td>21083.000000</td>\n",
       "      <td>20971.556701</td>\n",
       "      <td>0.377115</td>\n",
       "    </tr>\n",
       "    <tr>\n",
       "      <th>Cadillac</th>\n",
       "      <td>69697.789474</td>\n",
       "      <td>57612.750000</td>\n",
       "      <td>38111.488889</td>\n",
       "      <td>32755.625000</td>\n",
       "      <td>33814.119048</td>\n",
       "      <td>26693.388889</td>\n",
       "      <td>0.382988</td>\n",
       "    </tr>\n",
       "    <tr>\n",
       "      <th>Volkswagen</th>\n",
       "      <td>39680.500000</td>\n",
       "      <td>30756.168421</td>\n",
       "      <td>22625.696970</td>\n",
       "      <td>22828.157895</td>\n",
       "      <td>18688.181818</td>\n",
       "      <td>15871.757962</td>\n",
       "      <td>0.399989</td>\n",
       "    </tr>\n",
       "    <tr>\n",
       "      <th>Chrysler</th>\n",
       "      <td>41747.000000</td>\n",
       "      <td>32059.454545</td>\n",
       "      <td>31323.377358</td>\n",
       "      <td>29099.384615</td>\n",
       "      <td>22132.535714</td>\n",
       "      <td>17277.882353</td>\n",
       "      <td>0.413871</td>\n",
       "    </tr>\n",
       "    <tr>\n",
       "      <th>Chevrolet</th>\n",
       "      <td>46427.966667</td>\n",
       "      <td>34526.886525</td>\n",
       "      <td>27483.912442</td>\n",
       "      <td>20696.783505</td>\n",
       "      <td>19950.315068</td>\n",
       "      <td>19349.552764</td>\n",
       "      <td>0.416765</td>\n",
       "    </tr>\n",
       "  </tbody>\n",
       "</table>\n",
       "</div>"
      ],
      "text/plain": [
       "car_age_str             0             1             2             3  \\\n",
       "brand                                                                 \n",
       "Dodge        55610.500000  37037.188889  30525.420000  24478.084746   \n",
       "Cadillac     69697.789474  57612.750000  38111.488889  32755.625000   \n",
       "Volkswagen   39680.500000  30756.168421  22625.696970  22828.157895   \n",
       "Chrysler     41747.000000  32059.454545  31323.377358  29099.384615   \n",
       "Chevrolet    46427.966667  34526.886525  27483.912442  20696.783505   \n",
       "\n",
       "car_age_str             4             5  ratention_rate  \n",
       "brand                                                    \n",
       "Dodge        21083.000000  20971.556701        0.377115  \n",
       "Cadillac     33814.119048  26693.388889        0.382988  \n",
       "Volkswagen   18688.181818  15871.757962        0.399989  \n",
       "Chrysler     22132.535714  17277.882353        0.413871  \n",
       "Chevrolet    19950.315068  19349.552764        0.416765  "
      ]
     },
     "execution_count": 16,
     "metadata": {},
     "output_type": "execute_result"
    }
   ],
   "source": [
    "retentionrate_Worst5=brand_retention5.sort_values(by='ratention_rate',ascending=True).head(5)\n",
    "retentionrate_Worst5"
   ]
  },
  {
   "cell_type": "code",
   "execution_count": 17,
   "metadata": {
    "scrolled": true
   },
   "outputs": [],
   "source": [
    "# Best and Worst top five brand retention rate\n",
    "retentionrate_TOP5['ratention_rate']=retentionrate_TOP5['ratention_rate'].round(2)\n",
    "retentionrate_Worst5['ratention_rate']=retentionrate_Worst5['ratention_rate'].round(2)"
   ]
  },
  {
   "cell_type": "code",
   "execution_count": 18,
   "metadata": {},
   "outputs": [],
   "source": [
    "plt.style.use('seaborn')"
   ]
  },
  {
   "cell_type": "code",
   "execution_count": 27,
   "metadata": {},
   "outputs": [
    {
     "data": {
      "image/png": "[encoded data removed]",
      "text/plain": [
       "<Figure size 800x550 with 1 Axes>"
      ]
     },
     "metadata": {},
     "output_type": "display_data"
    }
   ],
   "source": [
    "# plot TOP BEST 5: BRANDS SHOW\n",
    "plt.figure(dpi=100)\n",
    "x=retentionrate_TOP5.index\n",
    "y=retentionrate_TOP5['ratention_rate']\n",
    "plt.bar(x,y,width=0.5,color='#000000')\n",
    "plt.title('Top5 Brands')\n",
    "plt.xlabel('Brand')\n",
    "plt.ylabel('Retention Rate')\n",
    "for a,b in zip(x, y):\n",
    "    plt.text(a, b, str(b),verticalalignment=\"bottom\",horizontalalignment='center')\n",
    "\n",
    "plt.show()"
   ]
  },
  {
   "cell_type": "code",
   "execution_count": 21,
   "metadata": {},
   "outputs": [
    {
     "data": {
      "application/vnd.plotly.v1+json": {
       "config": {
        "plotlyServerURL": "https://plot.ly"
       },
       "data": [
        {
         "alignmentgroup": "True",
         "hovertemplate": "brand=%{x}<br>ratention_rate=%{text}<extra></extra>",
         "legendgroup": "",
         "marker": {
          "color": "#636efa"
         },
         "name": "",
         "offsetgroup": "",
         "orientation": "v",
         "showlegend": false,
         "text": [
          0.67,
          0.65,
          0.57,
          0.56,
          0.56
         ],
         "textposition": "auto",
         "type": "bar",
         "x": [
          "Hyundai",
          "Lexus",
          "Toyota",
          "Nissan",
          "Mercedes-Benz"
         ],
         "xaxis": "x",
         "y": [
          0.67,
          0.65,
          0.57,
          0.56,
          0.56
         ],
         "yaxis": "y"
        }
       ],
       "layout": {
        "barmode": "relative",
        "legend": {
         "tracegroupgap": 0
        },
        "template": {
         "data": {
          "bar": [
           {
            "error_x": {
             "color": "#2a3f5f"
            },
            "error_y": {
             "color": "#2a3f5f"
            },
            "marker": {
             "line": {
              "color": "#E5ECF6",
              "width": 0.5
             }
            },
            "type": "bar"
           }
          ],
          "barpolar": [
           {
            "marker": {
             "line": {
              "color": "#E5ECF6",
              "width": 0.5
             }
            },
            "type": "barpolar"
           }
          ],
          "carpet": [
           {
            "aaxis": {
             "endlinecolor": "#2a3f5f",
             "gridcolor": "white",
             "linecolor": "white",
             "minorgridcolor": "white",
             "startlinecolor": "#2a3f5f"
            },
            "baxis": {
             "endlinecolor": "#2a3f5f",
             "gridcolor": "white",
             "linecolor": "white",
             "minorgridcolor": "white",
             "startlinecolor": "#2a3f5f"
            },
            "type": "carpet"
           }
          ],
          "choropleth": [
           {
            "colorbar": {
             "outlinewidth": 0,
             "ticks": ""
            },
            "type": "choropleth"
           }
          ],
          "contour": [
           {
            "colorbar": {
             "outlinewidth": 0,
             "ticks": ""
            },
            "colorscale": [
             [
              0,
              "#0d0887"
             ],
             [
              0.1111111111111111,
              "#46039f"
             ],
             [
              0.2222222222222222,
              "#7201a8"
             ],
             [
              0.3333333333333333,
              "#9c179e"
             ],
             [
              0.4444444444444444,
              "#bd3786"
             ],
             [
              0.5555555555555556,
              "#d8576b"
             ],
             [
              0.6666666666666666,
              "#ed7953"
             ],
             [
              0.7777777777777778,
              "#fb9f3a"
             ],
             [
              0.8888888888888888,
              "#fdca26"
             ],
             [
              1,
              "#f0f921"
             ]
            ],
            "type": "contour"
           }
          ],
          "contourcarpet": [
           {
            "colorbar": {
             "outlinewidth": 0,
             "ticks": ""
            },
            "type": "contourcarpet"
           }
          ],
          "heatmap": [
           {
            "colorbar": {
             "outlinewidth": 0,
             "ticks": ""
            },
            "colorscale": [
             [
              0,
              "#0d0887"
             ],
             [
              0.1111111111111111,
              "#46039f"
             ],
             [
              0.2222222222222222,
              "#7201a8"
             ],
             [
              0.3333333333333333,
              "#9c179e"
             ],
             [
              0.4444444444444444,
              "#bd3786"
             ],
             [
              0.5555555555555556,
              "#d8576b"
             ],
             [
              0.6666666666666666,
              "#ed7953"
             ],
             [
              0.7777777777777778,
              "#fb9f3a"
             ],
             [
              0.8888888888888888,
              "#fdca26"
             ],
             [
              1,
              "#f0f921"
             ]
            ],
            "type": "heatmap"
           }
          ],
          "heatmapgl": [
           {
            "colorbar": {
             "outlinewidth": 0,
             "ticks": ""
            },
            "colorscale": [
             [
              0,
              "#0d0887"
             ],
             [
              0.1111111111111111,
              "#46039f"
             ],
             [
              0.2222222222222222,
              "#7201a8"
             ],
             [
              0.3333333333333333,
              "#9c179e"
             ],
             [
              0.4444444444444444,
              "#bd3786"
             ],
             [
              0.5555555555555556,
              "#d8576b"
             ],
             [
              0.6666666666666666,
              "#ed7953"
             ],
             [
              0.7777777777777778,
              "#fb9f3a"
             ],
             [
              0.8888888888888888,
              "#fdca26"
             ],
             [
              1,
              "#f0f921"
             ]
            ],
            "type": "heatmapgl"
           }
          ],
          "histogram": [
           {
            "marker": {
             "colorbar": {
              "outlinewidth": 0,
              "ticks": ""
             }
            },
            "type": "histogram"
           }
          ],
          "histogram2d": [
           {
            "colorbar": {
             "outlinewidth": 0,
             "ticks": ""
            },
            "colorscale": [
             [
              0,
              "#0d0887"
             ],
             [
              0.1111111111111111,
              "#46039f"
             ],
             [
              0.2222222222222222,
              "#7201a8"
             ],
             [
              0.3333333333333333,
              "#9c179e"
             ],
             [
              0.4444444444444444,
              "#bd3786"
             ],
             [
              0.5555555555555556,
              "#d8576b"
             ],
             [
              0.6666666666666666,
              "#ed7953"
             ],
             [
              0.7777777777777778,
              "#fb9f3a"
             ],
             [
              0.8888888888888888,
              "#fdca26"
             ],
             [
              1,
              "#f0f921"
             ]
            ],
            "type": "histogram2d"
           }
          ],
          "histogram2dcontour": [
           {
            "colorbar": {
             "outlinewidth": 0,
             "ticks": ""
            },
            "colorscale": [
             [
              0,
              "#0d0887"
             ],
             [
              0.1111111111111111,
              "#46039f"
             ],
             [
              0.2222222222222222,
              "#7201a8"
             ],
             [
              0.3333333333333333,
              "#9c179e"
             ],
             [
              0.4444444444444444,
              "#bd3786"
             ],
             [
              0.5555555555555556,
              "#d8576b"
             ],
             [
              0.6666666666666666,
              "#ed7953"
             ],
             [
              0.7777777777777778,
              "#fb9f3a"
             ],
             [
              0.8888888888888888,
              "#fdca26"
             ],
             [
              1,
              "#f0f921"
             ]
            ],
            "type": "histogram2dcontour"
           }
          ],
          "mesh3d": [
           {
            "colorbar": {
             "outlinewidth": 0,
             "ticks": ""
            },
            "type": "mesh3d"
           }
          ],
          "parcoords": [
           {
            "line": {
             "colorbar": {
              "outlinewidth": 0,
              "ticks": ""
             }
            },
            "type": "parcoords"
           }
          ],
          "pie": [
           {
            "automargin": true,
            "type": "pie"
           }
          ],
          "scatter": [
           {
            "marker": {
             "colorbar": {
              "outlinewidth": 0,
              "ticks": ""
             }
            },
            "type": "scatter"
           }
          ],
          "scatter3d": [
           {
            "line": {
             "colorbar": {
              "outlinewidth": 0,
              "ticks": ""
             }
            },
            "marker": {
             "colorbar": {
              "outlinewidth": 0,
              "ticks": ""
             }
            },
            "type": "scatter3d"
           }
          ],
          "scattercarpet": [
           {
            "marker": {
             "colorbar": {
              "outlinewidth": 0,
              "ticks": ""
             }
            },
            "type": "scattercarpet"
           }
          ],
          "scattergeo": [
           {
            "marker": {
             "colorbar": {
              "outlinewidth": 0,
              "ticks": ""
             }
            },
            "type": "scattergeo"
           }
          ],
          "scattergl": [
           {
            "marker": {
             "colorbar": {
              "outlinewidth": 0,
              "ticks": ""
             }
            },
            "type": "scattergl"
           }
          ],
          "scattermapbox": [
           {
            "marker": {
             "colorbar": {
              "outlinewidth": 0,
              "ticks": ""
             }
            },
            "type": "scattermapbox"
           }
          ],
          "scatterpolar": [
           {
            "marker": {
             "colorbar": {
              "outlinewidth": 0,
              "ticks": ""
             }
            },
            "type": "scatterpolar"
           }
          ],
          "scatterpolargl": [
           {
            "marker": {
             "colorbar": {
              "outlinewidth": 0,
              "ticks": ""
             }
            },
            "type": "scatterpolargl"
           }
          ],
          "scatterternary": [
           {
            "marker": {
             "colorbar": {
              "outlinewidth": 0,
              "ticks": ""
             }
            },
            "type": "scatterternary"
           }
          ],
          "surface": [
           {
            "colorbar": {
             "outlinewidth": 0,
             "ticks": ""
            },
            "colorscale": [
             [
              0,
              "#0d0887"
             ],
             [
              0.1111111111111111,
              "#46039f"
             ],
             [
              0.2222222222222222,
              "#7201a8"
             ],
             [
              0.3333333333333333,
              "#9c179e"
             ],
             [
              0.4444444444444444,
              "#bd3786"
             ],
             [
              0.5555555555555556,
              "#d8576b"
             ],
             [
              0.6666666666666666,
              "#ed7953"
             ],
             [
              0.7777777777777778,
              "#fb9f3a"
             ],
             [
              0.8888888888888888,
              "#fdca26"
             ],
             [
              1,
              "#f0f921"
             ]
            ],
            "type": "surface"
           }
          ],
          "table": [
           {
            "cells": {
             "fill": {
              "color": "#EBF0F8"
             },
             "line": {
              "color": "white"
             }
            },
            "header": {
             "fill": {
              "color": "#C8D4E3"
             },
             "line": {
              "color": "white"
             }
            },
            "type": "table"
           }
          ]
         },
         "layout": {
          "annotationdefaults": {
           "arrowcolor": "#2a3f5f",
           "arrowhead": 0,
           "arrowwidth": 1
          },
          "coloraxis": {
           "colorbar": {
            "outlinewidth": 0,
            "ticks": ""
           }
          },
          "colorscale": {
           "diverging": [
            [
             0,
             "#8e0152"
            ],
            [
             0.1,
             "#c51b7d"
            ],
            [
             0.2,
             "#de77ae"
            ],
            [
             0.3,
             "#f1b6da"
            ],
            [
             0.4,
             "#fde0ef"
            ],
            [
             0.5,
             "#f7f7f7"
            ],
            [
             0.6,
             "#e6f5d0"
            ],
            [
             0.7,
             "#b8e186"
            ],
            [
             0.8,
             "#7fbc41"
            ],
            [
             0.9,
             "#4d9221"
            ],
            [
             1,
             "#276419"
            ]
           ],
           "sequential": [
            [
             0,
             "#0d0887"
            ],
            [
             0.1111111111111111,
             "#46039f"
            ],
            [
             0.2222222222222222,
             "#7201a8"
            ],
            [
             0.3333333333333333,
             "#9c179e"
            ],
            [
             0.4444444444444444,
             "#bd3786"
            ],
            [
             0.5555555555555556,
             "#d8576b"
            ],
            [
             0.6666666666666666,
             "#ed7953"
            ],
            [
             0.7777777777777778,
             "#fb9f3a"
            ],
            [
             0.8888888888888888,
             "#fdca26"
            ],
            [
             1,
             "#f0f921"
            ]
           ],
           "sequentialminus": [
            [
             0,
             "#0d0887"
            ],
            [
             0.1111111111111111,
             "#46039f"
            ],
            [
             0.2222222222222222,
             "#7201a8"
            ],
            [
             0.3333333333333333,
             "#9c179e"
            ],
            [
             0.4444444444444444,
             "#bd3786"
            ],
            [
             0.5555555555555556,
             "#d8576b"
            ],
            [
             0.6666666666666666,
             "#ed7953"
            ],
            [
             0.7777777777777778,
             "#fb9f3a"
            ],
            [
             0.8888888888888888,
             "#fdca26"
            ],
            [
             1,
             "#f0f921"
            ]
           ]
          },
          "colorway": [
           "#636efa",
           "#EF553B",
           "#00cc96",
           "#ab63fa",
           "#FFA15A",
           "#19d3f3",
           "#FF6692",
           "#B6E880",
           "#FF97FF",
           "#FECB52"
          ],
          "font": {
           "color": "#2a3f5f"
          },
          "geo": {
           "bgcolor": "white",
           "lakecolor": "white",
           "landcolor": "#E5ECF6",
           "showlakes": true,
           "showland": true,
           "subunitcolor": "white"
          },
          "hoverlabel": {
           "align": "left"
          },
          "hovermode": "closest",
          "mapbox": {
           "style": "light"
          },
          "paper_bgcolor": "white",
          "plot_bgcolor": "#E5ECF6",
          "polar": {
           "angularaxis": {
            "gridcolor": "white",
            "linecolor": "white",
            "ticks": ""
           },
           "bgcolor": "#E5ECF6",
           "radialaxis": {
            "gridcolor": "white",
            "linecolor": "white",
            "ticks": ""
           }
          },
          "scene": {
           "xaxis": {
            "backgroundcolor": "#E5ECF6",
            "gridcolor": "white",
            "gridwidth": 2,
            "linecolor": "white",
            "showbackground": true,
            "ticks": "",
            "zerolinecolor": "white"
           },
           "yaxis": {
            "backgroundcolor": "#E5ECF6",
            "gridcolor": "white",
            "gridwidth": 2,
            "linecolor": "white",
            "showbackground": true,
            "ticks": "",
            "zerolinecolor": "white"
           },
           "zaxis": {
            "backgroundcolor": "#E5ECF6",
            "gridcolor": "white",
            "gridwidth": 2,
            "linecolor": "white",
            "showbackground": true,
            "ticks": "",
            "zerolinecolor": "white"
           }
          },
          "shapedefaults": {
           "line": {
            "color": "#2a3f5f"
           }
          },
          "ternary": {
           "aaxis": {
            "gridcolor": "white",
            "linecolor": "white",
            "ticks": ""
           },
           "baxis": {
            "gridcolor": "white",
            "linecolor": "white",
            "ticks": ""
           },
           "bgcolor": "#E5ECF6",
           "caxis": {
            "gridcolor": "white",
            "linecolor": "white",
            "ticks": ""
           }
          },
          "title": {
           "x": 0.05
          },
          "xaxis": {
           "automargin": true,
           "gridcolor": "white",
           "linecolor": "white",
           "ticks": "",
           "title": {
            "standoff": 15
           },
           "zerolinecolor": "white",
           "zerolinewidth": 2
          },
          "yaxis": {
           "automargin": true,
           "gridcolor": "white",
           "linecolor": "white",
           "ticks": "",
           "title": {
            "standoff": 15
           },
           "zerolinecolor": "white",
           "zerolinewidth": 2
          }
         }
        },
        "title": {
         "text": "Top5 Brands with high Retention Rate"
        },
        "width": 800,
        "xaxis": {
         "anchor": "y",
         "domain": [
          0,
          1
         ],
         "title": {
          "text": "brand"
         }
        },
        "yaxis": {
         "anchor": "x",
         "domain": [
          0,
          1
         ],
         "title": {
          "text": "ratention_rate"
         }
        }
       }
      },
      "text/html": [
       "<div>\n",
       "        \n",
       "        \n",
       "            <div id=\"4ae9ba13-a2ed-4768-a086-230ec806a42f\" class=\"plotly-graph-div\" style=\"height:525px; width:800px;\"></div>\n",
       "            <script type=\"text/javascript\">\n",
       "                require([\"plotly\"], function(Plotly) {\n",
       "                    window.PLOTLYENV=window.PLOTLYENV || {};\n",
       "                    \n",
       "                if (document.getElementById(\"4ae9ba13-a2ed-4768-a086-230ec806a42f\")) {\n",
       "                    Plotly.newPlot(\n",
       "                        '4ae9ba13-a2ed-4768-a086-230ec806a42f',\n",
       "                        [{\"alignmentgroup\": \"True\", \"hovertemplate\": \"brand=%{x}<br>ratention_rate=%{text}<extra></extra>\", \"legendgroup\": \"\", \"marker\": {\"color\": \"#636efa\"}, \"name\": \"\", \"offsetgroup\": \"\", \"orientation\": \"v\", \"showlegend\": false, \"text\": [0.67, 0.65, 0.57, 0.56, 0.56], \"textposition\": \"auto\", \"type\": \"bar\", \"x\": [\"Hyundai\", \"Lexus\", \"Toyota\", \"Nissan\", \"Mercedes-Benz\"], \"xaxis\": \"x\", \"y\": [0.67, 0.65, 0.57, 0.56, 0.56], \"yaxis\": \"y\"}],\n",
       "                        {\"barmode\": \"relative\", \"legend\": {\"tracegroupgap\": 0}, \"template\": {\"data\": {\"bar\": [{\"error_x\": {\"color\": \"#2a3f5f\"}, \"error_y\": {\"color\": \"#2a3f5f\"}, \"marker\": {\"line\": {\"color\": \"#E5ECF6\", \"width\": 0.5}}, \"type\": \"bar\"}], \"barpolar\": [{\"marker\": {\"line\": {\"color\": \"#E5ECF6\", \"width\": 0.5}}, \"type\": \"barpolar\"}], \"carpet\": [{\"aaxis\": {\"endlinecolor\": \"#2a3f5f\", \"gridcolor\": \"white\", \"linecolor\": \"white\", \"minorgridcolor\": \"white\", \"startlinecolor\": \"#2a3f5f\"}, \"baxis\": {\"endlinecolor\": \"#2a3f5f\", \"gridcolor\": \"white\", \"linecolor\": \"white\", \"minorgridcolor\": \"white\", \"startlinecolor\": \"#2a3f5f\"}, \"type\": \"carpet\"}], \"choropleth\": [{\"colorbar\": {\"outlinewidth\": 0, \"ticks\": \"\"}, \"type\": \"choropleth\"}], \"contour\": [{\"colorbar\": {\"outlinewidth\": 0, \"ticks\": \"\"}, \"colorscale\": [[0.0, \"#0d0887\"], [0.1111111111111111, \"#46039f\"], [0.2222222222222222, \"#7201a8\"], [0.3333333333333333, \"#9c179e\"], [0.4444444444444444, \"#bd3786\"], [0.5555555555555556, \"#d8576b\"], [0.6666666666666666, \"#ed7953\"], [0.7777777777777778, \"#fb9f3a\"], [0.8888888888888888, \"#fdca26\"], [1.0, \"#f0f921\"]], \"type\": \"contour\"}], \"contourcarpet\": [{\"colorbar\": {\"outlinewidth\": 0, \"ticks\": \"\"}, \"type\": \"contourcarpet\"}], \"heatmap\": [{\"colorbar\": {\"outlinewidth\": 0, \"ticks\": \"\"}, \"colorscale\": [[0.0, \"#0d0887\"], [0.1111111111111111, \"#46039f\"], [0.2222222222222222, \"#7201a8\"], [0.3333333333333333, \"#9c179e\"], [0.4444444444444444, \"#bd3786\"], [0.5555555555555556, \"#d8576b\"], [0.6666666666666666, \"#ed7953\"], [0.7777777777777778, \"#fb9f3a\"], [0.8888888888888888, \"#fdca26\"], [1.0, \"#f0f921\"]], \"type\": \"heatmap\"}], \"heatmapgl\": [{\"colorbar\": {\"outlinewidth\": 0, \"ticks\": \"\"}, \"colorscale\": [[0.0, \"#0d0887\"], [0.1111111111111111, \"#46039f\"], [0.2222222222222222, \"#7201a8\"], [0.3333333333333333, \"#9c179e\"], [0.4444444444444444, \"#bd3786\"], [0.5555555555555556, \"#d8576b\"], [0.6666666666666666, \"#ed7953\"], [0.7777777777777778, \"#fb9f3a\"], [0.8888888888888888, \"#fdca26\"], [1.0, \"#f0f921\"]], \"type\": \"heatmapgl\"}], \"histogram\": [{\"marker\": {\"colorbar\": {\"outlinewidth\": 0, \"ticks\": \"\"}}, \"type\": \"histogram\"}], \"histogram2d\": [{\"colorbar\": {\"outlinewidth\": 0, \"ticks\": \"\"}, \"colorscale\": [[0.0, \"#0d0887\"], [0.1111111111111111, \"#46039f\"], [0.2222222222222222, \"#7201a8\"], [0.3333333333333333, \"#9c179e\"], [0.4444444444444444, \"#bd3786\"], [0.5555555555555556, \"#d8576b\"], [0.6666666666666666, \"#ed7953\"], [0.7777777777777778, \"#fb9f3a\"], [0.8888888888888888, \"#fdca26\"], [1.0, \"#f0f921\"]], \"type\": \"histogram2d\"}], \"histogram2dcontour\": [{\"colorbar\": {\"outlinewidth\": 0, \"ticks\": \"\"}, \"colorscale\": [[0.0, \"#0d0887\"], [0.1111111111111111, \"#46039f\"], [0.2222222222222222, \"#7201a8\"], [0.3333333333333333, \"#9c179e\"], [0.4444444444444444, \"#bd3786\"], [0.5555555555555556, \"#d8576b\"], [0.6666666666666666, \"#ed7953\"], [0.7777777777777778, \"#fb9f3a\"], [0.8888888888888888, \"#fdca26\"], [1.0, \"#f0f921\"]], \"type\": \"histogram2dcontour\"}], \"mesh3d\": [{\"colorbar\": {\"outlinewidth\": 0, \"ticks\": \"\"}, \"type\": \"mesh3d\"}], \"parcoords\": [{\"line\": {\"colorbar\": {\"outlinewidth\": 0, \"ticks\": \"\"}}, \"type\": \"parcoords\"}], \"pie\": [{\"automargin\": true, \"type\": \"pie\"}], \"scatter\": [{\"marker\": {\"colorbar\": {\"outlinewidth\": 0, \"ticks\": \"\"}}, \"type\": \"scatter\"}], \"scatter3d\": [{\"line\": {\"colorbar\": {\"outlinewidth\": 0, \"ticks\": \"\"}}, \"marker\": {\"colorbar\": {\"outlinewidth\": 0, \"ticks\": \"\"}}, \"type\": \"scatter3d\"}], \"scattercarpet\": [{\"marker\": {\"colorbar\": {\"outlinewidth\": 0, \"ticks\": \"\"}}, \"type\": \"scattercarpet\"}], \"scattergeo\": [{\"marker\": {\"colorbar\": {\"outlinewidth\": 0, \"ticks\": \"\"}}, \"type\": \"scattergeo\"}], \"scattergl\": [{\"marker\": {\"colorbar\": {\"outlinewidth\": 0, \"ticks\": \"\"}}, \"type\": \"scattergl\"}], \"scattermapbox\": [{\"marker\": {\"colorbar\": {\"outlinewidth\": 0, \"ticks\": \"\"}}, \"type\": \"scattermapbox\"}], \"scatterpolar\": [{\"marker\": {\"colorbar\": {\"outlinewidth\": 0, \"ticks\": \"\"}}, \"type\": \"scatterpolar\"}], \"scatterpolargl\": [{\"marker\": {\"colorbar\": {\"outlinewidth\": 0, \"ticks\": \"\"}}, \"type\": \"scatterpolargl\"}], \"scatterternary\": [{\"marker\": {\"colorbar\": {\"outlinewidth\": 0, \"ticks\": \"\"}}, \"type\": \"scatterternary\"}], \"surface\": [{\"colorbar\": {\"outlinewidth\": 0, \"ticks\": \"\"}, \"colorscale\": [[0.0, \"#0d0887\"], [0.1111111111111111, \"#46039f\"], [0.2222222222222222, \"#7201a8\"], [0.3333333333333333, \"#9c179e\"], [0.4444444444444444, \"#bd3786\"], [0.5555555555555556, \"#d8576b\"], [0.6666666666666666, \"#ed7953\"], [0.7777777777777778, \"#fb9f3a\"], [0.8888888888888888, \"#fdca26\"], [1.0, \"#f0f921\"]], \"type\": \"surface\"}], \"table\": [{\"cells\": {\"fill\": {\"color\": \"#EBF0F8\"}, \"line\": {\"color\": \"white\"}}, \"header\": {\"fill\": {\"color\": \"#C8D4E3\"}, \"line\": {\"color\": \"white\"}}, \"type\": \"table\"}]}, \"layout\": {\"annotationdefaults\": {\"arrowcolor\": \"#2a3f5f\", \"arrowhead\": 0, \"arrowwidth\": 1}, \"coloraxis\": {\"colorbar\": {\"outlinewidth\": 0, \"ticks\": \"\"}}, \"colorscale\": {\"diverging\": [[0, \"#8e0152\"], [0.1, \"#c51b7d\"], [0.2, \"#de77ae\"], [0.3, \"#f1b6da\"], [0.4, \"#fde0ef\"], [0.5, \"#f7f7f7\"], [0.6, \"#e6f5d0\"], [0.7, \"#b8e186\"], [0.8, \"#7fbc41\"], [0.9, \"#4d9221\"], [1, \"#276419\"]], \"sequential\": [[0.0, \"#0d0887\"], [0.1111111111111111, \"#46039f\"], [0.2222222222222222, \"#7201a8\"], [0.3333333333333333, \"#9c179e\"], [0.4444444444444444, \"#bd3786\"], [0.5555555555555556, \"#d8576b\"], [0.6666666666666666, \"#ed7953\"], [0.7777777777777778, \"#fb9f3a\"], [0.8888888888888888, \"#fdca26\"], [1.0, \"#f0f921\"]], \"sequentialminus\": [[0.0, \"#0d0887\"], [0.1111111111111111, \"#46039f\"], [0.2222222222222222, \"#7201a8\"], [0.3333333333333333, \"#9c179e\"], [0.4444444444444444, \"#bd3786\"], [0.5555555555555556, \"#d8576b\"], [0.6666666666666666, \"#ed7953\"], [0.7777777777777778, \"#fb9f3a\"], [0.8888888888888888, \"#fdca26\"], [1.0, \"#f0f921\"]]}, \"colorway\": [\"#636efa\", \"#EF553B\", \"#00cc96\", \"#ab63fa\", \"#FFA15A\", \"#19d3f3\", \"#FF6692\", \"#B6E880\", \"#FF97FF\", \"#FECB52\"], \"font\": {\"color\": \"#2a3f5f\"}, \"geo\": {\"bgcolor\": \"white\", \"lakecolor\": \"white\", \"landcolor\": \"#E5ECF6\", \"showlakes\": true, \"showland\": true, \"subunitcolor\": \"white\"}, \"hoverlabel\": {\"align\": \"left\"}, \"hovermode\": \"closest\", \"mapbox\": {\"style\": \"light\"}, \"paper_bgcolor\": \"white\", \"plot_bgcolor\": \"#E5ECF6\", \"polar\": {\"angularaxis\": {\"gridcolor\": \"white\", \"linecolor\": \"white\", \"ticks\": \"\"}, \"bgcolor\": \"#E5ECF6\", \"radialaxis\": {\"gridcolor\": \"white\", \"linecolor\": \"white\", \"ticks\": \"\"}}, \"scene\": {\"xaxis\": {\"backgroundcolor\": \"#E5ECF6\", \"gridcolor\": \"white\", \"gridwidth\": 2, \"linecolor\": \"white\", \"showbackground\": true, \"ticks\": \"\", \"zerolinecolor\": \"white\"}, \"yaxis\": {\"backgroundcolor\": \"#E5ECF6\", \"gridcolor\": \"white\", \"gridwidth\": 2, \"linecolor\": \"white\", \"showbackground\": true, \"ticks\": \"\", \"zerolinecolor\": \"white\"}, \"zaxis\": {\"backgroundcolor\": \"#E5ECF6\", \"gridcolor\": \"white\", \"gridwidth\": 2, \"linecolor\": \"white\", \"showbackground\": true, \"ticks\": \"\", \"zerolinecolor\": \"white\"}}, \"shapedefaults\": {\"line\": {\"color\": \"#2a3f5f\"}}, \"ternary\": {\"aaxis\": {\"gridcolor\": \"white\", \"linecolor\": \"white\", \"ticks\": \"\"}, \"baxis\": {\"gridcolor\": \"white\", \"linecolor\": \"white\", \"ticks\": \"\"}, \"bgcolor\": \"#E5ECF6\", \"caxis\": {\"gridcolor\": \"white\", \"linecolor\": \"white\", \"ticks\": \"\"}}, \"title\": {\"x\": 0.05}, \"xaxis\": {\"automargin\": true, \"gridcolor\": \"white\", \"linecolor\": \"white\", \"ticks\": \"\", \"title\": {\"standoff\": 15}, \"zerolinecolor\": \"white\", \"zerolinewidth\": 2}, \"yaxis\": {\"automargin\": true, \"gridcolor\": \"white\", \"linecolor\": \"white\", \"ticks\": \"\", \"title\": {\"standoff\": 15}, \"zerolinecolor\": \"white\", \"zerolinewidth\": 2}}}, \"title\": {\"text\": \"Top5 Brands with high Retention Rate\"}, \"width\": 800, \"xaxis\": {\"anchor\": \"y\", \"domain\": [0.0, 1.0], \"title\": {\"text\": \"brand\"}}, \"yaxis\": {\"anchor\": \"x\", \"domain\": [0.0, 1.0], \"title\": {\"text\": \"ratention_rate\"}}},\n",
       "                        {\"responsive\": true}\n",
       "                    ).then(function(){\n",
       "                            \n",
       "var gd = document.getElementById('4ae9ba13-a2ed-4768-a086-230ec806a42f');\n",
       "var x = new MutationObserver(function (mutations, observer) {{\n",
       "        var display = window.getComputedStyle(gd).display;\n",
       "        if (!display || display === 'none') {{\n",
       "            console.log([gd, 'removed!']);\n",
       "            Plotly.purge(gd);\n",
       "            observer.disconnect();\n",
       "        }}\n",
       "}});\n",
       "\n",
       "// Listen for the removal of the full notebook cells\n",
       "var notebookContainer = gd.closest('#notebook-container');\n",
       "if (notebookContainer) {{\n",
       "    x.observe(notebookContainer, {childList: true});\n",
       "}}\n",
       "\n",
       "// Listen for the clearing of the current output cell\n",
       "var outputEl = gd.closest('.output');\n",
       "if (outputEl) {{\n",
       "    x.observe(outputEl, {childList: true});\n",
       "}}\n",
       "\n",
       "                        })\n",
       "                };\n",
       "                });\n",
       "            </script>\n",
       "        </div>"
      ]
     },
     "metadata": {},
     "output_type": "display_data"
    }
   ],
   "source": [
    "# fig=go.Figure(go.Bar(x=retentionrate_TOP5.index,y=retentionrate_TOP5['ratention_rate'],width=0.3,text=y,textposition='outside'\\\n",
    "#                 ))\n",
    "fig=px.bar(retentionrate_TOP5, x=retentionrate_TOP5.index,y=retentionrate_TOP5['ratention_rate'],text=y,\\\n",
    "          width=800,title='Top5 Brands with high Retention Rate')\n",
    "# fig.update_layout(title_text='Top5 Brands with high Retention Rate')\n",
    "\n",
    "# py.iplot([top5brand])\n",
    "fig.show()"
   ]
  },
  {
   "cell_type": "code",
   "execution_count": 28,
   "metadata": {},
   "outputs": [
    {
     "data": {
      "image/png": "[encoded data removed]",
      "text/plain": [
       "<Figure size 800x550 with 1 Axes>"
      ]
     },
     "metadata": {},
     "output_type": "display_data"
    }
   ],
   "source": [
    "# plot TOP BEST 5: depreciation trend \n",
    "plt.figure(dpi=100)\n",
    "\n",
    "Hyundai=retentionrate_TOP5.loc['Hyundai','0':'5']\n",
    "Hyundai.plot(kind='line')\n",
    "\n",
    "Lexus=retentionrate_TOP5.loc['Lexus','0':'5']\n",
    "Lexus.plot(kind='line')\n",
    "\n",
    "Toyota=retentionrate_TOP5.loc['Toyota','0':'5']\n",
    "Toyota.plot(kind='line')\n",
    "\n",
    "Nissan=retentionrate_TOP5.loc['Nissan','0':'5']\n",
    "Nissan.plot(kind='line')\n",
    "\n",
    "Mercedes_Benz=retentionrate_TOP5.loc['Mercedes-Benz','0':'5']\n",
    "Mercedes_Benz.plot(kind='line')\n",
    "\n",
    "plt.title('Top5 Brands with high Retention Rate')\n",
    "plt.xlabel('Brand')\n",
    "plt.ylabel('Retention Rate')\n",
    "\n",
    "plt.legend()\n",
    "plt.show()"
   ]
  },
  {
   "cell_type": "code",
   "execution_count": 29,
   "metadata": {
    "scrolled": true
   },
   "outputs": [
    {
     "data": {
      "image/png": "[encoded data removed]",
      "text/plain": [
       "<Figure size 800x550 with 1 Axes>"
      ]
     },
     "metadata": {},
     "output_type": "display_data"
    }
   ],
   "source": [
    "# plot TOP5 WORST:BRAND SHOW\n",
    "retentionrate_Worst5\n",
    "plt.figure(dpi=100)\n",
    "x=retentionrate_Worst5.index\n",
    "y=retentionrate_Worst5['ratention_rate']\n",
    "plt.bar(x,y,width=0.5)\n",
    "plt.title('WORST5 Brands with low Retention Rate')\n",
    "plt.xlabel('Brand')\n",
    "plt.ylabel('retention Rate')\n",
    "\n",
    "\n",
    "for a,b in zip(x, y):\n",
    "    plt.text(a, b, str(b),verticalalignment=\"bottom\",horizontalalignment='center')\n",
    "\n",
    "plt.show()"
   ]
  },
  {
   "cell_type": "code",
   "execution_count": 30,
   "metadata": {},
   "outputs": [
    {
     "data": {
      "application/vnd.plotly.v1+json": {
       "config": {
        "plotlyServerURL": "https://plot.ly"
       },
       "data": [
        {
         "alignmentgroup": "True",
         "hovertemplate": "brand=%{x}<br>ratention_rate=%{text}<extra></extra>",
         "legendgroup": "",
         "marker": {
          "color": "#636efa"
         },
         "name": "",
         "offsetgroup": "",
         "orientation": "v",
         "showlegend": false,
         "text": [
          0.38,
          0.38,
          0.4,
          0.41,
          0.42
         ],
         "textposition": "auto",
         "type": "bar",
         "x": [
          "Dodge",
          "Cadillac",
          "Volkswagen",
          "Chrysler",
          "Chevrolet"
         ],
         "xaxis": "x",
         "y": [
          0.38,
          0.38,
          0.4,
          0.41,
          0.42
         ],
         "yaxis": "y"
        }
       ],
       "layout": {
        "barmode": "relative",
        "legend": {
         "tracegroupgap": 0
        },
        "template": {
         "data": {
          "bar": [
           {
            "error_x": {
             "color": "#2a3f5f"
            },
            "error_y": {
             "color": "#2a3f5f"
            },
            "marker": {
             "line": {
              "color": "#E5ECF6",
              "width": 0.5
             }
            },
            "type": "bar"
           }
          ],
          "barpolar": [
           {
            "marker": {
             "line": {
              "color": "#E5ECF6",
              "width": 0.5
             }
            },
            "type": "barpolar"
           }
          ],
          "carpet": [
           {
            "aaxis": {
             "endlinecolor": "#2a3f5f",
             "gridcolor": "white",
             "linecolor": "white",
             "minorgridcolor": "white",
             "startlinecolor": "#2a3f5f"
            },
            "baxis": {
             "endlinecolor": "#2a3f5f",
             "gridcolor": "white",
             "linecolor": "white",
             "minorgridcolor": "white",
             "startlinecolor": "#2a3f5f"
            },
            "type": "carpet"
           }
          ],
          "choropleth": [
           {
            "colorbar": {
             "outlinewidth": 0,
             "ticks": ""
            },
            "type": "choropleth"
           }
          ],
          "contour": [
           {
            "colorbar": {
             "outlinewidth": 0,
             "ticks": ""
            },
            "colorscale": [
             [
              0,
              "#0d0887"
             ],
             [
              0.1111111111111111,
              "#46039f"
             ],
             [
              0.2222222222222222,
              "#7201a8"
             ],
             [
              0.3333333333333333,
              "#9c179e"
             ],
             [
              0.4444444444444444,
              "#bd3786"
             ],
             [
              0.5555555555555556,
              "#d8576b"
             ],
             [
              0.6666666666666666,
              "#ed7953"
             ],
             [
              0.7777777777777778,
              "#fb9f3a"
             ],
             [
              0.8888888888888888,
              "#fdca26"
             ],
             [
              1,
              "#f0f921"
             ]
            ],
            "type": "contour"
           }
          ],
          "contourcarpet": [
           {
            "colorbar": {
             "outlinewidth": 0,
             "ticks": ""
            },
            "type": "contourcarpet"
           }
          ],
          "heatmap": [
           {
            "colorbar": {
             "outlinewidth": 0,
             "ticks": ""
            },
            "colorscale": [
             [
              0,
              "#0d0887"
             ],
             [
              0.1111111111111111,
              "#46039f"
             ],
             [
              0.2222222222222222,
              "#7201a8"
             ],
             [
              0.3333333333333333,
              "#9c179e"
             ],
             [
              0.4444444444444444,
              "#bd3786"
             ],
             [
              0.5555555555555556,
              "#d8576b"
             ],
             [
              0.6666666666666666,
              "#ed7953"
             ],
             [
              0.7777777777777778,
              "#fb9f3a"
             ],
             [
              0.8888888888888888,
              "#fdca26"
             ],
             [
              1,
              "#f0f921"
             ]
            ],
            "type": "heatmap"
           }
          ],
          "heatmapgl": [
           {
            "colorbar": {
             "outlinewidth": 0,
             "ticks": ""
            },
            "colorscale": [
             [
              0,
              "#0d0887"
             ],
             [
              0.1111111111111111,
              "#46039f"
             ],
             [
              0.2222222222222222,
              "#7201a8"
             ],
             [
              0.3333333333333333,
              "#9c179e"
             ],
             [
              0.4444444444444444,
              "#bd3786"
             ],
             [
              0.5555555555555556,
              "#d8576b"
             ],
             [
              0.6666666666666666,
              "#ed7953"
             ],
             [
              0.7777777777777778,
              "#fb9f3a"
             ],
             [
              0.8888888888888888,
              "#fdca26"
             ],
             [
              1,
              "#f0f921"
             ]
            ],
            "type": "heatmapgl"
           }
          ],
          "histogram": [
           {
            "marker": {
             "colorbar": {
              "outlinewidth": 0,
              "ticks": ""
             }
            },
            "type": "histogram"
           }
          ],
          "histogram2d": [
           {
            "colorbar": {
             "outlinewidth": 0,
             "ticks": ""
            },
            "colorscale": [
             [
              0,
              "#0d0887"
             ],
             [
              0.1111111111111111,
              "#46039f"
             ],
             [
              0.2222222222222222,
              "#7201a8"
             ],
             [
              0.3333333333333333,
              "#9c179e"
             ],
             [
              0.4444444444444444,
              "#bd3786"
             ],
             [
              0.5555555555555556,
              "#d8576b"
             ],
             [
              0.6666666666666666,
              "#ed7953"
             ],
             [
              0.7777777777777778,
              "#fb9f3a"
             ],
             [
              0.8888888888888888,
              "#fdca26"
             ],
             [
              1,
              "#f0f921"
             ]
            ],
            "type": "histogram2d"
           }
          ],
          "histogram2dcontour": [
           {
            "colorbar": {
             "outlinewidth": 0,
             "ticks": ""
            },
            "colorscale": [
             [
              0,
              "#0d0887"
             ],
             [
              0.1111111111111111,
              "#46039f"
             ],
             [
              0.2222222222222222,
              "#7201a8"
             ],
             [
              0.3333333333333333,
              "#9c179e"
             ],
             [
              0.4444444444444444,
              "#bd3786"
             ],
             [
              0.5555555555555556,
              "#d8576b"
             ],
             [
              0.6666666666666666,
              "#ed7953"
             ],
             [
              0.7777777777777778,
              "#fb9f3a"
             ],
             [
              0.8888888888888888,
              "#fdca26"
             ],
             [
              1,
              "#f0f921"
             ]
            ],
            "type": "histogram2dcontour"
           }
          ],
          "mesh3d": [
           {
            "colorbar": {
             "outlinewidth": 0,
             "ticks": ""
            },
            "type": "mesh3d"
           }
          ],
          "parcoords": [
           {
            "line": {
             "colorbar": {
              "outlinewidth": 0,
              "ticks": ""
             }
            },
            "type": "parcoords"
           }
          ],
          "pie": [
           {
            "automargin": true,
            "type": "pie"
           }
          ],
          "scatter": [
           {
            "marker": {
             "colorbar": {
              "outlinewidth": 0,
              "ticks": ""
             }
            },
            "type": "scatter"
           }
          ],
          "scatter3d": [
           {
            "line": {
             "colorbar": {
              "outlinewidth": 0,
              "ticks": ""
             }
            },
            "marker": {
             "colorbar": {
              "outlinewidth": 0,
              "ticks": ""
             }
            },
            "type": "scatter3d"
           }
          ],
          "scattercarpet": [
           {
            "marker": {
             "colorbar": {
              "outlinewidth": 0,
              "ticks": ""
             }
            },
            "type": "scattercarpet"
           }
          ],
          "scattergeo": [
           {
            "marker": {
             "colorbar": {
              "outlinewidth": 0,
              "ticks": ""
             }
            },
            "type": "scattergeo"
           }
          ],
          "scattergl": [
           {
            "marker": {
             "colorbar": {
              "outlinewidth": 0,
              "ticks": ""
             }
            },
            "type": "scattergl"
           }
          ],
          "scattermapbox": [
           {
            "marker": {
             "colorbar": {
              "outlinewidth": 0,
              "ticks": ""
             }
            },
            "type": "scattermapbox"
           }
          ],
          "scatterpolar": [
           {
            "marker": {
             "colorbar": {
              "outlinewidth": 0,
              "ticks": ""
             }
            },
            "type": "scatterpolar"
           }
          ],
          "scatterpolargl": [
           {
            "marker": {
             "colorbar": {
              "outlinewidth": 0,
              "ticks": ""
             }
            },
            "type": "scatterpolargl"
           }
          ],
          "scatterternary": [
           {
            "marker": {
             "colorbar": {
              "outlinewidth": 0,
              "ticks": ""
             }
            },
            "type": "scatterternary"
           }
          ],
          "surface": [
           {
            "colorbar": {
             "outlinewidth": 0,
             "ticks": ""
            },
            "colorscale": [
             [
              0,
              "#0d0887"
             ],
             [
              0.1111111111111111,
              "#46039f"
             ],
             [
              0.2222222222222222,
              "#7201a8"
             ],
             [
              0.3333333333333333,
              "#9c179e"
             ],
             [
              0.4444444444444444,
              "#bd3786"
             ],
             [
              0.5555555555555556,
              "#d8576b"
             ],
             [
              0.6666666666666666,
              "#ed7953"
             ],
             [
              0.7777777777777778,
              "#fb9f3a"
             ],
             [
              0.8888888888888888,
              "#fdca26"
             ],
             [
              1,
              "#f0f921"
             ]
            ],
            "type": "surface"
           }
          ],
          "table": [
           {
            "cells": {
             "fill": {
              "color": "#EBF0F8"
             },
             "line": {
              "color": "white"
             }
            },
            "header": {
             "fill": {
              "color": "#C8D4E3"
             },
             "line": {
              "color": "white"
             }
            },
            "type": "table"
           }
          ]
         },
         "layout": {
          "annotationdefaults": {
           "arrowcolor": "#2a3f5f",
           "arrowhead": 0,
           "arrowwidth": 1
          },
          "coloraxis": {
           "colorbar": {
            "outlinewidth": 0,
            "ticks": ""
           }
          },
          "colorscale": {
           "diverging": [
            [
             0,
             "#8e0152"
            ],
            [
             0.1,
             "#c51b7d"
            ],
            [
             0.2,
             "#de77ae"
            ],
            [
             0.3,
             "#f1b6da"
            ],
            [
             0.4,
             "#fde0ef"
            ],
            [
             0.5,
             "#f7f7f7"
            ],
            [
             0.6,
             "#e6f5d0"
            ],
            [
             0.7,
             "#b8e186"
            ],
            [
             0.8,
             "#7fbc41"
            ],
            [
             0.9,
             "#4d9221"
            ],
            [
             1,
             "#276419"
            ]
           ],
           "sequential": [
            [
             0,
             "#0d0887"
            ],
            [
             0.1111111111111111,
             "#46039f"
            ],
            [
             0.2222222222222222,
             "#7201a8"
            ],
            [
             0.3333333333333333,
             "#9c179e"
            ],
            [
             0.4444444444444444,
             "#bd3786"
            ],
            [
             0.5555555555555556,
             "#d8576b"
            ],
            [
             0.6666666666666666,
             "#ed7953"
            ],
            [
             0.7777777777777778,
             "#fb9f3a"
            ],
            [
             0.8888888888888888,
             "#fdca26"
            ],
            [
             1,
             "#f0f921"
            ]
           ],
           "sequentialminus": [
            [
             0,
             "#0d0887"
            ],
            [
             0.1111111111111111,
             "#46039f"
            ],
            [
             0.2222222222222222,
             "#7201a8"
            ],
            [
             0.3333333333333333,
             "#9c179e"
            ],
            [
             0.4444444444444444,
             "#bd3786"
            ],
            [
             0.5555555555555556,
             "#d8576b"
            ],
            [
             0.6666666666666666,
             "#ed7953"
            ],
            [
             0.7777777777777778,
             "#fb9f3a"
            ],
            [
             0.8888888888888888,
             "#fdca26"
            ],
            [
             1,
             "#f0f921"
            ]
           ]
          },
          "colorway": [
           "#636efa",
           "#EF553B",
           "#00cc96",
           "#ab63fa",
           "#FFA15A",
           "#19d3f3",
           "#FF6692",
           "#B6E880",
           "#FF97FF",
           "#FECB52"
          ],
          "font": {
           "color": "#2a3f5f"
          },
          "geo": {
           "bgcolor": "white",
           "lakecolor": "white",
           "landcolor": "#E5ECF6",
           "showlakes": true,
           "showland": true,
           "subunitcolor": "white"
          },
          "hoverlabel": {
           "align": "left"
          },
          "hovermode": "closest",
          "mapbox": {
           "style": "light"
          },
          "paper_bgcolor": "white",
          "plot_bgcolor": "#E5ECF6",
          "polar": {
           "angularaxis": {
            "gridcolor": "white",
            "linecolor": "white",
            "ticks": ""
           },
           "bgcolor": "#E5ECF6",
           "radialaxis": {
            "gridcolor": "white",
            "linecolor": "white",
            "ticks": ""
           }
          },
          "scene": {
           "xaxis": {
            "backgroundcolor": "#E5ECF6",
            "gridcolor": "white",
            "gridwidth": 2,
            "linecolor": "white",
            "showbackground": true,
            "ticks": "",
            "zerolinecolor": "white"
           },
           "yaxis": {
            "backgroundcolor": "#E5ECF6",
            "gridcolor": "white",
            "gridwidth": 2,
            "linecolor": "white",
            "showbackground": true,
            "ticks": "",
            "zerolinecolor": "white"
           },
           "zaxis": {
            "backgroundcolor": "#E5ECF6",
            "gridcolor": "white",
            "gridwidth": 2,
            "linecolor": "white",
            "showbackground": true,
            "ticks": "",
            "zerolinecolor": "white"
           }
          },
          "shapedefaults": {
           "line": {
            "color": "#2a3f5f"
           }
          },
          "ternary": {
           "aaxis": {
            "gridcolor": "white",
            "linecolor": "white",
            "ticks": ""
           },
           "baxis": {
            "gridcolor": "white",
            "linecolor": "white",
            "ticks": ""
           },
           "bgcolor": "#E5ECF6",
           "caxis": {
            "gridcolor": "white",
            "linecolor": "white",
            "ticks": ""
           }
          },
          "title": {
           "x": 0.05
          },
          "xaxis": {
           "automargin": true,
           "gridcolor": "white",
           "linecolor": "white",
           "ticks": "",
           "title": {
            "standoff": 15
           },
           "zerolinecolor": "white",
           "zerolinewidth": 2
          },
          "yaxis": {
           "automargin": true,
           "gridcolor": "white",
           "linecolor": "white",
           "ticks": "",
           "title": {
            "standoff": 15
           },
           "zerolinecolor": "white",
           "zerolinewidth": 2
          }
         }
        },
        "title": {
         "text": "Top5 Brands with low Retention Rate"
        },
        "width": 800,
        "xaxis": {
         "anchor": "y",
         "domain": [
          0,
          1
         ],
         "title": {
          "text": "brand"
         }
        },
        "yaxis": {
         "anchor": "x",
         "domain": [
          0,
          1
         ],
         "title": {
          "text": "ratention_rate"
         }
        }
       }
      },
      "text/html": [
       "<div>\n",
       "        \n",
       "        \n",
       "            <div id=\"70fe1c6a-f117-4494-81bd-4b07c3b819d4\" class=\"plotly-graph-div\" style=\"height:525px; width:800px;\"></div>\n",
       "            <script type=\"text/javascript\">\n",
       "                require([\"plotly\"], function(Plotly) {\n",
       "                    window.PLOTLYENV=window.PLOTLYENV || {};\n",
       "                    \n",
       "                if (document.getElementById(\"70fe1c6a-f117-4494-81bd-4b07c3b819d4\")) {\n",
       "                    Plotly.newPlot(\n",
       "                        '70fe1c6a-f117-4494-81bd-4b07c3b819d4',\n",
       "                        [{\"alignmentgroup\": \"True\", \"hovertemplate\": \"brand=%{x}<br>ratention_rate=%{text}<extra></extra>\", \"legendgroup\": \"\", \"marker\": {\"color\": \"#636efa\"}, \"name\": \"\", \"offsetgroup\": \"\", \"orientation\": \"v\", \"showlegend\": false, \"text\": [0.38, 0.38, 0.4, 0.41, 0.42], \"textposition\": \"auto\", \"type\": \"bar\", \"x\": [\"Dodge\", \"Cadillac\", \"Volkswagen\", \"Chrysler\", \"Chevrolet\"], \"xaxis\": \"x\", \"y\": [0.38, 0.38, 0.4, 0.41, 0.42], \"yaxis\": \"y\"}],\n",
       "                        {\"barmode\": \"relative\", \"legend\": {\"tracegroupgap\": 0}, \"template\": {\"data\": {\"bar\": [{\"error_x\": {\"color\": \"#2a3f5f\"}, \"error_y\": {\"color\": \"#2a3f5f\"}, \"marker\": {\"line\": {\"color\": \"#E5ECF6\", \"width\": 0.5}}, \"type\": \"bar\"}], \"barpolar\": [{\"marker\": {\"line\": {\"color\": \"#E5ECF6\", \"width\": 0.5}}, \"type\": \"barpolar\"}], \"carpet\": [{\"aaxis\": {\"endlinecolor\": \"#2a3f5f\", \"gridcolor\": \"white\", \"linecolor\": \"white\", \"minorgridcolor\": \"white\", \"startlinecolor\": \"#2a3f5f\"}, \"baxis\": {\"endlinecolor\": \"#2a3f5f\", \"gridcolor\": \"white\", \"linecolor\": \"white\", \"minorgridcolor\": \"white\", \"startlinecolor\": \"#2a3f5f\"}, \"type\": \"carpet\"}], \"choropleth\": [{\"colorbar\": {\"outlinewidth\": 0, \"ticks\": \"\"}, \"type\": \"choropleth\"}], \"contour\": [{\"colorbar\": {\"outlinewidth\": 0, \"ticks\": \"\"}, \"colorscale\": [[0.0, \"#0d0887\"], [0.1111111111111111, \"#46039f\"], [0.2222222222222222, \"#7201a8\"], [0.3333333333333333, \"#9c179e\"], [0.4444444444444444, \"#bd3786\"], [0.5555555555555556, \"#d8576b\"], [0.6666666666666666, \"#ed7953\"], [0.7777777777777778, \"#fb9f3a\"], [0.8888888888888888, \"#fdca26\"], [1.0, \"#f0f921\"]], \"type\": \"contour\"}], \"contourcarpet\": [{\"colorbar\": {\"outlinewidth\": 0, \"ticks\": \"\"}, \"type\": \"contourcarpet\"}], \"heatmap\": [{\"colorbar\": {\"outlinewidth\": 0, \"ticks\": \"\"}, \"colorscale\": [[0.0, \"#0d0887\"], [0.1111111111111111, \"#46039f\"], [0.2222222222222222, \"#7201a8\"], [0.3333333333333333, \"#9c179e\"], [0.4444444444444444, \"#bd3786\"], [0.5555555555555556, \"#d8576b\"], [0.6666666666666666, \"#ed7953\"], [0.7777777777777778, \"#fb9f3a\"], [0.8888888888888888, \"#fdca26\"], [1.0, \"#f0f921\"]], \"type\": \"heatmap\"}], \"heatmapgl\": [{\"colorbar\": {\"outlinewidth\": 0, \"ticks\": \"\"}, \"colorscale\": [[0.0, \"#0d0887\"], [0.1111111111111111, \"#46039f\"], [0.2222222222222222, \"#7201a8\"], [0.3333333333333333, \"#9c179e\"], [0.4444444444444444, \"#bd3786\"], [0.5555555555555556, \"#d8576b\"], [0.6666666666666666, \"#ed7953\"], [0.7777777777777778, \"#fb9f3a\"], [0.8888888888888888, \"#fdca26\"], [1.0, \"#f0f921\"]], \"type\": \"heatmapgl\"}], \"histogram\": [{\"marker\": {\"colorbar\": {\"outlinewidth\": 0, \"ticks\": \"\"}}, \"type\": \"histogram\"}], \"histogram2d\": [{\"colorbar\": {\"outlinewidth\": 0, \"ticks\": \"\"}, \"colorscale\": [[0.0, \"#0d0887\"], [0.1111111111111111, \"#46039f\"], [0.2222222222222222, \"#7201a8\"], [0.3333333333333333, \"#9c179e\"], [0.4444444444444444, \"#bd3786\"], [0.5555555555555556, \"#d8576b\"], [0.6666666666666666, \"#ed7953\"], [0.7777777777777778, \"#fb9f3a\"], [0.8888888888888888, \"#fdca26\"], [1.0, \"#f0f921\"]], \"type\": \"histogram2d\"}], \"histogram2dcontour\": [{\"colorbar\": {\"outlinewidth\": 0, \"ticks\": \"\"}, \"colorscale\": [[0.0, \"#0d0887\"], [0.1111111111111111, \"#46039f\"], [0.2222222222222222, \"#7201a8\"], [0.3333333333333333, \"#9c179e\"], [0.4444444444444444, \"#bd3786\"], [0.5555555555555556, \"#d8576b\"], [0.6666666666666666, \"#ed7953\"], [0.7777777777777778, \"#fb9f3a\"], [0.8888888888888888, \"#fdca26\"], [1.0, \"#f0f921\"]], \"type\": \"histogram2dcontour\"}], \"mesh3d\": [{\"colorbar\": {\"outlinewidth\": 0, \"ticks\": \"\"}, \"type\": \"mesh3d\"}], \"parcoords\": [{\"line\": {\"colorbar\": {\"outlinewidth\": 0, \"ticks\": \"\"}}, \"type\": \"parcoords\"}], \"pie\": [{\"automargin\": true, \"type\": \"pie\"}], \"scatter\": [{\"marker\": {\"colorbar\": {\"outlinewidth\": 0, \"ticks\": \"\"}}, \"type\": \"scatter\"}], \"scatter3d\": [{\"line\": {\"colorbar\": {\"outlinewidth\": 0, \"ticks\": \"\"}}, \"marker\": {\"colorbar\": {\"outlinewidth\": 0, \"ticks\": \"\"}}, \"type\": \"scatter3d\"}], \"scattercarpet\": [{\"marker\": {\"colorbar\": {\"outlinewidth\": 0, \"ticks\": \"\"}}, \"type\": \"scattercarpet\"}], \"scattergeo\": [{\"marker\": {\"colorbar\": {\"outlinewidth\": 0, \"ticks\": \"\"}}, \"type\": \"scattergeo\"}], \"scattergl\": [{\"marker\": {\"colorbar\": {\"outlinewidth\": 0, \"ticks\": \"\"}}, \"type\": \"scattergl\"}], \"scattermapbox\": [{\"marker\": {\"colorbar\": {\"outlinewidth\": 0, \"ticks\": \"\"}}, \"type\": \"scattermapbox\"}], \"scatterpolar\": [{\"marker\": {\"colorbar\": {\"outlinewidth\": 0, \"ticks\": \"\"}}, \"type\": \"scatterpolar\"}], \"scatterpolargl\": [{\"marker\": {\"colorbar\": {\"outlinewidth\": 0, \"ticks\": \"\"}}, \"type\": \"scatterpolargl\"}], \"scatterternary\": [{\"marker\": {\"colorbar\": {\"outlinewidth\": 0, \"ticks\": \"\"}}, \"type\": \"scatterternary\"}], \"surface\": [{\"colorbar\": {\"outlinewidth\": 0, \"ticks\": \"\"}, \"colorscale\": [[0.0, \"#0d0887\"], [0.1111111111111111, \"#46039f\"], [0.2222222222222222, \"#7201a8\"], [0.3333333333333333, \"#9c179e\"], [0.4444444444444444, \"#bd3786\"], [0.5555555555555556, \"#d8576b\"], [0.6666666666666666, \"#ed7953\"], [0.7777777777777778, \"#fb9f3a\"], [0.8888888888888888, \"#fdca26\"], [1.0, \"#f0f921\"]], \"type\": \"surface\"}], \"table\": [{\"cells\": {\"fill\": {\"color\": \"#EBF0F8\"}, \"line\": {\"color\": \"white\"}}, \"header\": {\"fill\": {\"color\": \"#C8D4E3\"}, \"line\": {\"color\": \"white\"}}, \"type\": \"table\"}]}, \"layout\": {\"annotationdefaults\": {\"arrowcolor\": \"#2a3f5f\", \"arrowhead\": 0, \"arrowwidth\": 1}, \"coloraxis\": {\"colorbar\": {\"outlinewidth\": 0, \"ticks\": \"\"}}, \"colorscale\": {\"diverging\": [[0, \"#8e0152\"], [0.1, \"#c51b7d\"], [0.2, \"#de77ae\"], [0.3, \"#f1b6da\"], [0.4, \"#fde0ef\"], [0.5, \"#f7f7f7\"], [0.6, \"#e6f5d0\"], [0.7, \"#b8e186\"], [0.8, \"#7fbc41\"], [0.9, \"#4d9221\"], [1, \"#276419\"]], \"sequential\": [[0.0, \"#0d0887\"], [0.1111111111111111, \"#46039f\"], [0.2222222222222222, \"#7201a8\"], [0.3333333333333333, \"#9c179e\"], [0.4444444444444444, \"#bd3786\"], [0.5555555555555556, \"#d8576b\"], [0.6666666666666666, \"#ed7953\"], [0.7777777777777778, \"#fb9f3a\"], [0.8888888888888888, \"#fdca26\"], [1.0, \"#f0f921\"]], \"sequentialminus\": [[0.0, \"#0d0887\"], [0.1111111111111111, \"#46039f\"], [0.2222222222222222, \"#7201a8\"], [0.3333333333333333, \"#9c179e\"], [0.4444444444444444, \"#bd3786\"], [0.5555555555555556, \"#d8576b\"], [0.6666666666666666, \"#ed7953\"], [0.7777777777777778, \"#fb9f3a\"], [0.8888888888888888, \"#fdca26\"], [1.0, \"#f0f921\"]]}, \"colorway\": [\"#636efa\", \"#EF553B\", \"#00cc96\", \"#ab63fa\", \"#FFA15A\", \"#19d3f3\", \"#FF6692\", \"#B6E880\", \"#FF97FF\", \"#FECB52\"], \"font\": {\"color\": \"#2a3f5f\"}, \"geo\": {\"bgcolor\": \"white\", \"lakecolor\": \"white\", \"landcolor\": \"#E5ECF6\", \"showlakes\": true, \"showland\": true, \"subunitcolor\": \"white\"}, \"hoverlabel\": {\"align\": \"left\"}, \"hovermode\": \"closest\", \"mapbox\": {\"style\": \"light\"}, \"paper_bgcolor\": \"white\", \"plot_bgcolor\": \"#E5ECF6\", \"polar\": {\"angularaxis\": {\"gridcolor\": \"white\", \"linecolor\": \"white\", \"ticks\": \"\"}, \"bgcolor\": \"#E5ECF6\", \"radialaxis\": {\"gridcolor\": \"white\", \"linecolor\": \"white\", \"ticks\": \"\"}}, \"scene\": {\"xaxis\": {\"backgroundcolor\": \"#E5ECF6\", \"gridcolor\": \"white\", \"gridwidth\": 2, \"linecolor\": \"white\", \"showbackground\": true, \"ticks\": \"\", \"zerolinecolor\": \"white\"}, \"yaxis\": {\"backgroundcolor\": \"#E5ECF6\", \"gridcolor\": \"white\", \"gridwidth\": 2, \"linecolor\": \"white\", \"showbackground\": true, \"ticks\": \"\", \"zerolinecolor\": \"white\"}, \"zaxis\": {\"backgroundcolor\": \"#E5ECF6\", \"gridcolor\": \"white\", \"gridwidth\": 2, \"linecolor\": \"white\", \"showbackground\": true, \"ticks\": \"\", \"zerolinecolor\": \"white\"}}, \"shapedefaults\": {\"line\": {\"color\": \"#2a3f5f\"}}, \"ternary\": {\"aaxis\": {\"gridcolor\": \"white\", \"linecolor\": \"white\", \"ticks\": \"\"}, \"baxis\": {\"gridcolor\": \"white\", \"linecolor\": \"white\", \"ticks\": \"\"}, \"bgcolor\": \"#E5ECF6\", \"caxis\": {\"gridcolor\": \"white\", \"linecolor\": \"white\", \"ticks\": \"\"}}, \"title\": {\"x\": 0.05}, \"xaxis\": {\"automargin\": true, \"gridcolor\": \"white\", \"linecolor\": \"white\", \"ticks\": \"\", \"title\": {\"standoff\": 15}, \"zerolinecolor\": \"white\", \"zerolinewidth\": 2}, \"yaxis\": {\"automargin\": true, \"gridcolor\": \"white\", \"linecolor\": \"white\", \"ticks\": \"\", \"title\": {\"standoff\": 15}, \"zerolinecolor\": \"white\", \"zerolinewidth\": 2}}}, \"title\": {\"text\": \"Top5 Brands with low Retention Rate\"}, \"width\": 800, \"xaxis\": {\"anchor\": \"y\", \"domain\": [0.0, 1.0], \"title\": {\"text\": \"brand\"}}, \"yaxis\": {\"anchor\": \"x\", \"domain\": [0.0, 1.0], \"title\": {\"text\": \"ratention_rate\"}}},\n",
       "                        {\"responsive\": true}\n",
       "                    ).then(function(){\n",
       "                            \n",
       "var gd = document.getElementById('70fe1c6a-f117-4494-81bd-4b07c3b819d4');\n",
       "var x = new MutationObserver(function (mutations, observer) {{\n",
       "        var display = window.getComputedStyle(gd).display;\n",
       "        if (!display || display === 'none') {{\n",
       "            console.log([gd, 'removed!']);\n",
       "            Plotly.purge(gd);\n",
       "            observer.disconnect();\n",
       "        }}\n",
       "}});\n",
       "\n",
       "// Listen for the removal of the full notebook cells\n",
       "var notebookContainer = gd.closest('#notebook-container');\n",
       "if (notebookContainer) {{\n",
       "    x.observe(notebookContainer, {childList: true});\n",
       "}}\n",
       "\n",
       "// Listen for the clearing of the current output cell\n",
       "var outputEl = gd.closest('.output');\n",
       "if (outputEl) {{\n",
       "    x.observe(outputEl, {childList: true});\n",
       "}}\n",
       "\n",
       "                        })\n",
       "                };\n",
       "                });\n",
       "            </script>\n",
       "        </div>"
      ]
     },
     "metadata": {},
     "output_type": "display_data"
    }
   ],
   "source": [
    "# fig=go.Figure(go.Bar(x=retentionrate_TOP5.index,y=retentionrate_TOP5['ratention_rate'],width=0.3,text=y,textposition='outside'\\\n",
    "#                 ))\n",
    "fig=px.bar(retentionrate_Worst5, x=retentionrate_Worst5.index,y=retentionrate_Worst5['ratention_rate'],text=y,\\\n",
    "          width=800,title='Top5 Brands with low Retention Rate')\n",
    "# fig.update_layout(title_text='Top5 Brands with high Retention Rate')\n",
    "\n",
    "# py.iplot([top5brand])\n",
    "fig.show()"
   ]
  },
  {
   "cell_type": "code",
   "execution_count": 31,
   "metadata": {},
   "outputs": [
    {
     "data": {
      "image/png": "[encoded data removed]",
      "text/plain": [
       "<Figure size 800x550 with 1 Axes>"
      ]
     },
     "metadata": {},
     "output_type": "display_data"
    }
   ],
   "source": [
    "# plot TOP WORST 5: depreciation trend \n",
    "plt.figure(dpi=100)\n",
    "\n",
    "Dodge=retentionrate_Worst5.loc['Dodge','0':'5']\n",
    "plt.plot(Dodge,'y-',label='Dodge')\n",
    "\n",
    "Cadillac=retentionrate_Worst5.loc['Cadillac','0':'5']\n",
    "Cadillac.plot(kind='line')\n",
    "\n",
    "Volkswagen=retentionrate_Worst5.loc['Volkswagen','0':'5']\n",
    "Volkswagen.plot(kind='line')\n",
    "\n",
    "Chevrolet=retentionrate_Worst5.loc['Chevrolet','0':'5']\n",
    "Chevrolet.plot(kind='line')\n",
    "\n",
    "Chrysler=retentionrate_Worst5.loc['Chrysler','0':'5']\n",
    "Chrysler.plot(kind='line')\n",
    "\n",
    "plt.title('Top5 Brands with low Retention Rate')\n",
    "plt.xlabel('Brand')\n",
    "plt.ylabel('Retention Rate')\n",
    "\n",
    "plt.legend()\n",
    "plt.show()"
   ]
  },
  {
   "cell_type": "code",
   "execution_count": 32,
   "metadata": {},
   "outputs": [
    {
     "data": {
      "image/png": "[encoded data removed]",
      "text/plain": [
       "<Figure size 576x396 with 1 Axes>"
      ]
     },
     "metadata": {},
     "output_type": "display_data"
    }
   ],
   "source": [
    "# TOP 1 VS BOTTOM 1 \n",
    "Dodge=retentionrate_Worst5.loc['Dodge','0':'5']\n",
    "plt.plot(Dodge,'r-',label='Dodge')\n",
    "\n",
    "Hyundai=retentionrate_TOP5.loc['Hyundai','0':'5']\n",
    "plt.plot(Hyundai,'b-',label='Hyundai')\n",
    "\n",
    "\n",
    "plt.legend(fontsize=14)\n",
    "plt.show()\n"
   ]
  },
  {
   "cell_type": "markdown",
   "metadata": {},
   "source": [
    "<h1 align=\"center\"><font size='4'> </h1>\n",
    "<br>"
   ]
  },
  {
   "cell_type": "markdown",
   "metadata": {},
   "source": [
    "<h1 align=\"center\"><font size='4'></h1>\n",
    "<br>"
   ]
  },
  {
   "cell_type": "markdown",
   "metadata": {},
   "source": [
    "<h1 align=\"center\"><font size='4'>  MODEL RETETION </h1>\n",
    "<br>"
   ]
  },
  {
   "cell_type": "code",
   "execution_count": 271,
   "metadata": {},
   "outputs": [],
   "source": [
    "model_retention5=data_age_less5.groupby(['model','car_age_str'])['price'].mean().unstack()"
   ]
  },
  {
   "cell_type": "code",
   "execution_count": 272,
   "metadata": {},
   "outputs": [
    {
     "data": {
      "text/html": [
       "<div>\n",
       "<style scoped>\n",
       "    .dataframe tbody tr th:only-of-type {\n",
       "        vertical-align: middle;\n",
       "    }\n",
       "\n",
       "    .dataframe tbody tr th {\n",
       "        vertical-align: top;\n",
       "    }\n",
       "\n",
       "    .dataframe thead th {\n",
       "        text-align: right;\n",
       "    }\n",
       "</style>\n",
       "<table border=\"1\" class=\"dataframe\">\n",
       "  <thead>\n",
       "    <tr style=\"text-align: right;\">\n",
       "      <th>car_age_str</th>\n",
       "      <th>0</th>\n",
       "      <th>1</th>\n",
       "      <th>2</th>\n",
       "      <th>3</th>\n",
       "      <th>4</th>\n",
       "      <th>5</th>\n",
       "    </tr>\n",
       "    <tr>\n",
       "      <th>model</th>\n",
       "      <th></th>\n",
       "      <th></th>\n",
       "      <th></th>\n",
       "      <th></th>\n",
       "      <th></th>\n",
       "      <th></th>\n",
       "    </tr>\n",
       "  </thead>\n",
       "  <tbody>\n",
       "    <tr>\n",
       "      <th>1500</th>\n",
       "      <td>63956.904762</td>\n",
       "      <td>43206.808824</td>\n",
       "      <td>33061.458824</td>\n",
       "      <td>32015.418919</td>\n",
       "      <td>30794.160494</td>\n",
       "      <td>28024.762712</td>\n",
       "    </tr>\n",
       "    <tr>\n",
       "      <th>2</th>\n",
       "      <td>49835.142857</td>\n",
       "      <td>43335.000000</td>\n",
       "      <td>NaN</td>\n",
       "      <td>36946.000000</td>\n",
       "      <td>31736.000000</td>\n",
       "      <td>25165.000000</td>\n",
       "    </tr>\n",
       "    <tr>\n",
       "      <th>200</th>\n",
       "      <td>NaN</td>\n",
       "      <td>NaN</td>\n",
       "      <td>NaN</td>\n",
       "      <td>14955.000000</td>\n",
       "      <td>14645.888889</td>\n",
       "      <td>15012.045455</td>\n",
       "    </tr>\n",
       "    <tr>\n",
       "      <th>200S</th>\n",
       "      <td>NaN</td>\n",
       "      <td>NaN</td>\n",
       "      <td>NaN</td>\n",
       "      <td>NaN</td>\n",
       "      <td>NaN</td>\n",
       "      <td>12900.000000</td>\n",
       "    </tr>\n",
       "    <tr>\n",
       "      <th>2500</th>\n",
       "      <td>NaN</td>\n",
       "      <td>63148.111111</td>\n",
       "      <td>48486.800000</td>\n",
       "      <td>51477.000000</td>\n",
       "      <td>52067.375000</td>\n",
       "      <td>46257.000000</td>\n",
       "    </tr>\n",
       "    <tr>\n",
       "      <th>...</th>\n",
       "      <td>...</td>\n",
       "      <td>...</td>\n",
       "      <td>...</td>\n",
       "      <td>...</td>\n",
       "      <td>...</td>\n",
       "      <td>...</td>\n",
       "    </tr>\n",
       "    <tr>\n",
       "      <th>Yaris</th>\n",
       "      <td>19699.000000</td>\n",
       "      <td>16549.000000</td>\n",
       "      <td>17995.000000</td>\n",
       "      <td>14661.000000</td>\n",
       "      <td>14443.000000</td>\n",
       "      <td>12298.444444</td>\n",
       "    </tr>\n",
       "    <tr>\n",
       "      <th>Yukon</th>\n",
       "      <td>83442.800000</td>\n",
       "      <td>51947.500000</td>\n",
       "      <td>54581.333333</td>\n",
       "      <td>56865.600000</td>\n",
       "      <td>52851.200000</td>\n",
       "      <td>56438.666667</td>\n",
       "    </tr>\n",
       "    <tr>\n",
       "      <th>Z4</th>\n",
       "      <td>79911.000000</td>\n",
       "      <td>73333.000000</td>\n",
       "      <td>NaN</td>\n",
       "      <td>NaN</td>\n",
       "      <td>NaN</td>\n",
       "      <td>NaN</td>\n",
       "    </tr>\n",
       "    <tr>\n",
       "      <th>e-tron</th>\n",
       "      <td>NaN</td>\n",
       "      <td>90774.000000</td>\n",
       "      <td>NaN</td>\n",
       "      <td>NaN</td>\n",
       "      <td>NaN</td>\n",
       "      <td>NaN</td>\n",
       "    </tr>\n",
       "    <tr>\n",
       "      <th>i3</th>\n",
       "      <td>NaN</td>\n",
       "      <td>NaN</td>\n",
       "      <td>NaN</td>\n",
       "      <td>NaN</td>\n",
       "      <td>23495.000000</td>\n",
       "      <td>NaN</td>\n",
       "    </tr>\n",
       "  </tbody>\n",
       "</table>\n",
       "<p>355 rows × 6 columns</p>\n",
       "</div>"
      ],
      "text/plain": [
       "car_age_str             0             1             2             3  \\\n",
       "model                                                                 \n",
       "1500         63956.904762  43206.808824  33061.458824  32015.418919   \n",
       "2            49835.142857  43335.000000           NaN  36946.000000   \n",
       "200                   NaN           NaN           NaN  14955.000000   \n",
       "200S                  NaN           NaN           NaN           NaN   \n",
       "2500                  NaN  63148.111111  48486.800000  51477.000000   \n",
       "...                   ...           ...           ...           ...   \n",
       "Yaris        19699.000000  16549.000000  17995.000000  14661.000000   \n",
       "Yukon        83442.800000  51947.500000  54581.333333  56865.600000   \n",
       "Z4           79911.000000  73333.000000           NaN           NaN   \n",
       "e-tron                NaN  90774.000000           NaN           NaN   \n",
       "i3                    NaN           NaN           NaN           NaN   \n",
       "\n",
       "car_age_str             4             5  \n",
       "model                                    \n",
       "1500         30794.160494  28024.762712  \n",
       "2            31736.000000  25165.000000  \n",
       "200          14645.888889  15012.045455  \n",
       "200S                  NaN  12900.000000  \n",
       "2500         52067.375000  46257.000000  \n",
       "...                   ...           ...  \n",
       "Yaris        14443.000000  12298.444444  \n",
       "Yukon        52851.200000  56438.666667  \n",
       "Z4                    NaN           NaN  \n",
       "e-tron                NaN           NaN  \n",
       "i3           23495.000000           NaN  \n",
       "\n",
       "[355 rows x 6 columns]"
      ]
     },
     "execution_count": 272,
     "metadata": {},
     "output_type": "execute_result"
    }
   ],
   "source": [
    "model_retention5"
   ]
  },
  {
   "cell_type": "code",
   "execution_count": 273,
   "metadata": {},
   "outputs": [],
   "source": [
    "model_retention5['ratention_rate']=model_retention5['5']/model_retention5['0']"
   ]
  },
  {
   "cell_type": "code",
   "execution_count": 274,
   "metadata": {},
   "outputs": [
    {
     "data": {
      "text/html": [
       "<div>\n",
       "<style scoped>\n",
       "    .dataframe tbody tr th:only-of-type {\n",
       "        vertical-align: middle;\n",
       "    }\n",
       "\n",
       "    .dataframe tbody tr th {\n",
       "        vertical-align: top;\n",
       "    }\n",
       "\n",
       "    .dataframe thead th {\n",
       "        text-align: right;\n",
       "    }\n",
       "</style>\n",
       "<table border=\"1\" class=\"dataframe\">\n",
       "  <thead>\n",
       "    <tr style=\"text-align: right;\">\n",
       "      <th>car_age_str</th>\n",
       "      <th>0</th>\n",
       "      <th>1</th>\n",
       "      <th>2</th>\n",
       "      <th>3</th>\n",
       "      <th>4</th>\n",
       "      <th>5</th>\n",
       "      <th>ratention_rate</th>\n",
       "    </tr>\n",
       "    <tr>\n",
       "      <th>model</th>\n",
       "      <th></th>\n",
       "      <th></th>\n",
       "      <th></th>\n",
       "      <th></th>\n",
       "      <th></th>\n",
       "      <th></th>\n",
       "      <th></th>\n",
       "    </tr>\n",
       "  </thead>\n",
       "  <tbody>\n",
       "    <tr>\n",
       "      <th>1500</th>\n",
       "      <td>63956.904762</td>\n",
       "      <td>43206.808824</td>\n",
       "      <td>33061.458824</td>\n",
       "      <td>32015.418919</td>\n",
       "      <td>30794.160494</td>\n",
       "      <td>28024.762712</td>\n",
       "      <td>0.438182</td>\n",
       "    </tr>\n",
       "    <tr>\n",
       "      <th>2</th>\n",
       "      <td>49835.142857</td>\n",
       "      <td>43335.000000</td>\n",
       "      <td>NaN</td>\n",
       "      <td>36946.000000</td>\n",
       "      <td>31736.000000</td>\n",
       "      <td>25165.000000</td>\n",
       "      <td>0.504965</td>\n",
       "    </tr>\n",
       "    <tr>\n",
       "      <th>200</th>\n",
       "      <td>NaN</td>\n",
       "      <td>NaN</td>\n",
       "      <td>NaN</td>\n",
       "      <td>14955.000000</td>\n",
       "      <td>14645.888889</td>\n",
       "      <td>15012.045455</td>\n",
       "      <td>NaN</td>\n",
       "    </tr>\n",
       "    <tr>\n",
       "      <th>200S</th>\n",
       "      <td>NaN</td>\n",
       "      <td>NaN</td>\n",
       "      <td>NaN</td>\n",
       "      <td>NaN</td>\n",
       "      <td>NaN</td>\n",
       "      <td>12900.000000</td>\n",
       "      <td>NaN</td>\n",
       "    </tr>\n",
       "    <tr>\n",
       "      <th>2500</th>\n",
       "      <td>NaN</td>\n",
       "      <td>63148.111111</td>\n",
       "      <td>48486.800000</td>\n",
       "      <td>51477.000000</td>\n",
       "      <td>52067.375000</td>\n",
       "      <td>46257.000000</td>\n",
       "      <td>NaN</td>\n",
       "    </tr>\n",
       "  </tbody>\n",
       "</table>\n",
       "</div>"
      ],
      "text/plain": [
       "car_age_str             0             1             2             3  \\\n",
       "model                                                                 \n",
       "1500         63956.904762  43206.808824  33061.458824  32015.418919   \n",
       "2            49835.142857  43335.000000           NaN  36946.000000   \n",
       "200                   NaN           NaN           NaN  14955.000000   \n",
       "200S                  NaN           NaN           NaN           NaN   \n",
       "2500                  NaN  63148.111111  48486.800000  51477.000000   \n",
       "\n",
       "car_age_str             4             5  ratention_rate  \n",
       "model                                                    \n",
       "1500         30794.160494  28024.762712        0.438182  \n",
       "2            31736.000000  25165.000000        0.504965  \n",
       "200          14645.888889  15012.045455             NaN  \n",
       "200S                  NaN  12900.000000             NaN  \n",
       "2500         52067.375000  46257.000000             NaN  "
      ]
     },
     "execution_count": 274,
     "metadata": {},
     "output_type": "execute_result"
    }
   ],
   "source": [
    "model_retention5.head(5)"
   ]
  },
  {
   "cell_type": "code",
   "execution_count": 275,
   "metadata": {},
   "outputs": [],
   "source": [
    "TOP5_Model=model_retention5.sort_values(by='ratention_rate',ascending=False).head(7).iloc[2:]"
   ]
  },
  {
   "cell_type": "code",
   "execution_count": 276,
   "metadata": {
    "scrolled": false
   },
   "outputs": [
    {
     "data": {
      "text/html": [
       "<div>\n",
       "<style scoped>\n",
       "    .dataframe tbody tr th:only-of-type {\n",
       "        vertical-align: middle;\n",
       "    }\n",
       "\n",
       "    .dataframe tbody tr th {\n",
       "        vertical-align: top;\n",
       "    }\n",
       "\n",
       "    .dataframe thead th {\n",
       "        text-align: right;\n",
       "    }\n",
       "</style>\n",
       "<table border=\"1\" class=\"dataframe\">\n",
       "  <thead>\n",
       "    <tr style=\"text-align: right;\">\n",
       "      <th>car_age_str</th>\n",
       "      <th>0</th>\n",
       "      <th>1</th>\n",
       "      <th>2</th>\n",
       "      <th>3</th>\n",
       "      <th>4</th>\n",
       "      <th>5</th>\n",
       "      <th>ratention_rate</th>\n",
       "    </tr>\n",
       "    <tr>\n",
       "      <th>model</th>\n",
       "      <th></th>\n",
       "      <th></th>\n",
       "      <th></th>\n",
       "      <th></th>\n",
       "      <th></th>\n",
       "      <th></th>\n",
       "      <th></th>\n",
       "    </tr>\n",
       "  </thead>\n",
       "  <tbody>\n",
       "    <tr>\n",
       "      <th>Mustang</th>\n",
       "      <td>33815.00</td>\n",
       "      <td>36417.146341</td>\n",
       "      <td>37875.640000</td>\n",
       "      <td>28065.000000</td>\n",
       "      <td>27173.777778</td>\n",
       "      <td>25406.714286</td>\n",
       "      <td>0.75</td>\n",
       "    </tr>\n",
       "    <tr>\n",
       "      <th>Savana</th>\n",
       "      <td>32155.00</td>\n",
       "      <td>32811.714286</td>\n",
       "      <td>28464.031250</td>\n",
       "      <td>26432.294118</td>\n",
       "      <td>31019.666667</td>\n",
       "      <td>23488.000000</td>\n",
       "      <td>0.73</td>\n",
       "    </tr>\n",
       "    <tr>\n",
       "      <th>WRX</th>\n",
       "      <td>36399.00</td>\n",
       "      <td>32752.166667</td>\n",
       "      <td>31814.285714</td>\n",
       "      <td>28972.818182</td>\n",
       "      <td>27062.100000</td>\n",
       "      <td>26062.500000</td>\n",
       "      <td>0.72</td>\n",
       "    </tr>\n",
       "    <tr>\n",
       "      <th>Sprinter</th>\n",
       "      <td>54004.75</td>\n",
       "      <td>75380.750000</td>\n",
       "      <td>87972.500000</td>\n",
       "      <td>46994.000000</td>\n",
       "      <td>38888.000000</td>\n",
       "      <td>38347.500000</td>\n",
       "      <td>0.71</td>\n",
       "    </tr>\n",
       "    <tr>\n",
       "      <th>Tucson</th>\n",
       "      <td>26257.00</td>\n",
       "      <td>27642.086957</td>\n",
       "      <td>23830.714286</td>\n",
       "      <td>21642.222222</td>\n",
       "      <td>19826.565217</td>\n",
       "      <td>18421.666667</td>\n",
       "      <td>0.70</td>\n",
       "    </tr>\n",
       "  </tbody>\n",
       "</table>\n",
       "</div>"
      ],
      "text/plain": [
       "car_age_str         0             1             2             3             4  \\\n",
       "model                                                                           \n",
       "Mustang      33815.00  36417.146341  37875.640000  28065.000000  27173.777778   \n",
       "Savana       32155.00  32811.714286  28464.031250  26432.294118  31019.666667   \n",
       "WRX          36399.00  32752.166667  31814.285714  28972.818182  27062.100000   \n",
       "Sprinter     54004.75  75380.750000  87972.500000  46994.000000  38888.000000   \n",
       "Tucson       26257.00  27642.086957  23830.714286  21642.222222  19826.565217   \n",
       "\n",
       "car_age_str             5  ratention_rate  \n",
       "model                                      \n",
       "Mustang      25406.714286            0.75  \n",
       "Savana       23488.000000            0.73  \n",
       "WRX          26062.500000            0.72  \n",
       "Sprinter     38347.500000            0.71  \n",
       "Tucson       18421.666667            0.70  "
      ]
     },
     "execution_count": 276,
     "metadata": {},
     "output_type": "execute_result"
    }
   ],
   "source": [
    "TOP5_Model['ratention_rate']=TOP5_Model['ratention_rate'].round(2)\n",
    "TOP5_Model"
   ]
  },
  {
   "cell_type": "code",
   "execution_count": 277,
   "metadata": {},
   "outputs": [],
   "source": [
    "# Mustang\n",
    "# Savana\n",
    "# WRX\n",
    "# Sprinter\n",
    "# Tucson"
   ]
  },
  {
   "cell_type": "code",
   "execution_count": 278,
   "metadata": {},
   "outputs": [
    {
     "data": {
      "text/html": [
       "<div>\n",
       "<style scoped>\n",
       "    .dataframe tbody tr th:only-of-type {\n",
       "        vertical-align: middle;\n",
       "    }\n",
       "\n",
       "    .dataframe tbody tr th {\n",
       "        vertical-align: top;\n",
       "    }\n",
       "\n",
       "    .dataframe thead th {\n",
       "        text-align: right;\n",
       "    }\n",
       "</style>\n",
       "<table border=\"1\" class=\"dataframe\">\n",
       "  <thead>\n",
       "    <tr style=\"text-align: right;\">\n",
       "      <th>car_age_str</th>\n",
       "      <th>0</th>\n",
       "      <th>1</th>\n",
       "      <th>2</th>\n",
       "      <th>3</th>\n",
       "      <th>4</th>\n",
       "      <th>5</th>\n",
       "      <th>ratention_rate</th>\n",
       "    </tr>\n",
       "    <tr>\n",
       "      <th>model</th>\n",
       "      <th></th>\n",
       "      <th></th>\n",
       "      <th></th>\n",
       "      <th></th>\n",
       "      <th></th>\n",
       "      <th></th>\n",
       "      <th></th>\n",
       "    </tr>\n",
       "  </thead>\n",
       "  <tbody>\n",
       "    <tr>\n",
       "      <th>Challenger</th>\n",
       "      <td>112800.0</td>\n",
       "      <td>46925.722222</td>\n",
       "      <td>42220.214286</td>\n",
       "      <td>45613.500000</td>\n",
       "      <td>32489.000000</td>\n",
       "      <td>28689.000000</td>\n",
       "      <td>0.254335</td>\n",
       "    </tr>\n",
       "    <tr>\n",
       "      <th>E-Class</th>\n",
       "      <td>96917.5</td>\n",
       "      <td>54998.000000</td>\n",
       "      <td>66236.571429</td>\n",
       "      <td>44113.600000</td>\n",
       "      <td>37051.600000</td>\n",
       "      <td>30095.666667</td>\n",
       "      <td>0.310529</td>\n",
       "    </tr>\n",
       "    <tr>\n",
       "      <th>F-150</th>\n",
       "      <td>95043.5</td>\n",
       "      <td>48130.470588</td>\n",
       "      <td>39895.400000</td>\n",
       "      <td>37163.775000</td>\n",
       "      <td>39046.620690</td>\n",
       "      <td>31607.459459</td>\n",
       "      <td>0.332558</td>\n",
       "    </tr>\n",
       "    <tr>\n",
       "      <th>Grand</th>\n",
       "      <td>51762.0</td>\n",
       "      <td>33704.420000</td>\n",
       "      <td>31182.715686</td>\n",
       "      <td>25132.213483</td>\n",
       "      <td>21498.514706</td>\n",
       "      <td>20547.680556</td>\n",
       "      <td>0.396965</td>\n",
       "    </tr>\n",
       "    <tr>\n",
       "      <th>Ridgeline</th>\n",
       "      <td>53029.5</td>\n",
       "      <td>41500.000000</td>\n",
       "      <td>37796.375000</td>\n",
       "      <td>35639.000000</td>\n",
       "      <td>33900.000000</td>\n",
       "      <td>21144.000000</td>\n",
       "      <td>0.398721</td>\n",
       "    </tr>\n",
       "  </tbody>\n",
       "</table>\n",
       "</div>"
      ],
      "text/plain": [
       "car_age_str         0             1             2             3             4  \\\n",
       "model                                                                           \n",
       "Challenger   112800.0  46925.722222  42220.214286  45613.500000  32489.000000   \n",
       "E-Class       96917.5  54998.000000  66236.571429  44113.600000  37051.600000   \n",
       "F-150         95043.5  48130.470588  39895.400000  37163.775000  39046.620690   \n",
       "Grand         51762.0  33704.420000  31182.715686  25132.213483  21498.514706   \n",
       "Ridgeline     53029.5  41500.000000  37796.375000  35639.000000  33900.000000   \n",
       "\n",
       "car_age_str             5  ratention_rate  \n",
       "model                                      \n",
       "Challenger   28689.000000        0.254335  \n",
       "E-Class      30095.666667        0.310529  \n",
       "F-150        31607.459459        0.332558  \n",
       "Grand        20547.680556        0.396965  \n",
       "Ridgeline    21144.000000        0.398721  "
      ]
     },
     "execution_count": 278,
     "metadata": {},
     "output_type": "execute_result"
    }
   ],
   "source": [
    "Bottom5_Model=model_retention5.sort_values(by='ratention_rate',ascending=True).head(5)\n",
    "Bottom5_Model"
   ]
  },
  {
   "cell_type": "code",
   "execution_count": 279,
   "metadata": {},
   "outputs": [],
   "source": [
    "# Challenger\n",
    "# E-Class\n",
    "# F-150\n",
    "# Grand\n",
    "# Ridgeline"
   ]
  },
  {
   "cell_type": "code",
   "execution_count": null,
   "metadata": {},
   "outputs": [],
   "source": []
  },
  {
   "cell_type": "code",
   "execution_count": null,
   "metadata": {},
   "outputs": [],
   "source": []
  },
  {
   "cell_type": "code",
   "execution_count": 280,
   "metadata": {
    "scrolled": true
   },
   "outputs": [
    {
     "data": {
      "image/png": "[encoded data removed]",
      "text/plain": [
       "<Figure size 880x605 with 1 Axes>"
      ]
     },
     "metadata": {},
     "output_type": "display_data"
    }
   ],
   "source": [
    "# TOP5 MODEL PLOT: model compare\n",
    "\n",
    "x=TOP5_Model.index\n",
    "y=TOP5_Model['ratention_rate']\n",
    "plt.figure(dpi=110)\n",
    "plt.bar(x,y,width=0.5,color='#300464')\n",
    "plt.xlabel('Model')\n",
    "plt.ylabel('Retention Rate')\n",
    "plt.title('TOP 5 Retention Rate Car Models')\n",
    "\n",
    "for a,b in zip(x, y):\n",
    "    plt.text(a, b, str(b),verticalalignment=\"bottom\",horizontalalignment='center')\n",
    "plt.show()"
   ]
  },
  {
   "cell_type": "code",
   "execution_count": 281,
   "metadata": {},
   "outputs": [
    {
     "data": {
      "application/vnd.plotly.v1+json": {
       "config": {
        "plotlyServerURL": "https://plot.ly"
       },
       "data": [
        {
         "alignmentgroup": "True",
         "hovertemplate": "model=%{x}<br>ratention_rate=%{text}<extra></extra>",
         "legendgroup": "",
         "marker": {
          "color": "#636efa"
         },
         "name": "",
         "offsetgroup": "",
         "orientation": "v",
         "showlegend": false,
         "text": [
          0.75,
          0.73,
          0.72,
          0.71,
          0.7
         ],
         "textposition": "auto",
         "type": "bar",
         "x": [
          "Mustang",
          "Savana",
          "WRX",
          "Sprinter",
          "Tucson"
         ],
         "xaxis": "x",
         "y": [
          0.75,
          0.73,
          0.72,
          0.71,
          0.7
         ],
         "yaxis": "y"
        }
       ],
       "layout": {
        "barmode": "relative",
        "legend": {
         "tracegroupgap": 0
        },
        "template": {
         "data": {
          "bar": [
           {
            "error_x": {
             "color": "#2a3f5f"
            },
            "error_y": {
             "color": "#2a3f5f"
            },
            "marker": {
             "line": {
              "color": "#E5ECF6",
              "width": 0.5
             }
            },
            "type": "bar"
           }
          ],
          "barpolar": [
           {
            "marker": {
             "line": {
              "color": "#E5ECF6",
              "width": 0.5
             }
            },
            "type": "barpolar"
           }
          ],
          "carpet": [
           {
            "aaxis": {
             "endlinecolor": "#2a3f5f",
             "gridcolor": "white",
             "linecolor": "white",
             "minorgridcolor": "white",
             "startlinecolor": "#2a3f5f"
            },
            "baxis": {
             "endlinecolor": "#2a3f5f",
             "gridcolor": "white",
             "linecolor": "white",
             "minorgridcolor": "white",
             "startlinecolor": "#2a3f5f"
            },
            "type": "carpet"
           }
          ],
          "choropleth": [
           {
            "colorbar": {
             "outlinewidth": 0,
             "ticks": ""
            },
            "type": "choropleth"
           }
          ],
          "contour": [
           {
            "colorbar": {
             "outlinewidth": 0,
             "ticks": ""
            },
            "colorscale": [
             [
              0,
              "#0d0887"
             ],
             [
              0.1111111111111111,
              "#46039f"
             ],
             [
              0.2222222222222222,
              "#7201a8"
             ],
             [
              0.3333333333333333,
              "#9c179e"
             ],
             [
              0.4444444444444444,
              "#bd3786"
             ],
             [
              0.5555555555555556,
              "#d8576b"
             ],
             [
              0.6666666666666666,
              "#ed7953"
             ],
             [
              0.7777777777777778,
              "#fb9f3a"
             ],
             [
              0.8888888888888888,
              "#fdca26"
             ],
             [
              1,
              "#f0f921"
             ]
            ],
            "type": "contour"
           }
          ],
          "contourcarpet": [
           {
            "colorbar": {
             "outlinewidth": 0,
             "ticks": ""
            },
            "type": "contourcarpet"
           }
          ],
          "heatmap": [
           {
            "colorbar": {
             "outlinewidth": 0,
             "ticks": ""
            },
            "colorscale": [
             [
              0,
              "#0d0887"
             ],
             [
              0.1111111111111111,
              "#46039f"
             ],
             [
              0.2222222222222222,
              "#7201a8"
             ],
             [
              0.3333333333333333,
              "#9c179e"
             ],
             [
              0.4444444444444444,
              "#bd3786"
             ],
             [
              0.5555555555555556,
              "#d8576b"
             ],
             [
              0.6666666666666666,
              "#ed7953"
             ],
             [
              0.7777777777777778,
              "#fb9f3a"
             ],
             [
              0.8888888888888888,
              "#fdca26"
             ],
             [
              1,
              "#f0f921"
             ]
            ],
            "type": "heatmap"
           }
          ],
          "heatmapgl": [
           {
            "colorbar": {
             "outlinewidth": 0,
             "ticks": ""
            },
            "colorscale": [
             [
              0,
              "#0d0887"
             ],
             [
              0.1111111111111111,
              "#46039f"
             ],
             [
              0.2222222222222222,
              "#7201a8"
             ],
             [
              0.3333333333333333,
              "#9c179e"
             ],
             [
              0.4444444444444444,
              "#bd3786"
             ],
             [
              0.5555555555555556,
              "#d8576b"
             ],
             [
              0.6666666666666666,
              "#ed7953"
             ],
             [
              0.7777777777777778,
              "#fb9f3a"
             ],
             [
              0.8888888888888888,
              "#fdca26"
             ],
             [
              1,
              "#f0f921"
             ]
            ],
            "type": "heatmapgl"
           }
          ],
          "histogram": [
           {
            "marker": {
             "colorbar": {
              "outlinewidth": 0,
              "ticks": ""
             }
            },
            "type": "histogram"
           }
          ],
          "histogram2d": [
           {
            "colorbar": {
             "outlinewidth": 0,
             "ticks": ""
            },
            "colorscale": [
             [
              0,
              "#0d0887"
             ],
             [
              0.1111111111111111,
              "#46039f"
             ],
             [
              0.2222222222222222,
              "#7201a8"
             ],
             [
              0.3333333333333333,
              "#9c179e"
             ],
             [
              0.4444444444444444,
              "#bd3786"
             ],
             [
              0.5555555555555556,
              "#d8576b"
             ],
             [
              0.6666666666666666,
              "#ed7953"
             ],
             [
              0.7777777777777778,
              "#fb9f3a"
             ],
             [
              0.8888888888888888,
              "#fdca26"
             ],
             [
              1,
              "#f0f921"
             ]
            ],
            "type": "histogram2d"
           }
          ],
          "histogram2dcontour": [
           {
            "colorbar": {
             "outlinewidth": 0,
             "ticks": ""
            },
            "colorscale": [
             [
              0,
              "#0d0887"
             ],
             [
              0.1111111111111111,
              "#46039f"
             ],
             [
              0.2222222222222222,
              "#7201a8"
             ],
             [
              0.3333333333333333,
              "#9c179e"
             ],
             [
              0.4444444444444444,
              "#bd3786"
             ],
             [
              0.5555555555555556,
              "#d8576b"
             ],
             [
              0.6666666666666666,
              "#ed7953"
             ],
             [
              0.7777777777777778,
              "#fb9f3a"
             ],
             [
              0.8888888888888888,
              "#fdca26"
             ],
             [
              1,
              "#f0f921"
             ]
            ],
            "type": "histogram2dcontour"
           }
          ],
          "mesh3d": [
           {
            "colorbar": {
             "outlinewidth": 0,
             "ticks": ""
            },
            "type": "mesh3d"
           }
          ],
          "parcoords": [
           {
            "line": {
             "colorbar": {
              "outlinewidth": 0,
              "ticks": ""
             }
            },
            "type": "parcoords"
           }
          ],
          "pie": [
           {
            "automargin": true,
            "type": "pie"
           }
          ],
          "scatter": [
           {
            "marker": {
             "colorbar": {
              "outlinewidth": 0,
              "ticks": ""
             }
            },
            "type": "scatter"
           }
          ],
          "scatter3d": [
           {
            "line": {
             "colorbar": {
              "outlinewidth": 0,
              "ticks": ""
             }
            },
            "marker": {
             "colorbar": {
              "outlinewidth": 0,
              "ticks": ""
             }
            },
            "type": "scatter3d"
           }
          ],
          "scattercarpet": [
           {
            "marker": {
             "colorbar": {
              "outlinewidth": 0,
              "ticks": ""
             }
            },
            "type": "scattercarpet"
           }
          ],
          "scattergeo": [
           {
            "marker": {
             "colorbar": {
              "outlinewidth": 0,
              "ticks": ""
             }
            },
            "type": "scattergeo"
           }
          ],
          "scattergl": [
           {
            "marker": {
             "colorbar": {
              "outlinewidth": 0,
              "ticks": ""
             }
            },
            "type": "scattergl"
           }
          ],
          "scattermapbox": [
           {
            "marker": {
             "colorbar": {
              "outlinewidth": 0,
              "ticks": ""
             }
            },
            "type": "scattermapbox"
           }
          ],
          "scatterpolar": [
           {
            "marker": {
             "colorbar": {
              "outlinewidth": 0,
              "ticks": ""
             }
            },
            "type": "scatterpolar"
           }
          ],
          "scatterpolargl": [
           {
            "marker": {
             "colorbar": {
              "outlinewidth": 0,
              "ticks": ""
             }
            },
            "type": "scatterpolargl"
           }
          ],
          "scatterternary": [
           {
            "marker": {
             "colorbar": {
              "outlinewidth": 0,
              "ticks": ""
             }
            },
            "type": "scatterternary"
           }
          ],
          "surface": [
           {
            "colorbar": {
             "outlinewidth": 0,
             "ticks": ""
            },
            "colorscale": [
             [
              0,
              "#0d0887"
             ],
             [
              0.1111111111111111,
              "#46039f"
             ],
             [
              0.2222222222222222,
              "#7201a8"
             ],
             [
              0.3333333333333333,
              "#9c179e"
             ],
             [
              0.4444444444444444,
              "#bd3786"
             ],
             [
              0.5555555555555556,
              "#d8576b"
             ],
             [
              0.6666666666666666,
              "#ed7953"
             ],
             [
              0.7777777777777778,
              "#fb9f3a"
             ],
             [
              0.8888888888888888,
              "#fdca26"
             ],
             [
              1,
              "#f0f921"
             ]
            ],
            "type": "surface"
           }
          ],
          "table": [
           {
            "cells": {
             "fill": {
              "color": "#EBF0F8"
             },
             "line": {
              "color": "white"
             }
            },
            "header": {
             "fill": {
              "color": "#C8D4E3"
             },
             "line": {
              "color": "white"
             }
            },
            "type": "table"
           }
          ]
         },
         "layout": {
          "annotationdefaults": {
           "arrowcolor": "#2a3f5f",
           "arrowhead": 0,
           "arrowwidth": 1
          },
          "coloraxis": {
           "colorbar": {
            "outlinewidth": 0,
            "ticks": ""
           }
          },
          "colorscale": {
           "diverging": [
            [
             0,
             "#8e0152"
            ],
            [
             0.1,
             "#c51b7d"
            ],
            [
             0.2,
             "#de77ae"
            ],
            [
             0.3,
             "#f1b6da"
            ],
            [
             0.4,
             "#fde0ef"
            ],
            [
             0.5,
             "#f7f7f7"
            ],
            [
             0.6,
             "#e6f5d0"
            ],
            [
             0.7,
             "#b8e186"
            ],
            [
             0.8,
             "#7fbc41"
            ],
            [
             0.9,
             "#4d9221"
            ],
            [
             1,
             "#276419"
            ]
           ],
           "sequential": [
            [
             0,
             "#0d0887"
            ],
            [
             0.1111111111111111,
             "#46039f"
            ],
            [
             0.2222222222222222,
             "#7201a8"
            ],
            [
             0.3333333333333333,
             "#9c179e"
            ],
            [
             0.4444444444444444,
             "#bd3786"
            ],
            [
             0.5555555555555556,
             "#d8576b"
            ],
            [
             0.6666666666666666,
             "#ed7953"
            ],
            [
             0.7777777777777778,
             "#fb9f3a"
            ],
            [
             0.8888888888888888,
             "#fdca26"
            ],
            [
             1,
             "#f0f921"
            ]
           ],
           "sequentialminus": [
            [
             0,
             "#0d0887"
            ],
            [
             0.1111111111111111,
             "#46039f"
            ],
            [
             0.2222222222222222,
             "#7201a8"
            ],
            [
             0.3333333333333333,
             "#9c179e"
            ],
            [
             0.4444444444444444,
             "#bd3786"
            ],
            [
             0.5555555555555556,
             "#d8576b"
            ],
            [
             0.6666666666666666,
             "#ed7953"
            ],
            [
             0.7777777777777778,
             "#fb9f3a"
            ],
            [
             0.8888888888888888,
             "#fdca26"
            ],
            [
             1,
             "#f0f921"
            ]
           ]
          },
          "colorway": [
           "#636efa",
           "#EF553B",
           "#00cc96",
           "#ab63fa",
           "#FFA15A",
           "#19d3f3",
           "#FF6692",
           "#B6E880",
           "#FF97FF",
           "#FECB52"
          ],
          "font": {
           "color": "#2a3f5f"
          },
          "geo": {
           "bgcolor": "white",
           "lakecolor": "white",
           "landcolor": "#E5ECF6",
           "showlakes": true,
           "showland": true,
           "subunitcolor": "white"
          },
          "hoverlabel": {
           "align": "left"
          },
          "hovermode": "closest",
          "mapbox": {
           "style": "light"
          },
          "paper_bgcolor": "white",
          "plot_bgcolor": "#E5ECF6",
          "polar": {
           "angularaxis": {
            "gridcolor": "white",
            "linecolor": "white",
            "ticks": ""
           },
           "bgcolor": "#E5ECF6",
           "radialaxis": {
            "gridcolor": "white",
            "linecolor": "white",
            "ticks": ""
           }
          },
          "scene": {
           "xaxis": {
            "backgroundcolor": "#E5ECF6",
            "gridcolor": "white",
            "gridwidth": 2,
            "linecolor": "white",
            "showbackground": true,
            "ticks": "",
            "zerolinecolor": "white"
           },
           "yaxis": {
            "backgroundcolor": "#E5ECF6",
            "gridcolor": "white",
            "gridwidth": 2,
            "linecolor": "white",
            "showbackground": true,
            "ticks": "",
            "zerolinecolor": "white"
           },
           "zaxis": {
            "backgroundcolor": "#E5ECF6",
            "gridcolor": "white",
            "gridwidth": 2,
            "linecolor": "white",
            "showbackground": true,
            "ticks": "",
            "zerolinecolor": "white"
           }
          },
          "shapedefaults": {
           "line": {
            "color": "#2a3f5f"
           }
          },
          "ternary": {
           "aaxis": {
            "gridcolor": "white",
            "linecolor": "white",
            "ticks": ""
           },
           "baxis": {
            "gridcolor": "white",
            "linecolor": "white",
            "ticks": ""
           },
           "bgcolor": "#E5ECF6",
           "caxis": {
            "gridcolor": "white",
            "linecolor": "white",
            "ticks": ""
           }
          },
          "title": {
           "x": 0.05
          },
          "xaxis": {
           "automargin": true,
           "gridcolor": "white",
           "linecolor": "white",
           "ticks": "",
           "title": {
            "standoff": 15
           },
           "zerolinecolor": "white",
           "zerolinewidth": 2
          },
          "yaxis": {
           "automargin": true,
           "gridcolor": "white",
           "linecolor": "white",
           "ticks": "",
           "title": {
            "standoff": 15
           },
           "zerolinecolor": "white",
           "zerolinewidth": 2
          }
         }
        },
        "title": {
         "text": "Top5 Model with high Retention Rate"
        },
        "width": 800,
        "xaxis": {
         "anchor": "y",
         "domain": [
          0,
          1
         ],
         "title": {
          "text": "model"
         }
        },
        "yaxis": {
         "anchor": "x",
         "domain": [
          0,
          1
         ],
         "title": {
          "text": "ratention_rate"
         }
        }
       }
      },
      "text/html": [
       "<div>\n",
       "        \n",
       "        \n",
       "            <div id=\"e42db67c-d399-4a1c-b591-959366f17e6c\" class=\"plotly-graph-div\" style=\"height:525px; width:800px;\"></div>\n",
       "            <script type=\"text/javascript\">\n",
       "                require([\"plotly\"], function(Plotly) {\n",
       "                    window.PLOTLYENV=window.PLOTLYENV || {};\n",
       "                    \n",
       "                if (document.getElementById(\"e42db67c-d399-4a1c-b591-959366f17e6c\")) {\n",
       "                    Plotly.newPlot(\n",
       "                        'e42db67c-d399-4a1c-b591-959366f17e6c',\n",
       "                        [{\"alignmentgroup\": \"True\", \"hovertemplate\": \"model=%{x}<br>ratention_rate=%{text}<extra></extra>\", \"legendgroup\": \"\", \"marker\": {\"color\": \"#636efa\"}, \"name\": \"\", \"offsetgroup\": \"\", \"orientation\": \"v\", \"showlegend\": false, \"text\": [0.75, 0.73, 0.72, 0.71, 0.7], \"textposition\": \"auto\", \"type\": \"bar\", \"x\": [\"Mustang\", \"Savana\", \"WRX\", \"Sprinter\", \"Tucson\"], \"xaxis\": \"x\", \"y\": [0.75, 0.73, 0.72, 0.71, 0.7], \"yaxis\": \"y\"}],\n",
       "                        {\"barmode\": \"relative\", \"legend\": {\"tracegroupgap\": 0}, \"template\": {\"data\": {\"bar\": [{\"error_x\": {\"color\": \"#2a3f5f\"}, \"error_y\": {\"color\": \"#2a3f5f\"}, \"marker\": {\"line\": {\"color\": \"#E5ECF6\", \"width\": 0.5}}, \"type\": \"bar\"}], \"barpolar\": [{\"marker\": {\"line\": {\"color\": \"#E5ECF6\", \"width\": 0.5}}, \"type\": \"barpolar\"}], \"carpet\": [{\"aaxis\": {\"endlinecolor\": \"#2a3f5f\", \"gridcolor\": \"white\", \"linecolor\": \"white\", \"minorgridcolor\": \"white\", \"startlinecolor\": \"#2a3f5f\"}, \"baxis\": {\"endlinecolor\": \"#2a3f5f\", \"gridcolor\": \"white\", \"linecolor\": \"white\", \"minorgridcolor\": \"white\", \"startlinecolor\": \"#2a3f5f\"}, \"type\": \"carpet\"}], \"choropleth\": [{\"colorbar\": {\"outlinewidth\": 0, \"ticks\": \"\"}, \"type\": \"choropleth\"}], \"contour\": [{\"colorbar\": {\"outlinewidth\": 0, \"ticks\": \"\"}, \"colorscale\": [[0.0, \"#0d0887\"], [0.1111111111111111, \"#46039f\"], [0.2222222222222222, \"#7201a8\"], [0.3333333333333333, \"#9c179e\"], [0.4444444444444444, \"#bd3786\"], [0.5555555555555556, \"#d8576b\"], [0.6666666666666666, \"#ed7953\"], [0.7777777777777778, \"#fb9f3a\"], [0.8888888888888888, \"#fdca26\"], [1.0, \"#f0f921\"]], \"type\": \"contour\"}], \"contourcarpet\": [{\"colorbar\": {\"outlinewidth\": 0, \"ticks\": \"\"}, \"type\": \"contourcarpet\"}], \"heatmap\": [{\"colorbar\": {\"outlinewidth\": 0, \"ticks\": \"\"}, \"colorscale\": [[0.0, \"#0d0887\"], [0.1111111111111111, \"#46039f\"], [0.2222222222222222, \"#7201a8\"], [0.3333333333333333, \"#9c179e\"], [0.4444444444444444, \"#bd3786\"], [0.5555555555555556, \"#d8576b\"], [0.6666666666666666, \"#ed7953\"], [0.7777777777777778, \"#fb9f3a\"], [0.8888888888888888, \"#fdca26\"], [1.0, \"#f0f921\"]], \"type\": \"heatmap\"}], \"heatmapgl\": [{\"colorbar\": {\"outlinewidth\": 0, \"ticks\": \"\"}, \"colorscale\": [[0.0, \"#0d0887\"], [0.1111111111111111, \"#46039f\"], [0.2222222222222222, \"#7201a8\"], [0.3333333333333333, \"#9c179e\"], [0.4444444444444444, \"#bd3786\"], [0.5555555555555556, \"#d8576b\"], [0.6666666666666666, \"#ed7953\"], [0.7777777777777778, \"#fb9f3a\"], [0.8888888888888888, \"#fdca26\"], [1.0, \"#f0f921\"]], \"type\": \"heatmapgl\"}], \"histogram\": [{\"marker\": {\"colorbar\": {\"outlinewidth\": 0, \"ticks\": \"\"}}, \"type\": \"histogram\"}], \"histogram2d\": [{\"colorbar\": {\"outlinewidth\": 0, \"ticks\": \"\"}, \"colorscale\": [[0.0, \"#0d0887\"], [0.1111111111111111, \"#46039f\"], [0.2222222222222222, \"#7201a8\"], [0.3333333333333333, \"#9c179e\"], [0.4444444444444444, \"#bd3786\"], [0.5555555555555556, \"#d8576b\"], [0.6666666666666666, \"#ed7953\"], [0.7777777777777778, \"#fb9f3a\"], [0.8888888888888888, \"#fdca26\"], [1.0, \"#f0f921\"]], \"type\": \"histogram2d\"}], \"histogram2dcontour\": [{\"colorbar\": {\"outlinewidth\": 0, \"ticks\": \"\"}, \"colorscale\": [[0.0, \"#0d0887\"], [0.1111111111111111, \"#46039f\"], [0.2222222222222222, \"#7201a8\"], [0.3333333333333333, \"#9c179e\"], [0.4444444444444444, \"#bd3786\"], [0.5555555555555556, \"#d8576b\"], [0.6666666666666666, \"#ed7953\"], [0.7777777777777778, \"#fb9f3a\"], [0.8888888888888888, \"#fdca26\"], [1.0, \"#f0f921\"]], \"type\": \"histogram2dcontour\"}], \"mesh3d\": [{\"colorbar\": {\"outlinewidth\": 0, \"ticks\": \"\"}, \"type\": \"mesh3d\"}], \"parcoords\": [{\"line\": {\"colorbar\": {\"outlinewidth\": 0, \"ticks\": \"\"}}, \"type\": \"parcoords\"}], \"pie\": [{\"automargin\": true, \"type\": \"pie\"}], \"scatter\": [{\"marker\": {\"colorbar\": {\"outlinewidth\": 0, \"ticks\": \"\"}}, \"type\": \"scatter\"}], \"scatter3d\": [{\"line\": {\"colorbar\": {\"outlinewidth\": 0, \"ticks\": \"\"}}, \"marker\": {\"colorbar\": {\"outlinewidth\": 0, \"ticks\": \"\"}}, \"type\": \"scatter3d\"}], \"scattercarpet\": [{\"marker\": {\"colorbar\": {\"outlinewidth\": 0, \"ticks\": \"\"}}, \"type\": \"scattercarpet\"}], \"scattergeo\": [{\"marker\": {\"colorbar\": {\"outlinewidth\": 0, \"ticks\": \"\"}}, \"type\": \"scattergeo\"}], \"scattergl\": [{\"marker\": {\"colorbar\": {\"outlinewidth\": 0, \"ticks\": \"\"}}, \"type\": \"scattergl\"}], \"scattermapbox\": [{\"marker\": {\"colorbar\": {\"outlinewidth\": 0, \"ticks\": \"\"}}, \"type\": \"scattermapbox\"}], \"scatterpolar\": [{\"marker\": {\"colorbar\": {\"outlinewidth\": 0, \"ticks\": \"\"}}, \"type\": \"scatterpolar\"}], \"scatterpolargl\": [{\"marker\": {\"colorbar\": {\"outlinewidth\": 0, \"ticks\": \"\"}}, \"type\": \"scatterpolargl\"}], \"scatterternary\": [{\"marker\": {\"colorbar\": {\"outlinewidth\": 0, \"ticks\": \"\"}}, \"type\": \"scatterternary\"}], \"surface\": [{\"colorbar\": {\"outlinewidth\": 0, \"ticks\": \"\"}, \"colorscale\": [[0.0, \"#0d0887\"], [0.1111111111111111, \"#46039f\"], [0.2222222222222222, \"#7201a8\"], [0.3333333333333333, \"#9c179e\"], [0.4444444444444444, \"#bd3786\"], [0.5555555555555556, \"#d8576b\"], [0.6666666666666666, \"#ed7953\"], [0.7777777777777778, \"#fb9f3a\"], [0.8888888888888888, \"#fdca26\"], [1.0, \"#f0f921\"]], \"type\": \"surface\"}], \"table\": [{\"cells\": {\"fill\": {\"color\": \"#EBF0F8\"}, \"line\": {\"color\": \"white\"}}, \"header\": {\"fill\": {\"color\": \"#C8D4E3\"}, \"line\": {\"color\": \"white\"}}, \"type\": \"table\"}]}, \"layout\": {\"annotationdefaults\": {\"arrowcolor\": \"#2a3f5f\", \"arrowhead\": 0, \"arrowwidth\": 1}, \"coloraxis\": {\"colorbar\": {\"outlinewidth\": 0, \"ticks\": \"\"}}, \"colorscale\": {\"diverging\": [[0, \"#8e0152\"], [0.1, \"#c51b7d\"], [0.2, \"#de77ae\"], [0.3, \"#f1b6da\"], [0.4, \"#fde0ef\"], [0.5, \"#f7f7f7\"], [0.6, \"#e6f5d0\"], [0.7, \"#b8e186\"], [0.8, \"#7fbc41\"], [0.9, \"#4d9221\"], [1, \"#276419\"]], \"sequential\": [[0.0, \"#0d0887\"], [0.1111111111111111, \"#46039f\"], [0.2222222222222222, \"#7201a8\"], [0.3333333333333333, \"#9c179e\"], [0.4444444444444444, \"#bd3786\"], [0.5555555555555556, \"#d8576b\"], [0.6666666666666666, \"#ed7953\"], [0.7777777777777778, \"#fb9f3a\"], [0.8888888888888888, \"#fdca26\"], [1.0, \"#f0f921\"]], \"sequentialminus\": [[0.0, \"#0d0887\"], [0.1111111111111111, \"#46039f\"], [0.2222222222222222, \"#7201a8\"], [0.3333333333333333, \"#9c179e\"], [0.4444444444444444, \"#bd3786\"], [0.5555555555555556, \"#d8576b\"], [0.6666666666666666, \"#ed7953\"], [0.7777777777777778, \"#fb9f3a\"], [0.8888888888888888, \"#fdca26\"], [1.0, \"#f0f921\"]]}, \"colorway\": [\"#636efa\", \"#EF553B\", \"#00cc96\", \"#ab63fa\", \"#FFA15A\", \"#19d3f3\", \"#FF6692\", \"#B6E880\", \"#FF97FF\", \"#FECB52\"], \"font\": {\"color\": \"#2a3f5f\"}, \"geo\": {\"bgcolor\": \"white\", \"lakecolor\": \"white\", \"landcolor\": \"#E5ECF6\", \"showlakes\": true, \"showland\": true, \"subunitcolor\": \"white\"}, \"hoverlabel\": {\"align\": \"left\"}, \"hovermode\": \"closest\", \"mapbox\": {\"style\": \"light\"}, \"paper_bgcolor\": \"white\", \"plot_bgcolor\": \"#E5ECF6\", \"polar\": {\"angularaxis\": {\"gridcolor\": \"white\", \"linecolor\": \"white\", \"ticks\": \"\"}, \"bgcolor\": \"#E5ECF6\", \"radialaxis\": {\"gridcolor\": \"white\", \"linecolor\": \"white\", \"ticks\": \"\"}}, \"scene\": {\"xaxis\": {\"backgroundcolor\": \"#E5ECF6\", \"gridcolor\": \"white\", \"gridwidth\": 2, \"linecolor\": \"white\", \"showbackground\": true, \"ticks\": \"\", \"zerolinecolor\": \"white\"}, \"yaxis\": {\"backgroundcolor\": \"#E5ECF6\", \"gridcolor\": \"white\", \"gridwidth\": 2, \"linecolor\": \"white\", \"showbackground\": true, \"ticks\": \"\", \"zerolinecolor\": \"white\"}, \"zaxis\": {\"backgroundcolor\": \"#E5ECF6\", \"gridcolor\": \"white\", \"gridwidth\": 2, \"linecolor\": \"white\", \"showbackground\": true, \"ticks\": \"\", \"zerolinecolor\": \"white\"}}, \"shapedefaults\": {\"line\": {\"color\": \"#2a3f5f\"}}, \"ternary\": {\"aaxis\": {\"gridcolor\": \"white\", \"linecolor\": \"white\", \"ticks\": \"\"}, \"baxis\": {\"gridcolor\": \"white\", \"linecolor\": \"white\", \"ticks\": \"\"}, \"bgcolor\": \"#E5ECF6\", \"caxis\": {\"gridcolor\": \"white\", \"linecolor\": \"white\", \"ticks\": \"\"}}, \"title\": {\"x\": 0.05}, \"xaxis\": {\"automargin\": true, \"gridcolor\": \"white\", \"linecolor\": \"white\", \"ticks\": \"\", \"title\": {\"standoff\": 15}, \"zerolinecolor\": \"white\", \"zerolinewidth\": 2}, \"yaxis\": {\"automargin\": true, \"gridcolor\": \"white\", \"linecolor\": \"white\", \"ticks\": \"\", \"title\": {\"standoff\": 15}, \"zerolinecolor\": \"white\", \"zerolinewidth\": 2}}}, \"title\": {\"text\": \"Top5 Model with high Retention Rate\"}, \"width\": 800, \"xaxis\": {\"anchor\": \"y\", \"domain\": [0.0, 1.0], \"title\": {\"text\": \"model\"}}, \"yaxis\": {\"anchor\": \"x\", \"domain\": [0.0, 1.0], \"title\": {\"text\": \"ratention_rate\"}}},\n",
       "                        {\"responsive\": true}\n",
       "                    ).then(function(){\n",
       "                            \n",
       "var gd = document.getElementById('e42db67c-d399-4a1c-b591-959366f17e6c');\n",
       "var x = new MutationObserver(function (mutations, observer) {{\n",
       "        var display = window.getComputedStyle(gd).display;\n",
       "        if (!display || display === 'none') {{\n",
       "            console.log([gd, 'removed!']);\n",
       "            Plotly.purge(gd);\n",
       "            observer.disconnect();\n",
       "        }}\n",
       "}});\n",
       "\n",
       "// Listen for the removal of the full notebook cells\n",
       "var notebookContainer = gd.closest('#notebook-container');\n",
       "if (notebookContainer) {{\n",
       "    x.observe(notebookContainer, {childList: true});\n",
       "}}\n",
       "\n",
       "// Listen for the clearing of the current output cell\n",
       "var outputEl = gd.closest('.output');\n",
       "if (outputEl) {{\n",
       "    x.observe(outputEl, {childList: true});\n",
       "}}\n",
       "\n",
       "                        })\n",
       "                };\n",
       "                });\n",
       "            </script>\n",
       "        </div>"
      ]
     },
     "metadata": {},
     "output_type": "display_data"
    }
   ],
   "source": [
    "# fig=go.Figure(go.Bar(x=retentionrate_TOP5.index,y=retentionrate_TOP5['ratention_rate'],width=0.3,text=y,textposition='outside'\\\n",
    "#                 ))\n",
    "fig=px.bar(TOP5_Model, x=TOP5_Model.index,y=TOP5_Model['ratention_rate'],text=y,\\\n",
    "          width=800,title='Top5 Model with high Retention Rate')\n",
    "# fig.update_layout(title_text='Top5 Brands with high Retention Rate')\n",
    "\n",
    "# py.iplot([top5brand])\n",
    "fig.show()"
   ]
  },
  {
   "cell_type": "code",
   "execution_count": 282,
   "metadata": {},
   "outputs": [
    {
     "data": {
      "image/png": "[encoded data removed]",
      "text/plain": [
       "<Figure size 800x550 with 1 Axes>"
      ]
     },
     "metadata": {},
     "output_type": "display_data"
    }
   ],
   "source": [
    "# TOP5 MODEL PLOT: price trend\n",
    "plt.figure(dpi=100)\n",
    "\n",
    "Mustang=TOP5_Model.loc['Mustang','0':'5']\n",
    "plt.plot(Mustang,label='Mustang')\n",
    "\n",
    "Savana=TOP5_Model.loc['Savana','0':'5']\n",
    "plt.plot(Savana,label='Savana')\n",
    "\n",
    "WRX=TOP5_Model.loc['WRX','0':'5']\n",
    "plt.plot(WRX, label='WRX')\n",
    "\n",
    "Sprinter=TOP5_Model.loc['Sprinter','0':'5']\n",
    "plt.plot(Sprinter,label='Sprinter')\n",
    "\n",
    "Tucson=TOP5_Model.loc['Tucson','0':'5']\n",
    "plt.plot(Tucson,label='Tucson')\n",
    "\n",
    "plt.xlabel('Year')\n",
    "plt.ylabel('Avg Price')\n",
    "\n",
    "plt.legend()\n",
    "plt.show()"
   ]
  },
  {
   "cell_type": "code",
   "execution_count": 283,
   "metadata": {},
   "outputs": [
    {
     "data": {
      "text/html": [
       "<div>\n",
       "<style scoped>\n",
       "    .dataframe tbody tr th:only-of-type {\n",
       "        vertical-align: middle;\n",
       "    }\n",
       "\n",
       "    .dataframe tbody tr th {\n",
       "        vertical-align: top;\n",
       "    }\n",
       "\n",
       "    .dataframe thead th {\n",
       "        text-align: right;\n",
       "    }\n",
       "</style>\n",
       "<table border=\"1\" class=\"dataframe\">\n",
       "  <thead>\n",
       "    <tr style=\"text-align: right;\">\n",
       "      <th>car_age_str</th>\n",
       "      <th>0</th>\n",
       "      <th>1</th>\n",
       "      <th>2</th>\n",
       "      <th>3</th>\n",
       "      <th>4</th>\n",
       "      <th>5</th>\n",
       "      <th>ratention_rate</th>\n",
       "    </tr>\n",
       "    <tr>\n",
       "      <th>model</th>\n",
       "      <th></th>\n",
       "      <th></th>\n",
       "      <th></th>\n",
       "      <th></th>\n",
       "      <th></th>\n",
       "      <th></th>\n",
       "      <th></th>\n",
       "    </tr>\n",
       "  </thead>\n",
       "  <tbody>\n",
       "    <tr>\n",
       "      <th>Challenger</th>\n",
       "      <td>112800.0</td>\n",
       "      <td>46925.722222</td>\n",
       "      <td>42220.214286</td>\n",
       "      <td>45613.500000</td>\n",
       "      <td>32489.000000</td>\n",
       "      <td>28689.000000</td>\n",
       "      <td>0.254335</td>\n",
       "    </tr>\n",
       "    <tr>\n",
       "      <th>E-Class</th>\n",
       "      <td>96917.5</td>\n",
       "      <td>54998.000000</td>\n",
       "      <td>66236.571429</td>\n",
       "      <td>44113.600000</td>\n",
       "      <td>37051.600000</td>\n",
       "      <td>30095.666667</td>\n",
       "      <td>0.310529</td>\n",
       "    </tr>\n",
       "    <tr>\n",
       "      <th>F-150</th>\n",
       "      <td>95043.5</td>\n",
       "      <td>48130.470588</td>\n",
       "      <td>39895.400000</td>\n",
       "      <td>37163.775000</td>\n",
       "      <td>39046.620690</td>\n",
       "      <td>31607.459459</td>\n",
       "      <td>0.332558</td>\n",
       "    </tr>\n",
       "    <tr>\n",
       "      <th>Grand</th>\n",
       "      <td>51762.0</td>\n",
       "      <td>33704.420000</td>\n",
       "      <td>31182.715686</td>\n",
       "      <td>25132.213483</td>\n",
       "      <td>21498.514706</td>\n",
       "      <td>20547.680556</td>\n",
       "      <td>0.396965</td>\n",
       "    </tr>\n",
       "    <tr>\n",
       "      <th>Ridgeline</th>\n",
       "      <td>53029.5</td>\n",
       "      <td>41500.000000</td>\n",
       "      <td>37796.375000</td>\n",
       "      <td>35639.000000</td>\n",
       "      <td>33900.000000</td>\n",
       "      <td>21144.000000</td>\n",
       "      <td>0.398721</td>\n",
       "    </tr>\n",
       "  </tbody>\n",
       "</table>\n",
       "</div>"
      ],
      "text/plain": [
       "car_age_str         0             1             2             3             4  \\\n",
       "model                                                                           \n",
       "Challenger   112800.0  46925.722222  42220.214286  45613.500000  32489.000000   \n",
       "E-Class       96917.5  54998.000000  66236.571429  44113.600000  37051.600000   \n",
       "F-150         95043.5  48130.470588  39895.400000  37163.775000  39046.620690   \n",
       "Grand         51762.0  33704.420000  31182.715686  25132.213483  21498.514706   \n",
       "Ridgeline     53029.5  41500.000000  37796.375000  35639.000000  33900.000000   \n",
       "\n",
       "car_age_str             5  ratention_rate  \n",
       "model                                      \n",
       "Challenger   28689.000000        0.254335  \n",
       "E-Class      30095.666667        0.310529  \n",
       "F-150        31607.459459        0.332558  \n",
       "Grand        20547.680556        0.396965  \n",
       "Ridgeline    21144.000000        0.398721  "
      ]
     },
     "execution_count": 283,
     "metadata": {},
     "output_type": "execute_result"
    }
   ],
   "source": [
    "# BOTTOM5 MODEL PLOT\n",
    "Bottom5_Model"
   ]
  },
  {
   "cell_type": "code",
   "execution_count": 284,
   "metadata": {
    "scrolled": true
   },
   "outputs": [
    {
     "data": {
      "image/png": "[encoded data removed]",
      "text/plain": [
       "<Figure size 800x550 with 1 Axes>"
      ]
     },
     "metadata": {},
     "output_type": "display_data"
    }
   ],
   "source": [
    "# BOTTOM5 MODEL PLOT: model compare\n",
    "x=Bottom5_Model.index\n",
    "y=Bottom5_Model['ratention_rate']\n",
    "plt.figure(dpi=100)\n",
    "plt.bar(x,y,width=0.5)\n",
    "plt.xlabel('Model')\n",
    "plt.ylabel('Retention Rate')\n",
    "plt.title('Bottom 5 Retention Rate Car Models')\n",
    "for a,b in zip(x, y):\n",
    "    plt.text(a, b, str(b),verticalalignment=\"bottom\",horizontalalignment='center')\n",
    "\n",
    "plt.show()"
   ]
  },
  {
   "cell_type": "code",
   "execution_count": 285,
   "metadata": {},
   "outputs": [
    {
     "data": {
      "application/vnd.plotly.v1+json": {
       "config": {
        "plotlyServerURL": "https://plot.ly"
       },
       "data": [
        {
         "alignmentgroup": "True",
         "hovertemplate": "model=%{x}<br>ratention_rate=%{text}<extra></extra>",
         "legendgroup": "",
         "marker": {
          "color": "#636efa"
         },
         "name": "",
         "offsetgroup": "",
         "orientation": "v",
         "showlegend": false,
         "text": [
          0.25433510638297874,
          0.310528714284486,
          0.332557823096366,
          0.3969645793353339,
          0.39872146635363337
         ],
         "textposition": "auto",
         "type": "bar",
         "x": [
          "Challenger",
          "E-Class",
          "F-150",
          "Grand",
          "Ridgeline"
         ],
         "xaxis": "x",
         "y": [
          0.25433510638297874,
          0.310528714284486,
          0.332557823096366,
          0.3969645793353339,
          0.39872146635363337
         ],
         "yaxis": "y"
        }
       ],
       "layout": {
        "barmode": "relative",
        "legend": {
         "tracegroupgap": 0
        },
        "template": {
         "data": {
          "bar": [
           {
            "error_x": {
             "color": "#2a3f5f"
            },
            "error_y": {
             "color": "#2a3f5f"
            },
            "marker": {
             "line": {
              "color": "#E5ECF6",
              "width": 0.5
             }
            },
            "type": "bar"
           }
          ],
          "barpolar": [
           {
            "marker": {
             "line": {
              "color": "#E5ECF6",
              "width": 0.5
             }
            },
            "type": "barpolar"
           }
          ],
          "carpet": [
           {
            "aaxis": {
             "endlinecolor": "#2a3f5f",
             "gridcolor": "white",
             "linecolor": "white",
             "minorgridcolor": "white",
             "startlinecolor": "#2a3f5f"
            },
            "baxis": {
             "endlinecolor": "#2a3f5f",
             "gridcolor": "white",
             "linecolor": "white",
             "minorgridcolor": "white",
             "startlinecolor": "#2a3f5f"
            },
            "type": "carpet"
           }
          ],
          "choropleth": [
           {
            "colorbar": {
             "outlinewidth": 0,
             "ticks": ""
            },
            "type": "choropleth"
           }
          ],
          "contour": [
           {
            "colorbar": {
             "outlinewidth": 0,
             "ticks": ""
            },
            "colorscale": [
             [
              0,
              "#0d0887"
             ],
             [
              0.1111111111111111,
              "#46039f"
             ],
             [
              0.2222222222222222,
              "#7201a8"
             ],
             [
              0.3333333333333333,
              "#9c179e"
             ],
             [
              0.4444444444444444,
              "#bd3786"
             ],
             [
              0.5555555555555556,
              "#d8576b"
             ],
             [
              0.6666666666666666,
              "#ed7953"
             ],
             [
              0.7777777777777778,
              "#fb9f3a"
             ],
             [
              0.8888888888888888,
              "#fdca26"
             ],
             [
              1,
              "#f0f921"
             ]
            ],
            "type": "contour"
           }
          ],
          "contourcarpet": [
           {
            "colorbar": {
             "outlinewidth": 0,
             "ticks": ""
            },
            "type": "contourcarpet"
           }
          ],
          "heatmap": [
           {
            "colorbar": {
             "outlinewidth": 0,
             "ticks": ""
            },
            "colorscale": [
             [
              0,
              "#0d0887"
             ],
             [
              0.1111111111111111,
              "#46039f"
             ],
             [
              0.2222222222222222,
              "#7201a8"
             ],
             [
              0.3333333333333333,
              "#9c179e"
             ],
             [
              0.4444444444444444,
              "#bd3786"
             ],
             [
              0.5555555555555556,
              "#d8576b"
             ],
             [
              0.6666666666666666,
              "#ed7953"
             ],
             [
              0.7777777777777778,
              "#fb9f3a"
             ],
             [
              0.8888888888888888,
              "#fdca26"
             ],
             [
              1,
              "#f0f921"
             ]
            ],
            "type": "heatmap"
           }
          ],
          "heatmapgl": [
           {
            "colorbar": {
             "outlinewidth": 0,
             "ticks": ""
            },
            "colorscale": [
             [
              0,
              "#0d0887"
             ],
             [
              0.1111111111111111,
              "#46039f"
             ],
             [
              0.2222222222222222,
              "#7201a8"
             ],
             [
              0.3333333333333333,
              "#9c179e"
             ],
             [
              0.4444444444444444,
              "#bd3786"
             ],
             [
              0.5555555555555556,
              "#d8576b"
             ],
             [
              0.6666666666666666,
              "#ed7953"
             ],
             [
              0.7777777777777778,
              "#fb9f3a"
             ],
             [
              0.8888888888888888,
              "#fdca26"
             ],
             [
              1,
              "#f0f921"
             ]
            ],
            "type": "heatmapgl"
           }
          ],
          "histogram": [
           {
            "marker": {
             "colorbar": {
              "outlinewidth": 0,
              "ticks": ""
             }
            },
            "type": "histogram"
           }
          ],
          "histogram2d": [
           {
            "colorbar": {
             "outlinewidth": 0,
             "ticks": ""
            },
            "colorscale": [
             [
              0,
              "#0d0887"
             ],
             [
              0.1111111111111111,
              "#46039f"
             ],
             [
              0.2222222222222222,
              "#7201a8"
             ],
             [
              0.3333333333333333,
              "#9c179e"
             ],
             [
              0.4444444444444444,
              "#bd3786"
             ],
             [
              0.5555555555555556,
              "#d8576b"
             ],
             [
              0.6666666666666666,
              "#ed7953"
             ],
             [
              0.7777777777777778,
              "#fb9f3a"
             ],
             [
              0.8888888888888888,
              "#fdca26"
             ],
             [
              1,
              "#f0f921"
             ]
            ],
            "type": "histogram2d"
           }
          ],
          "histogram2dcontour": [
           {
            "colorbar": {
             "outlinewidth": 0,
             "ticks": ""
            },
            "colorscale": [
             [
              0,
              "#0d0887"
             ],
             [
              0.1111111111111111,
              "#46039f"
             ],
             [
              0.2222222222222222,
              "#7201a8"
             ],
             [
              0.3333333333333333,
              "#9c179e"
             ],
             [
              0.4444444444444444,
              "#bd3786"
             ],
             [
              0.5555555555555556,
              "#d8576b"
             ],
             [
              0.6666666666666666,
              "#ed7953"
             ],
             [
              0.7777777777777778,
              "#fb9f3a"
             ],
             [
              0.8888888888888888,
              "#fdca26"
             ],
             [
              1,
              "#f0f921"
             ]
            ],
            "type": "histogram2dcontour"
           }
          ],
          "mesh3d": [
           {
            "colorbar": {
             "outlinewidth": 0,
             "ticks": ""
            },
            "type": "mesh3d"
           }
          ],
          "parcoords": [
           {
            "line": {
             "colorbar": {
              "outlinewidth": 0,
              "ticks": ""
             }
            },
            "type": "parcoords"
           }
          ],
          "pie": [
           {
            "automargin": true,
            "type": "pie"
           }
          ],
          "scatter": [
           {
            "marker": {
             "colorbar": {
              "outlinewidth": 0,
              "ticks": ""
             }
            },
            "type": "scatter"
           }
          ],
          "scatter3d": [
           {
            "line": {
             "colorbar": {
              "outlinewidth": 0,
              "ticks": ""
             }
            },
            "marker": {
             "colorbar": {
              "outlinewidth": 0,
              "ticks": ""
             }
            },
            "type": "scatter3d"
           }
          ],
          "scattercarpet": [
           {
            "marker": {
             "colorbar": {
              "outlinewidth": 0,
              "ticks": ""
             }
            },
            "type": "scattercarpet"
           }
          ],
          "scattergeo": [
           {
            "marker": {
             "colorbar": {
              "outlinewidth": 0,
              "ticks": ""
             }
            },
            "type": "scattergeo"
           }
          ],
          "scattergl": [
           {
            "marker": {
             "colorbar": {
              "outlinewidth": 0,
              "ticks": ""
             }
            },
            "type": "scattergl"
           }
          ],
          "scattermapbox": [
           {
            "marker": {
             "colorbar": {
              "outlinewidth": 0,
              "ticks": ""
             }
            },
            "type": "scattermapbox"
           }
          ],
          "scatterpolar": [
           {
            "marker": {
             "colorbar": {
              "outlinewidth": 0,
              "ticks": ""
             }
            },
            "type": "scatterpolar"
           }
          ],
          "scatterpolargl": [
           {
            "marker": {
             "colorbar": {
              "outlinewidth": 0,
              "ticks": ""
             }
            },
            "type": "scatterpolargl"
           }
          ],
          "scatterternary": [
           {
            "marker": {
             "colorbar": {
              "outlinewidth": 0,
              "ticks": ""
             }
            },
            "type": "scatterternary"
           }
          ],
          "surface": [
           {
            "colorbar": {
             "outlinewidth": 0,
             "ticks": ""
            },
            "colorscale": [
             [
              0,
              "#0d0887"
             ],
             [
              0.1111111111111111,
              "#46039f"
             ],
             [
              0.2222222222222222,
              "#7201a8"
             ],
             [
              0.3333333333333333,
              "#9c179e"
             ],
             [
              0.4444444444444444,
              "#bd3786"
             ],
             [
              0.5555555555555556,
              "#d8576b"
             ],
             [
              0.6666666666666666,
              "#ed7953"
             ],
             [
              0.7777777777777778,
              "#fb9f3a"
             ],
             [
              0.8888888888888888,
              "#fdca26"
             ],
             [
              1,
              "#f0f921"
             ]
            ],
            "type": "surface"
           }
          ],
          "table": [
           {
            "cells": {
             "fill": {
              "color": "#EBF0F8"
             },
             "line": {
              "color": "white"
             }
            },
            "header": {
             "fill": {
              "color": "#C8D4E3"
             },
             "line": {
              "color": "white"
             }
            },
            "type": "table"
           }
          ]
         },
         "layout": {
          "annotationdefaults": {
           "arrowcolor": "#2a3f5f",
           "arrowhead": 0,
           "arrowwidth": 1
          },
          "coloraxis": {
           "colorbar": {
            "outlinewidth": 0,
            "ticks": ""
           }
          },
          "colorscale": {
           "diverging": [
            [
             0,
             "#8e0152"
            ],
            [
             0.1,
             "#c51b7d"
            ],
            [
             0.2,
             "#de77ae"
            ],
            [
             0.3,
             "#f1b6da"
            ],
            [
             0.4,
             "#fde0ef"
            ],
            [
             0.5,
             "#f7f7f7"
            ],
            [
             0.6,
             "#e6f5d0"
            ],
            [
             0.7,
             "#b8e186"
            ],
            [
             0.8,
             "#7fbc41"
            ],
            [
             0.9,
             "#4d9221"
            ],
            [
             1,
             "#276419"
            ]
           ],
           "sequential": [
            [
             0,
             "#0d0887"
            ],
            [
             0.1111111111111111,
             "#46039f"
            ],
            [
             0.2222222222222222,
             "#7201a8"
            ],
            [
             0.3333333333333333,
             "#9c179e"
            ],
            [
             0.4444444444444444,
             "#bd3786"
            ],
            [
             0.5555555555555556,
             "#d8576b"
            ],
            [
             0.6666666666666666,
             "#ed7953"
            ],
            [
             0.7777777777777778,
             "#fb9f3a"
            ],
            [
             0.8888888888888888,
             "#fdca26"
            ],
            [
             1,
             "#f0f921"
            ]
           ],
           "sequentialminus": [
            [
             0,
             "#0d0887"
            ],
            [
             0.1111111111111111,
             "#46039f"
            ],
            [
             0.2222222222222222,
             "#7201a8"
            ],
            [
             0.3333333333333333,
             "#9c179e"
            ],
            [
             0.4444444444444444,
             "#bd3786"
            ],
            [
             0.5555555555555556,
             "#d8576b"
            ],
            [
             0.6666666666666666,
             "#ed7953"
            ],
            [
             0.7777777777777778,
             "#fb9f3a"
            ],
            [
             0.8888888888888888,
             "#fdca26"
            ],
            [
             1,
             "#f0f921"
            ]
           ]
          },
          "colorway": [
           "#636efa",
           "#EF553B",
           "#00cc96",
           "#ab63fa",
           "#FFA15A",
           "#19d3f3",
           "#FF6692",
           "#B6E880",
           "#FF97FF",
           "#FECB52"
          ],
          "font": {
           "color": "#2a3f5f"
          },
          "geo": {
           "bgcolor": "white",
           "lakecolor": "white",
           "landcolor": "#E5ECF6",
           "showlakes": true,
           "showland": true,
           "subunitcolor": "white"
          },
          "hoverlabel": {
           "align": "left"
          },
          "hovermode": "closest",
          "mapbox": {
           "style": "light"
          },
          "paper_bgcolor": "white",
          "plot_bgcolor": "#E5ECF6",
          "polar": {
           "angularaxis": {
            "gridcolor": "white",
            "linecolor": "white",
            "ticks": ""
           },
           "bgcolor": "#E5ECF6",
           "radialaxis": {
            "gridcolor": "white",
            "linecolor": "white",
            "ticks": ""
           }
          },
          "scene": {
           "xaxis": {
            "backgroundcolor": "#E5ECF6",
            "gridcolor": "white",
            "gridwidth": 2,
            "linecolor": "white",
            "showbackground": true,
            "ticks": "",
            "zerolinecolor": "white"
           },
           "yaxis": {
            "backgroundcolor": "#E5ECF6",
            "gridcolor": "white",
            "gridwidth": 2,
            "linecolor": "white",
            "showbackground": true,
            "ticks": "",
            "zerolinecolor": "white"
           },
           "zaxis": {
            "backgroundcolor": "#E5ECF6",
            "gridcolor": "white",
            "gridwidth": 2,
            "linecolor": "white",
            "showbackground": true,
            "ticks": "",
            "zerolinecolor": "white"
           }
          },
          "shapedefaults": {
           "line": {
            "color": "#2a3f5f"
           }
          },
          "ternary": {
           "aaxis": {
            "gridcolor": "white",
            "linecolor": "white",
            "ticks": ""
           },
           "baxis": {
            "gridcolor": "white",
            "linecolor": "white",
            "ticks": ""
           },
           "bgcolor": "#E5ECF6",
           "caxis": {
            "gridcolor": "white",
            "linecolor": "white",
            "ticks": ""
           }
          },
          "title": {
           "x": 0.05
          },
          "xaxis": {
           "automargin": true,
           "gridcolor": "white",
           "linecolor": "white",
           "ticks": "",
           "title": {
            "standoff": 15
           },
           "zerolinecolor": "white",
           "zerolinewidth": 2
          },
          "yaxis": {
           "automargin": true,
           "gridcolor": "white",
           "linecolor": "white",
           "ticks": "",
           "title": {
            "standoff": 15
           },
           "zerolinecolor": "white",
           "zerolinewidth": 2
          }
         }
        },
        "title": {
         "text": "Bottom5 Model with low Retention Rate"
        },
        "width": 800,
        "xaxis": {
         "anchor": "y",
         "domain": [
          0,
          1
         ],
         "title": {
          "text": "model"
         }
        },
        "yaxis": {
         "anchor": "x",
         "domain": [
          0,
          1
         ],
         "title": {
          "text": "ratention_rate"
         }
        }
       }
      },
      "text/html": [
       "<div>\n",
       "        \n",
       "        \n",
       "            <div id=\"2b640f3b-c36b-4d08-8eaf-047608b71d16\" class=\"plotly-graph-div\" style=\"height:525px; width:800px;\"></div>\n",
       "            <script type=\"text/javascript\">\n",
       "                require([\"plotly\"], function(Plotly) {\n",
       "                    window.PLOTLYENV=window.PLOTLYENV || {};\n",
       "                    \n",
       "                if (document.getElementById(\"2b640f3b-c36b-4d08-8eaf-047608b71d16\")) {\n",
       "                    Plotly.newPlot(\n",
       "                        '2b640f3b-c36b-4d08-8eaf-047608b71d16',\n",
       "                        [{\"alignmentgroup\": \"True\", \"hovertemplate\": \"model=%{x}<br>ratention_rate=%{text}<extra></extra>\", \"legendgroup\": \"\", \"marker\": {\"color\": \"#636efa\"}, \"name\": \"\", \"offsetgroup\": \"\", \"orientation\": \"v\", \"showlegend\": false, \"text\": [0.25433510638297874, 0.310528714284486, 0.332557823096366, 0.3969645793353339, 0.39872146635363337], \"textposition\": \"auto\", \"type\": \"bar\", \"x\": [\"Challenger\", \"E-Class\", \"F-150\", \"Grand\", \"Ridgeline\"], \"xaxis\": \"x\", \"y\": [0.25433510638297874, 0.310528714284486, 0.332557823096366, 0.3969645793353339, 0.39872146635363337], \"yaxis\": \"y\"}],\n",
       "                        {\"barmode\": \"relative\", \"legend\": {\"tracegroupgap\": 0}, \"template\": {\"data\": {\"bar\": [{\"error_x\": {\"color\": \"#2a3f5f\"}, \"error_y\": {\"color\": \"#2a3f5f\"}, \"marker\": {\"line\": {\"color\": \"#E5ECF6\", \"width\": 0.5}}, \"type\": \"bar\"}], \"barpolar\": [{\"marker\": {\"line\": {\"color\": \"#E5ECF6\", \"width\": 0.5}}, \"type\": \"barpolar\"}], \"carpet\": [{\"aaxis\": {\"endlinecolor\": \"#2a3f5f\", \"gridcolor\": \"white\", \"linecolor\": \"white\", \"minorgridcolor\": \"white\", \"startlinecolor\": \"#2a3f5f\"}, \"baxis\": {\"endlinecolor\": \"#2a3f5f\", \"gridcolor\": \"white\", \"linecolor\": \"white\", \"minorgridcolor\": \"white\", \"startlinecolor\": \"#2a3f5f\"}, \"type\": \"carpet\"}], \"choropleth\": [{\"colorbar\": {\"outlinewidth\": 0, \"ticks\": \"\"}, \"type\": \"choropleth\"}], \"contour\": [{\"colorbar\": {\"outlinewidth\": 0, \"ticks\": \"\"}, \"colorscale\": [[0.0, \"#0d0887\"], [0.1111111111111111, \"#46039f\"], [0.2222222222222222, \"#7201a8\"], [0.3333333333333333, \"#9c179e\"], [0.4444444444444444, \"#bd3786\"], [0.5555555555555556, \"#d8576b\"], [0.6666666666666666, \"#ed7953\"], [0.7777777777777778, \"#fb9f3a\"], [0.8888888888888888, \"#fdca26\"], [1.0, \"#f0f921\"]], \"type\": \"contour\"}], \"contourcarpet\": [{\"colorbar\": {\"outlinewidth\": 0, \"ticks\": \"\"}, \"type\": \"contourcarpet\"}], \"heatmap\": [{\"colorbar\": {\"outlinewidth\": 0, \"ticks\": \"\"}, \"colorscale\": [[0.0, \"#0d0887\"], [0.1111111111111111, \"#46039f\"], [0.2222222222222222, \"#7201a8\"], [0.3333333333333333, \"#9c179e\"], [0.4444444444444444, \"#bd3786\"], [0.5555555555555556, \"#d8576b\"], [0.6666666666666666, \"#ed7953\"], [0.7777777777777778, \"#fb9f3a\"], [0.8888888888888888, \"#fdca26\"], [1.0, \"#f0f921\"]], \"type\": \"heatmap\"}], \"heatmapgl\": [{\"colorbar\": {\"outlinewidth\": 0, \"ticks\": \"\"}, \"colorscale\": [[0.0, \"#0d0887\"], [0.1111111111111111, \"#46039f\"], [0.2222222222222222, \"#7201a8\"], [0.3333333333333333, \"#9c179e\"], [0.4444444444444444, \"#bd3786\"], [0.5555555555555556, \"#d8576b\"], [0.6666666666666666, \"#ed7953\"], [0.7777777777777778, \"#fb9f3a\"], [0.8888888888888888, \"#fdca26\"], [1.0, \"#f0f921\"]], \"type\": \"heatmapgl\"}], \"histogram\": [{\"marker\": {\"colorbar\": {\"outlinewidth\": 0, \"ticks\": \"\"}}, \"type\": \"histogram\"}], \"histogram2d\": [{\"colorbar\": {\"outlinewidth\": 0, \"ticks\": \"\"}, \"colorscale\": [[0.0, \"#0d0887\"], [0.1111111111111111, \"#46039f\"], [0.2222222222222222, \"#7201a8\"], [0.3333333333333333, \"#9c179e\"], [0.4444444444444444, \"#bd3786\"], [0.5555555555555556, \"#d8576b\"], [0.6666666666666666, \"#ed7953\"], [0.7777777777777778, \"#fb9f3a\"], [0.8888888888888888, \"#fdca26\"], [1.0, \"#f0f921\"]], \"type\": \"histogram2d\"}], \"histogram2dcontour\": [{\"colorbar\": {\"outlinewidth\": 0, \"ticks\": \"\"}, \"colorscale\": [[0.0, \"#0d0887\"], [0.1111111111111111, \"#46039f\"], [0.2222222222222222, \"#7201a8\"], [0.3333333333333333, \"#9c179e\"], [0.4444444444444444, \"#bd3786\"], [0.5555555555555556, \"#d8576b\"], [0.6666666666666666, \"#ed7953\"], [0.7777777777777778, \"#fb9f3a\"], [0.8888888888888888, \"#fdca26\"], [1.0, \"#f0f921\"]], \"type\": \"histogram2dcontour\"}], \"mesh3d\": [{\"colorbar\": {\"outlinewidth\": 0, \"ticks\": \"\"}, \"type\": \"mesh3d\"}], \"parcoords\": [{\"line\": {\"colorbar\": {\"outlinewidth\": 0, \"ticks\": \"\"}}, \"type\": \"parcoords\"}], \"pie\": [{\"automargin\": true, \"type\": \"pie\"}], \"scatter\": [{\"marker\": {\"colorbar\": {\"outlinewidth\": 0, \"ticks\": \"\"}}, \"type\": \"scatter\"}], \"scatter3d\": [{\"line\": {\"colorbar\": {\"outlinewidth\": 0, \"ticks\": \"\"}}, \"marker\": {\"colorbar\": {\"outlinewidth\": 0, \"ticks\": \"\"}}, \"type\": \"scatter3d\"}], \"scattercarpet\": [{\"marker\": {\"colorbar\": {\"outlinewidth\": 0, \"ticks\": \"\"}}, \"type\": \"scattercarpet\"}], \"scattergeo\": [{\"marker\": {\"colorbar\": {\"outlinewidth\": 0, \"ticks\": \"\"}}, \"type\": \"scattergeo\"}], \"scattergl\": [{\"marker\": {\"colorbar\": {\"outlinewidth\": 0, \"ticks\": \"\"}}, \"type\": \"scattergl\"}], \"scattermapbox\": [{\"marker\": {\"colorbar\": {\"outlinewidth\": 0, \"ticks\": \"\"}}, \"type\": \"scattermapbox\"}], \"scatterpolar\": [{\"marker\": {\"colorbar\": {\"outlinewidth\": 0, \"ticks\": \"\"}}, \"type\": \"scatterpolar\"}], \"scatterpolargl\": [{\"marker\": {\"colorbar\": {\"outlinewidth\": 0, \"ticks\": \"\"}}, \"type\": \"scatterpolargl\"}], \"scatterternary\": [{\"marker\": {\"colorbar\": {\"outlinewidth\": 0, \"ticks\": \"\"}}, \"type\": \"scatterternary\"}], \"surface\": [{\"colorbar\": {\"outlinewidth\": 0, \"ticks\": \"\"}, \"colorscale\": [[0.0, \"#0d0887\"], [0.1111111111111111, \"#46039f\"], [0.2222222222222222, \"#7201a8\"], [0.3333333333333333, \"#9c179e\"], [0.4444444444444444, \"#bd3786\"], [0.5555555555555556, \"#d8576b\"], [0.6666666666666666, \"#ed7953\"], [0.7777777777777778, \"#fb9f3a\"], [0.8888888888888888, \"#fdca26\"], [1.0, \"#f0f921\"]], \"type\": \"surface\"}], \"table\": [{\"cells\": {\"fill\": {\"color\": \"#EBF0F8\"}, \"line\": {\"color\": \"white\"}}, \"header\": {\"fill\": {\"color\": \"#C8D4E3\"}, \"line\": {\"color\": \"white\"}}, \"type\": \"table\"}]}, \"layout\": {\"annotationdefaults\": {\"arrowcolor\": \"#2a3f5f\", \"arrowhead\": 0, \"arrowwidth\": 1}, \"coloraxis\": {\"colorbar\": {\"outlinewidth\": 0, \"ticks\": \"\"}}, \"colorscale\": {\"diverging\": [[0, \"#8e0152\"], [0.1, \"#c51b7d\"], [0.2, \"#de77ae\"], [0.3, \"#f1b6da\"], [0.4, \"#fde0ef\"], [0.5, \"#f7f7f7\"], [0.6, \"#e6f5d0\"], [0.7, \"#b8e186\"], [0.8, \"#7fbc41\"], [0.9, \"#4d9221\"], [1, \"#276419\"]], \"sequential\": [[0.0, \"#0d0887\"], [0.1111111111111111, \"#46039f\"], [0.2222222222222222, \"#7201a8\"], [0.3333333333333333, \"#9c179e\"], [0.4444444444444444, \"#bd3786\"], [0.5555555555555556, \"#d8576b\"], [0.6666666666666666, \"#ed7953\"], [0.7777777777777778, \"#fb9f3a\"], [0.8888888888888888, \"#fdca26\"], [1.0, \"#f0f921\"]], \"sequentialminus\": [[0.0, \"#0d0887\"], [0.1111111111111111, \"#46039f\"], [0.2222222222222222, \"#7201a8\"], [0.3333333333333333, \"#9c179e\"], [0.4444444444444444, \"#bd3786\"], [0.5555555555555556, \"#d8576b\"], [0.6666666666666666, \"#ed7953\"], [0.7777777777777778, \"#fb9f3a\"], [0.8888888888888888, \"#fdca26\"], [1.0, \"#f0f921\"]]}, \"colorway\": [\"#636efa\", \"#EF553B\", \"#00cc96\", \"#ab63fa\", \"#FFA15A\", \"#19d3f3\", \"#FF6692\", \"#B6E880\", \"#FF97FF\", \"#FECB52\"], \"font\": {\"color\": \"#2a3f5f\"}, \"geo\": {\"bgcolor\": \"white\", \"lakecolor\": \"white\", \"landcolor\": \"#E5ECF6\", \"showlakes\": true, \"showland\": true, \"subunitcolor\": \"white\"}, \"hoverlabel\": {\"align\": \"left\"}, \"hovermode\": \"closest\", \"mapbox\": {\"style\": \"light\"}, \"paper_bgcolor\": \"white\", \"plot_bgcolor\": \"#E5ECF6\", \"polar\": {\"angularaxis\": {\"gridcolor\": \"white\", \"linecolor\": \"white\", \"ticks\": \"\"}, \"bgcolor\": \"#E5ECF6\", \"radialaxis\": {\"gridcolor\": \"white\", \"linecolor\": \"white\", \"ticks\": \"\"}}, \"scene\": {\"xaxis\": {\"backgroundcolor\": \"#E5ECF6\", \"gridcolor\": \"white\", \"gridwidth\": 2, \"linecolor\": \"white\", \"showbackground\": true, \"ticks\": \"\", \"zerolinecolor\": \"white\"}, \"yaxis\": {\"backgroundcolor\": \"#E5ECF6\", \"gridcolor\": \"white\", \"gridwidth\": 2, \"linecolor\": \"white\", \"showbackground\": true, \"ticks\": \"\", \"zerolinecolor\": \"white\"}, \"zaxis\": {\"backgroundcolor\": \"#E5ECF6\", \"gridcolor\": \"white\", \"gridwidth\": 2, \"linecolor\": \"white\", \"showbackground\": true, \"ticks\": \"\", \"zerolinecolor\": \"white\"}}, \"shapedefaults\": {\"line\": {\"color\": \"#2a3f5f\"}}, \"ternary\": {\"aaxis\": {\"gridcolor\": \"white\", \"linecolor\": \"white\", \"ticks\": \"\"}, \"baxis\": {\"gridcolor\": \"white\", \"linecolor\": \"white\", \"ticks\": \"\"}, \"bgcolor\": \"#E5ECF6\", \"caxis\": {\"gridcolor\": \"white\", \"linecolor\": \"white\", \"ticks\": \"\"}}, \"title\": {\"x\": 0.05}, \"xaxis\": {\"automargin\": true, \"gridcolor\": \"white\", \"linecolor\": \"white\", \"ticks\": \"\", \"title\": {\"standoff\": 15}, \"zerolinecolor\": \"white\", \"zerolinewidth\": 2}, \"yaxis\": {\"automargin\": true, \"gridcolor\": \"white\", \"linecolor\": \"white\", \"ticks\": \"\", \"title\": {\"standoff\": 15}, \"zerolinecolor\": \"white\", \"zerolinewidth\": 2}}}, \"title\": {\"text\": \"Bottom5 Model with low Retention Rate\"}, \"width\": 800, \"xaxis\": {\"anchor\": \"y\", \"domain\": [0.0, 1.0], \"title\": {\"text\": \"model\"}}, \"yaxis\": {\"anchor\": \"x\", \"domain\": [0.0, 1.0], \"title\": {\"text\": \"ratention_rate\"}}},\n",
       "                        {\"responsive\": true}\n",
       "                    ).then(function(){\n",
       "                            \n",
       "var gd = document.getElementById('2b640f3b-c36b-4d08-8eaf-047608b71d16');\n",
       "var x = new MutationObserver(function (mutations, observer) {{\n",
       "        var display = window.getComputedStyle(gd).display;\n",
       "        if (!display || display === 'none') {{\n",
       "            console.log([gd, 'removed!']);\n",
       "            Plotly.purge(gd);\n",
       "            observer.disconnect();\n",
       "        }}\n",
       "}});\n",
       "\n",
       "// Listen for the removal of the full notebook cells\n",
       "var notebookContainer = gd.closest('#notebook-container');\n",
       "if (notebookContainer) {{\n",
       "    x.observe(notebookContainer, {childList: true});\n",
       "}}\n",
       "\n",
       "// Listen for the clearing of the current output cell\n",
       "var outputEl = gd.closest('.output');\n",
       "if (outputEl) {{\n",
       "    x.observe(outputEl, {childList: true});\n",
       "}}\n",
       "\n",
       "                        })\n",
       "                };\n",
       "                });\n",
       "            </script>\n",
       "        </div>"
      ]
     },
     "metadata": {},
     "output_type": "display_data"
    }
   ],
   "source": [
    "# fig=go.Figure(go.Bar(x=retentionrate_TOP5.index,y=retentionrate_TOP5['ratention_rate'],width=0.3,text=y,textposition='outside'\\\n",
    "#                 ))\n",
    "fig=px.bar(Bottom5_Model, x=Bottom5_Model.index,y=Bottom5_Model['ratention_rate'],text=y,\\\n",
    "          width=800,title='Bottom5 Model with low Retention Rate')\n",
    "# fig.update_layout(title_text='Bottom 5 Brands with high Retention Rate')\n",
    "\n",
    "# py.iplot([top5brand])\n",
    "fig.show()"
   ]
  },
  {
   "cell_type": "code",
   "execution_count": 286,
   "metadata": {},
   "outputs": [
    {
     "data": {
      "image/png": "[encoded data removed]",
      "text/plain": [
       "<Figure size 800x550 with 1 Axes>"
      ]
     },
     "metadata": {},
     "output_type": "display_data"
    }
   ],
   "source": [
    "# BOTTOM5 MODEL PLOT: model price trend\n",
    "\n",
    "plt.figure(dpi=100)\n",
    "Challenger=Bottom5_Model.iloc[0,0:6]\n",
    "plt.plot(Challenger,label='Challenger')\n",
    "\n",
    "E_Class=Bottom5_Model.iloc[1,0:6]\n",
    "plt.plot(E_Class,label='E_Class')\n",
    "\n",
    "F_150=Bottom5_Model.iloc[2,0:6]\n",
    "plt.plot(F_150,label='F_150')\n",
    "\n",
    "Grand=Bottom5_Model.iloc[3,0:6]\n",
    "plt.plot(Grand,label='Grand')\n",
    "\n",
    "Ridgeline=Bottom5_Model.iloc[4,0:6]\n",
    "plt.plot(Ridgeline,label='Ridgeline')\n",
    "plt.legend()\n",
    "plt.show()"
   ]
  },
  {
   "cell_type": "code",
   "execution_count": null,
   "metadata": {},
   "outputs": [],
   "source": []
  },
  {
   "cell_type": "code",
   "execution_count": 287,
   "metadata": {},
   "outputs": [
    {
     "data": {
      "image/png": "[encoded data removed]",
      "text/plain": [
       "<Figure size 800x550 with 1 Axes>"
      ]
     },
     "metadata": {},
     "output_type": "display_data"
    }
   ],
   "source": [
    "# TOP 1 AND BOTTOM 1 COMPARE\n",
    "plt.figure(dpi=100)\n",
    "Challenger=Bottom5_Model.iloc[0,0:6]\n",
    "plt.plot(Challenger,label='Challenger',color='#BA1D1D')\n",
    "\n",
    "Mustang=TOP5_Model.loc['Mustang','0':'5']\n",
    "plt.plot(Mustang,label='Mustang',color='#80C7FF')\n",
    "plt.legend()\n",
    "plt.show()"
   ]
  },
  {
   "cell_type": "markdown",
   "metadata": {},
   "source": [
    "<h1 align=\"center\"><font size='6'>  Buy a Sedan </h1>\n",
    "<br>\n",
    "\n",
    "<h1 align=\"center\"><font size='3'>  Check the Retention rate of different Brand, Body Type, Model with in 5 years </h1>\n",
    "<br>"
   ]
  },
  {
   "cell_type": "code",
   "execution_count": 288,
   "metadata": {},
   "outputs": [
    {
     "data": {
      "text/html": [
       "<div>\n",
       "<style scoped>\n",
       "    .dataframe tbody tr th:only-of-type {\n",
       "        vertical-align: middle;\n",
       "    }\n",
       "\n",
       "    .dataframe tbody tr th {\n",
       "        vertical-align: top;\n",
       "    }\n",
       "\n",
       "    .dataframe thead th {\n",
       "        text-align: right;\n",
       "    }\n",
       "</style>\n",
       "<table border=\"1\" class=\"dataframe\">\n",
       "  <thead>\n",
       "    <tr style=\"text-align: right;\">\n",
       "      <th></th>\n",
       "      <th>year</th>\n",
       "      <th>brand</th>\n",
       "      <th>model</th>\n",
       "      <th>location</th>\n",
       "      <th>price</th>\n",
       "      <th>mileage</th>\n",
       "      <th>body_type</th>\n",
       "      <th>exterior_colour</th>\n",
       "      <th>interior_colour</th>\n",
       "      <th>door</th>\n",
       "      <th>passenger</th>\n",
       "      <th>transmission</th>\n",
       "      <th>drive_type</th>\n",
       "      <th>displacement</th>\n",
       "      <th>cylinder</th>\n",
       "      <th>fuel</th>\n",
       "      <th>country</th>\n",
       "      <th>real_year_age</th>\n",
       "      <th>car_age_int</th>\n",
       "      <th>car_age_str</th>\n",
       "    </tr>\n",
       "  </thead>\n",
       "  <tbody>\n",
       "    <tr>\n",
       "      <th>0</th>\n",
       "      <td>2016</td>\n",
       "      <td>Toyota</td>\n",
       "      <td>Corolla</td>\n",
       "      <td>Aurora</td>\n",
       "      <td>13888</td>\n",
       "      <td>42098</td>\n",
       "      <td>Sedan</td>\n",
       "      <td>-</td>\n",
       "      <td>-</td>\n",
       "      <td>4</td>\n",
       "      <td>5</td>\n",
       "      <td>Automatic</td>\n",
       "      <td>FWD</td>\n",
       "      <td>1.8</td>\n",
       "      <td>4</td>\n",
       "      <td>Gasoline</td>\n",
       "      <td>Japan</td>\n",
       "      <td>3.75</td>\n",
       "      <td>4</td>\n",
       "      <td>4</td>\n",
       "    </tr>\n",
       "    <tr>\n",
       "      <th>1</th>\n",
       "      <td>2017</td>\n",
       "      <td>Dodge</td>\n",
       "      <td>Grand</td>\n",
       "      <td>Dodge</td>\n",
       "      <td>17885</td>\n",
       "      <td>57100</td>\n",
       "      <td>-</td>\n",
       "      <td>-</td>\n",
       "      <td>-</td>\n",
       "      <td>-</td>\n",
       "      <td>-</td>\n",
       "      <td>Automatic</td>\n",
       "      <td>-</td>\n",
       "      <td>-</td>\n",
       "      <td>-</td>\n",
       "      <td>-</td>\n",
       "      <td>USA</td>\n",
       "      <td>3.88</td>\n",
       "      <td>4</td>\n",
       "      <td>4</td>\n",
       "    </tr>\n",
       "  </tbody>\n",
       "</table>\n",
       "</div>"
      ],
      "text/plain": [
       "   year   brand    model location  price  mileage body_type exterior_colour  \\\n",
       "0  2016  Toyota  Corolla   Aurora  13888    42098     Sedan               -   \n",
       "1  2017   Dodge    Grand    Dodge  17885    57100         -               -   \n",
       "\n",
       "  interior_colour door passenger transmission drive_type displacement  \\\n",
       "0               -    4         5    Automatic        FWD          1.8   \n",
       "1               -    -         -    Automatic          -            -   \n",
       "\n",
       "  cylinder      fuel country  real_year_age  car_age_int car_age_str  \n",
       "0        4  Gasoline   Japan           3.75            4           4  \n",
       "1        -         -     USA           3.88            4           4  "
      ]
     },
     "execution_count": 288,
     "metadata": {},
     "output_type": "execute_result"
    }
   ],
   "source": [
    "data_age_less5.head(2)"
   ]
  },
  {
   "cell_type": "code",
   "execution_count": 289,
   "metadata": {},
   "outputs": [
    {
     "data": {
      "text/plain": [
       "(13230, 20)"
      ]
     },
     "execution_count": 289,
     "metadata": {},
     "output_type": "execute_result"
    }
   ],
   "source": [
    "data_age_less5.shape"
   ]
  },
  {
   "cell_type": "code",
   "execution_count": 290,
   "metadata": {},
   "outputs": [
    {
     "data": {
      "text/plain": [
       "(4022, 20)"
      ]
     },
     "execution_count": 290,
     "metadata": {},
     "output_type": "execute_result"
    }
   ],
   "source": [
    "# filter rows only sedan\n",
    "sedan_less5=data_age_less5[data_age_less5['body_type'].str.lower()=='sedan']\n",
    "sedan_less5.shape"
   ]
  },
  {
   "cell_type": "code",
   "execution_count": 291,
   "metadata": {},
   "outputs": [
    {
     "data": {
      "text/html": [
       "<div>\n",
       "<style scoped>\n",
       "    .dataframe tbody tr th:only-of-type {\n",
       "        vertical-align: middle;\n",
       "    }\n",
       "\n",
       "    .dataframe tbody tr th {\n",
       "        vertical-align: top;\n",
       "    }\n",
       "\n",
       "    .dataframe thead th {\n",
       "        text-align: right;\n",
       "    }\n",
       "</style>\n",
       "<table border=\"1\" class=\"dataframe\">\n",
       "  <thead>\n",
       "    <tr style=\"text-align: right;\">\n",
       "      <th>car_age_str</th>\n",
       "      <th>0</th>\n",
       "      <th>1</th>\n",
       "      <th>2</th>\n",
       "      <th>3</th>\n",
       "      <th>4</th>\n",
       "      <th>5</th>\n",
       "    </tr>\n",
       "    <tr>\n",
       "      <th>country</th>\n",
       "      <th></th>\n",
       "      <th></th>\n",
       "      <th></th>\n",
       "      <th></th>\n",
       "      <th></th>\n",
       "      <th></th>\n",
       "    </tr>\n",
       "  </thead>\n",
       "  <tbody>\n",
       "    <tr>\n",
       "      <th>Germany</th>\n",
       "      <td>62049.528302</td>\n",
       "      <td>47284.344086</td>\n",
       "      <td>38422.061856</td>\n",
       "      <td>33083.213675</td>\n",
       "      <td>29537.113514</td>\n",
       "      <td>23477.801020</td>\n",
       "    </tr>\n",
       "    <tr>\n",
       "      <th>Japan</th>\n",
       "      <td>29650.109756</td>\n",
       "      <td>24193.987952</td>\n",
       "      <td>21305.847584</td>\n",
       "      <td>19335.092949</td>\n",
       "      <td>18005.370180</td>\n",
       "      <td>16161.026810</td>\n",
       "    </tr>\n",
       "    <tr>\n",
       "      <th>Korea</th>\n",
       "      <td>21907.703704</td>\n",
       "      <td>19297.575758</td>\n",
       "      <td>18002.460317</td>\n",
       "      <td>15759.966887</td>\n",
       "      <td>14852.262774</td>\n",
       "      <td>14288.285714</td>\n",
       "    </tr>\n",
       "    <tr>\n",
       "      <th>Sweden</th>\n",
       "      <td>NaN</td>\n",
       "      <td>NaN</td>\n",
       "      <td>32843.000000</td>\n",
       "      <td>26384.000000</td>\n",
       "      <td>24939.000000</td>\n",
       "      <td>21275.000000</td>\n",
       "    </tr>\n",
       "    <tr>\n",
       "      <th>UK</th>\n",
       "      <td>NaN</td>\n",
       "      <td>26943.000000</td>\n",
       "      <td>22900.000000</td>\n",
       "      <td>NaN</td>\n",
       "      <td>NaN</td>\n",
       "      <td>14831.000000</td>\n",
       "    </tr>\n",
       "    <tr>\n",
       "      <th>USA</th>\n",
       "      <td>33556.285714</td>\n",
       "      <td>28032.577465</td>\n",
       "      <td>24300.000000</td>\n",
       "      <td>18269.816143</td>\n",
       "      <td>16326.569288</td>\n",
       "      <td>15207.164319</td>\n",
       "    </tr>\n",
       "  </tbody>\n",
       "</table>\n",
       "</div>"
      ],
      "text/plain": [
       "car_age_str             0             1             2             3  \\\n",
       "country                                                               \n",
       "Germany      62049.528302  47284.344086  38422.061856  33083.213675   \n",
       "Japan        29650.109756  24193.987952  21305.847584  19335.092949   \n",
       "Korea        21907.703704  19297.575758  18002.460317  15759.966887   \n",
       "Sweden                NaN           NaN  32843.000000  26384.000000   \n",
       "UK                    NaN  26943.000000  22900.000000           NaN   \n",
       "USA          33556.285714  28032.577465  24300.000000  18269.816143   \n",
       "\n",
       "car_age_str             4             5  \n",
       "country                                  \n",
       "Germany      29537.113514  23477.801020  \n",
       "Japan        18005.370180  16161.026810  \n",
       "Korea        14852.262774  14288.285714  \n",
       "Sweden       24939.000000  21275.000000  \n",
       "UK                    NaN  14831.000000  \n",
       "USA          16326.569288  15207.164319  "
      ]
     },
     "execution_count": 291,
     "metadata": {},
     "output_type": "execute_result"
    }
   ],
   "source": [
    "# group by country and find top 3 country\n",
    "sedan_bycountry=sedan_less5.groupby(['country','car_age_str'])['price'].mean().unstack()\n",
    "sedan_bycountry"
   ]
  },
  {
   "cell_type": "code",
   "execution_count": 292,
   "metadata": {},
   "outputs": [
    {
     "data": {
      "text/html": [
       "<div>\n",
       "<style scoped>\n",
       "    .dataframe tbody tr th:only-of-type {\n",
       "        vertical-align: middle;\n",
       "    }\n",
       "\n",
       "    .dataframe tbody tr th {\n",
       "        vertical-align: top;\n",
       "    }\n",
       "\n",
       "    .dataframe thead th {\n",
       "        text-align: right;\n",
       "    }\n",
       "</style>\n",
       "<table border=\"1\" class=\"dataframe\">\n",
       "  <thead>\n",
       "    <tr style=\"text-align: right;\">\n",
       "      <th>car_age_str</th>\n",
       "      <th>0</th>\n",
       "      <th>1</th>\n",
       "      <th>2</th>\n",
       "      <th>3</th>\n",
       "      <th>4</th>\n",
       "      <th>5</th>\n",
       "      <th>ratention_rate</th>\n",
       "    </tr>\n",
       "    <tr>\n",
       "      <th>country</th>\n",
       "      <th></th>\n",
       "      <th></th>\n",
       "      <th></th>\n",
       "      <th></th>\n",
       "      <th></th>\n",
       "      <th></th>\n",
       "      <th></th>\n",
       "    </tr>\n",
       "  </thead>\n",
       "  <tbody>\n",
       "    <tr>\n",
       "      <th>Germany</th>\n",
       "      <td>62049.528302</td>\n",
       "      <td>47284.344086</td>\n",
       "      <td>38422.061856</td>\n",
       "      <td>33083.213675</td>\n",
       "      <td>29537.113514</td>\n",
       "      <td>23477.801020</td>\n",
       "      <td>0.378372</td>\n",
       "    </tr>\n",
       "    <tr>\n",
       "      <th>Japan</th>\n",
       "      <td>29650.109756</td>\n",
       "      <td>24193.987952</td>\n",
       "      <td>21305.847584</td>\n",
       "      <td>19335.092949</td>\n",
       "      <td>18005.370180</td>\n",
       "      <td>16161.026810</td>\n",
       "      <td>0.545058</td>\n",
       "    </tr>\n",
       "    <tr>\n",
       "      <th>Korea</th>\n",
       "      <td>21907.703704</td>\n",
       "      <td>19297.575758</td>\n",
       "      <td>18002.460317</td>\n",
       "      <td>15759.966887</td>\n",
       "      <td>14852.262774</td>\n",
       "      <td>14288.285714</td>\n",
       "      <td>0.652204</td>\n",
       "    </tr>\n",
       "    <tr>\n",
       "      <th>Sweden</th>\n",
       "      <td>NaN</td>\n",
       "      <td>NaN</td>\n",
       "      <td>32843.000000</td>\n",
       "      <td>26384.000000</td>\n",
       "      <td>24939.000000</td>\n",
       "      <td>21275.000000</td>\n",
       "      <td>NaN</td>\n",
       "    </tr>\n",
       "    <tr>\n",
       "      <th>UK</th>\n",
       "      <td>NaN</td>\n",
       "      <td>26943.000000</td>\n",
       "      <td>22900.000000</td>\n",
       "      <td>NaN</td>\n",
       "      <td>NaN</td>\n",
       "      <td>14831.000000</td>\n",
       "      <td>NaN</td>\n",
       "    </tr>\n",
       "    <tr>\n",
       "      <th>USA</th>\n",
       "      <td>33556.285714</td>\n",
       "      <td>28032.577465</td>\n",
       "      <td>24300.000000</td>\n",
       "      <td>18269.816143</td>\n",
       "      <td>16326.569288</td>\n",
       "      <td>15207.164319</td>\n",
       "      <td>0.453184</td>\n",
       "    </tr>\n",
       "  </tbody>\n",
       "</table>\n",
       "</div>"
      ],
      "text/plain": [
       "car_age_str             0             1             2             3  \\\n",
       "country                                                               \n",
       "Germany      62049.528302  47284.344086  38422.061856  33083.213675   \n",
       "Japan        29650.109756  24193.987952  21305.847584  19335.092949   \n",
       "Korea        21907.703704  19297.575758  18002.460317  15759.966887   \n",
       "Sweden                NaN           NaN  32843.000000  26384.000000   \n",
       "UK                    NaN  26943.000000  22900.000000           NaN   \n",
       "USA          33556.285714  28032.577465  24300.000000  18269.816143   \n",
       "\n",
       "car_age_str             4             5  ratention_rate  \n",
       "country                                                  \n",
       "Germany      29537.113514  23477.801020        0.378372  \n",
       "Japan        18005.370180  16161.026810        0.545058  \n",
       "Korea        14852.262774  14288.285714        0.652204  \n",
       "Sweden       24939.000000  21275.000000             NaN  \n",
       "UK                    NaN  14831.000000             NaN  \n",
       "USA          16326.569288  15207.164319        0.453184  "
      ]
     },
     "execution_count": 292,
     "metadata": {},
     "output_type": "execute_result"
    }
   ],
   "source": [
    "sedan_bycountry['ratention_rate']=sedan_bycountry['5']/sedan_bycountry['0']\n",
    "sedan_bycountry"
   ]
  },
  {
   "cell_type": "code",
   "execution_count": 293,
   "metadata": {
    "scrolled": true
   },
   "outputs": [
    {
     "data": {
      "text/html": [
       "<div>\n",
       "<style scoped>\n",
       "    .dataframe tbody tr th:only-of-type {\n",
       "        vertical-align: middle;\n",
       "    }\n",
       "\n",
       "    .dataframe tbody tr th {\n",
       "        vertical-align: top;\n",
       "    }\n",
       "\n",
       "    .dataframe thead th {\n",
       "        text-align: right;\n",
       "    }\n",
       "</style>\n",
       "<table border=\"1\" class=\"dataframe\">\n",
       "  <thead>\n",
       "    <tr style=\"text-align: right;\">\n",
       "      <th>car_age_str</th>\n",
       "      <th>0</th>\n",
       "      <th>1</th>\n",
       "      <th>2</th>\n",
       "      <th>3</th>\n",
       "      <th>4</th>\n",
       "      <th>5</th>\n",
       "      <th>ratention_rate</th>\n",
       "    </tr>\n",
       "    <tr>\n",
       "      <th>country</th>\n",
       "      <th></th>\n",
       "      <th></th>\n",
       "      <th></th>\n",
       "      <th></th>\n",
       "      <th></th>\n",
       "      <th></th>\n",
       "      <th></th>\n",
       "    </tr>\n",
       "  </thead>\n",
       "  <tbody>\n",
       "    <tr>\n",
       "      <th>Korea</th>\n",
       "      <td>21907.703704</td>\n",
       "      <td>19297.575758</td>\n",
       "      <td>18002.460317</td>\n",
       "      <td>15759.966887</td>\n",
       "      <td>14852.262774</td>\n",
       "      <td>14288.285714</td>\n",
       "      <td>0.652204</td>\n",
       "    </tr>\n",
       "    <tr>\n",
       "      <th>Japan</th>\n",
       "      <td>29650.109756</td>\n",
       "      <td>24193.987952</td>\n",
       "      <td>21305.847584</td>\n",
       "      <td>19335.092949</td>\n",
       "      <td>18005.370180</td>\n",
       "      <td>16161.026810</td>\n",
       "      <td>0.545058</td>\n",
       "    </tr>\n",
       "    <tr>\n",
       "      <th>USA</th>\n",
       "      <td>33556.285714</td>\n",
       "      <td>28032.577465</td>\n",
       "      <td>24300.000000</td>\n",
       "      <td>18269.816143</td>\n",
       "      <td>16326.569288</td>\n",
       "      <td>15207.164319</td>\n",
       "      <td>0.453184</td>\n",
       "    </tr>\n",
       "  </tbody>\n",
       "</table>\n",
       "</div>"
      ],
      "text/plain": [
       "car_age_str             0             1             2             3  \\\n",
       "country                                                               \n",
       "Korea        21907.703704  19297.575758  18002.460317  15759.966887   \n",
       "Japan        29650.109756  24193.987952  21305.847584  19335.092949   \n",
       "USA          33556.285714  28032.577465  24300.000000  18269.816143   \n",
       "\n",
       "car_age_str             4             5  ratention_rate  \n",
       "country                                                  \n",
       "Korea        14852.262774  14288.285714        0.652204  \n",
       "Japan        18005.370180  16161.026810        0.545058  \n",
       "USA          16326.569288  15207.164319        0.453184  "
      ]
     },
     "execution_count": 293,
     "metadata": {},
     "output_type": "execute_result"
    }
   ],
   "source": [
    "sedan_bycountry_TOP3=sedan_bycountry.sort_values(by='ratention_rate',ascending=False).head(3)\n",
    "sedan_bycountry_TOP3"
   ]
  },
  {
   "cell_type": "code",
   "execution_count": 294,
   "metadata": {},
   "outputs": [],
   "source": [
    "sedan_bycountry_TOP3['ratention_rate']=sedan_bycountry_TOP3['ratention_rate'].round(2)"
   ]
  },
  {
   "cell_type": "code",
   "execution_count": 295,
   "metadata": {},
   "outputs": [
    {
     "data": {
      "text/html": [
       "<div>\n",
       "<style scoped>\n",
       "    .dataframe tbody tr th:only-of-type {\n",
       "        vertical-align: middle;\n",
       "    }\n",
       "\n",
       "    .dataframe tbody tr th {\n",
       "        vertical-align: top;\n",
       "    }\n",
       "\n",
       "    .dataframe thead th {\n",
       "        text-align: right;\n",
       "    }\n",
       "</style>\n",
       "<table border=\"1\" class=\"dataframe\">\n",
       "  <thead>\n",
       "    <tr style=\"text-align: right;\">\n",
       "      <th>car_age_str</th>\n",
       "      <th>0</th>\n",
       "      <th>1</th>\n",
       "      <th>2</th>\n",
       "      <th>3</th>\n",
       "      <th>4</th>\n",
       "      <th>5</th>\n",
       "      <th>ratention_rate</th>\n",
       "    </tr>\n",
       "    <tr>\n",
       "      <th>country</th>\n",
       "      <th></th>\n",
       "      <th></th>\n",
       "      <th></th>\n",
       "      <th></th>\n",
       "      <th></th>\n",
       "      <th></th>\n",
       "      <th></th>\n",
       "    </tr>\n",
       "  </thead>\n",
       "  <tbody>\n",
       "    <tr>\n",
       "      <th>Korea</th>\n",
       "      <td>21907.703704</td>\n",
       "      <td>19297.575758</td>\n",
       "      <td>18002.460317</td>\n",
       "      <td>15759.966887</td>\n",
       "      <td>14852.262774</td>\n",
       "      <td>14288.285714</td>\n",
       "      <td>0.65</td>\n",
       "    </tr>\n",
       "    <tr>\n",
       "      <th>Japan</th>\n",
       "      <td>29650.109756</td>\n",
       "      <td>24193.987952</td>\n",
       "      <td>21305.847584</td>\n",
       "      <td>19335.092949</td>\n",
       "      <td>18005.370180</td>\n",
       "      <td>16161.026810</td>\n",
       "      <td>0.55</td>\n",
       "    </tr>\n",
       "    <tr>\n",
       "      <th>USA</th>\n",
       "      <td>33556.285714</td>\n",
       "      <td>28032.577465</td>\n",
       "      <td>24300.000000</td>\n",
       "      <td>18269.816143</td>\n",
       "      <td>16326.569288</td>\n",
       "      <td>15207.164319</td>\n",
       "      <td>0.45</td>\n",
       "    </tr>\n",
       "  </tbody>\n",
       "</table>\n",
       "</div>"
      ],
      "text/plain": [
       "car_age_str             0             1             2             3  \\\n",
       "country                                                               \n",
       "Korea        21907.703704  19297.575758  18002.460317  15759.966887   \n",
       "Japan        29650.109756  24193.987952  21305.847584  19335.092949   \n",
       "USA          33556.285714  28032.577465  24300.000000  18269.816143   \n",
       "\n",
       "car_age_str             4             5  ratention_rate  \n",
       "country                                                  \n",
       "Korea        14852.262774  14288.285714            0.65  \n",
       "Japan        18005.370180  16161.026810            0.55  \n",
       "USA          16326.569288  15207.164319            0.45  "
      ]
     },
     "execution_count": 295,
     "metadata": {},
     "output_type": "execute_result"
    }
   ],
   "source": [
    "sedan_bycountry_TOP3"
   ]
  },
  {
   "cell_type": "code",
   "execution_count": 296,
   "metadata": {},
   "outputs": [
    {
     "data": {
      "image/png": "[encoded data removed]",
      "text/plain": [
       "<Figure size 800x550 with 1 Axes>"
      ]
     },
     "metadata": {},
     "output_type": "display_data"
    }
   ],
   "source": [
    "#plot of countries\n",
    "x=sedan_bycountry_TOP3.index\n",
    "y=sedan_bycountry_TOP3['ratention_rate']\n",
    "plt.figure(dpi=100)\n",
    "plt.bar(x,y,width=0.5,color='#636EFA')\n",
    "plt.xlabel('Top3 Country',)\n",
    "plt.ylabel('Retention Rate')\n",
    "\n",
    "for a,b in zip(x, y):\n",
    "    plt.text(a, b, str(b),verticalalignment=\"bottom\",horizontalalignment='center')\n",
    "plt.show()"
   ]
  },
  {
   "cell_type": "code",
   "execution_count": 297,
   "metadata": {},
   "outputs": [
    {
     "data": {
      "text/html": [
       "<div>\n",
       "<style scoped>\n",
       "    .dataframe tbody tr th:only-of-type {\n",
       "        vertical-align: middle;\n",
       "    }\n",
       "\n",
       "    .dataframe tbody tr th {\n",
       "        vertical-align: top;\n",
       "    }\n",
       "\n",
       "    .dataframe thead th {\n",
       "        text-align: right;\n",
       "    }\n",
       "</style>\n",
       "<table border=\"1\" class=\"dataframe\">\n",
       "  <thead>\n",
       "    <tr style=\"text-align: right;\">\n",
       "      <th></th>\n",
       "      <th>year</th>\n",
       "      <th>brand</th>\n",
       "      <th>model</th>\n",
       "      <th>location</th>\n",
       "      <th>price</th>\n",
       "      <th>mileage</th>\n",
       "      <th>body_type</th>\n",
       "      <th>exterior_colour</th>\n",
       "      <th>interior_colour</th>\n",
       "      <th>door</th>\n",
       "      <th>passenger</th>\n",
       "      <th>transmission</th>\n",
       "      <th>drive_type</th>\n",
       "      <th>displacement</th>\n",
       "      <th>cylinder</th>\n",
       "      <th>fuel</th>\n",
       "      <th>country</th>\n",
       "      <th>real_year_age</th>\n",
       "      <th>car_age_int</th>\n",
       "      <th>car_age_str</th>\n",
       "    </tr>\n",
       "  </thead>\n",
       "  <tbody>\n",
       "    <tr>\n",
       "      <th>0</th>\n",
       "      <td>2016</td>\n",
       "      <td>Toyota</td>\n",
       "      <td>Corolla</td>\n",
       "      <td>Aurora</td>\n",
       "      <td>13888</td>\n",
       "      <td>42098</td>\n",
       "      <td>Sedan</td>\n",
       "      <td>-</td>\n",
       "      <td>-</td>\n",
       "      <td>4</td>\n",
       "      <td>5</td>\n",
       "      <td>Automatic</td>\n",
       "      <td>FWD</td>\n",
       "      <td>1.8</td>\n",
       "      <td>4</td>\n",
       "      <td>Gasoline</td>\n",
       "      <td>Japan</td>\n",
       "      <td>3.75</td>\n",
       "      <td>4</td>\n",
       "      <td>4</td>\n",
       "    </tr>\n",
       "    <tr>\n",
       "      <th>2</th>\n",
       "      <td>2017</td>\n",
       "      <td>Toyota</td>\n",
       "      <td>Camry</td>\n",
       "      <td>Toyota</td>\n",
       "      <td>22888</td>\n",
       "      <td>95532</td>\n",
       "      <td>Sedan</td>\n",
       "      <td>White</td>\n",
       "      <td>Gray</td>\n",
       "      <td>4</td>\n",
       "      <td>5</td>\n",
       "      <td>Automatic</td>\n",
       "      <td>FWD</td>\n",
       "      <td>2.5</td>\n",
       "      <td>4</td>\n",
       "      <td>Gasoline</td>\n",
       "      <td>Japan</td>\n",
       "      <td>5.48</td>\n",
       "      <td>5</td>\n",
       "      <td>5</td>\n",
       "    </tr>\n",
       "    <tr>\n",
       "      <th>3</th>\n",
       "      <td>2016</td>\n",
       "      <td>Toyota</td>\n",
       "      <td>Camry</td>\n",
       "      <td>Aurora</td>\n",
       "      <td>19888</td>\n",
       "      <td>48315</td>\n",
       "      <td>Sedan</td>\n",
       "      <td>White</td>\n",
       "      <td>Black</td>\n",
       "      <td>4</td>\n",
       "      <td>5</td>\n",
       "      <td>Automatic</td>\n",
       "      <td>FWD</td>\n",
       "      <td>2.5</td>\n",
       "      <td>4</td>\n",
       "      <td>Gasoline</td>\n",
       "      <td>Japan</td>\n",
       "      <td>4.01</td>\n",
       "      <td>4</td>\n",
       "      <td>4</td>\n",
       "    </tr>\n",
       "    <tr>\n",
       "      <th>5</th>\n",
       "      <td>2020</td>\n",
       "      <td>Hyundai</td>\n",
       "      <td>Elantra</td>\n",
       "      <td>Aurora</td>\n",
       "      <td>17988</td>\n",
       "      <td>11719</td>\n",
       "      <td>Sedan</td>\n",
       "      <td>White</td>\n",
       "      <td>Black</td>\n",
       "      <td>4</td>\n",
       "      <td>5</td>\n",
       "      <td>Automatic</td>\n",
       "      <td>FWD</td>\n",
       "      <td>2.0</td>\n",
       "      <td>4</td>\n",
       "      <td>Gasoline</td>\n",
       "      <td>Korea</td>\n",
       "      <td>0.49</td>\n",
       "      <td>0</td>\n",
       "      <td>0</td>\n",
       "    </tr>\n",
       "    <tr>\n",
       "      <th>9</th>\n",
       "      <td>2018</td>\n",
       "      <td>Acura</td>\n",
       "      <td>ILX</td>\n",
       "      <td>Aurora</td>\n",
       "      <td>25988</td>\n",
       "      <td>13054</td>\n",
       "      <td>Sedan</td>\n",
       "      <td>White</td>\n",
       "      <td>Black</td>\n",
       "      <td>4</td>\n",
       "      <td>5</td>\n",
       "      <td>Automatic</td>\n",
       "      <td>FWD</td>\n",
       "      <td>2.4</td>\n",
       "      <td>4</td>\n",
       "      <td>Gasoline</td>\n",
       "      <td>Japan</td>\n",
       "      <td>1.54</td>\n",
       "      <td>2</td>\n",
       "      <td>2</td>\n",
       "    </tr>\n",
       "    <tr>\n",
       "      <th>...</th>\n",
       "      <td>...</td>\n",
       "      <td>...</td>\n",
       "      <td>...</td>\n",
       "      <td>...</td>\n",
       "      <td>...</td>\n",
       "      <td>...</td>\n",
       "      <td>...</td>\n",
       "      <td>...</td>\n",
       "      <td>...</td>\n",
       "      <td>...</td>\n",
       "      <td>...</td>\n",
       "      <td>...</td>\n",
       "      <td>...</td>\n",
       "      <td>...</td>\n",
       "      <td>...</td>\n",
       "      <td>...</td>\n",
       "      <td>...</td>\n",
       "      <td>...</td>\n",
       "      <td>...</td>\n",
       "      <td>...</td>\n",
       "    </tr>\n",
       "    <tr>\n",
       "      <th>23898</th>\n",
       "      <td>2018</td>\n",
       "      <td>Chrysler</td>\n",
       "      <td>300</td>\n",
       "      <td>Windsor</td>\n",
       "      <td>20995</td>\n",
       "      <td>54863</td>\n",
       "      <td>Sedan</td>\n",
       "      <td>Gray</td>\n",
       "      <td>Black</td>\n",
       "      <td>4</td>\n",
       "      <td>5</td>\n",
       "      <td>Automatic</td>\n",
       "      <td>RWD</td>\n",
       "      <td>3.6</td>\n",
       "      <td>6</td>\n",
       "      <td>Gasoline</td>\n",
       "      <td>USA</td>\n",
       "      <td>3.29</td>\n",
       "      <td>3</td>\n",
       "      <td>3</td>\n",
       "    </tr>\n",
       "    <tr>\n",
       "      <th>23927</th>\n",
       "      <td>2016</td>\n",
       "      <td>Buick</td>\n",
       "      <td>Verano</td>\n",
       "      <td>Windsor</td>\n",
       "      <td>14000</td>\n",
       "      <td>83424</td>\n",
       "      <td>Sedan</td>\n",
       "      <td>White</td>\n",
       "      <td>-</td>\n",
       "      <td>4</td>\n",
       "      <td>5</td>\n",
       "      <td>Automatic</td>\n",
       "      <td>FWD</td>\n",
       "      <td>2.4</td>\n",
       "      <td>4</td>\n",
       "      <td>Gasoline</td>\n",
       "      <td>USA</td>\n",
       "      <td>5.48</td>\n",
       "      <td>5</td>\n",
       "      <td>5</td>\n",
       "    </tr>\n",
       "    <tr>\n",
       "      <th>23930</th>\n",
       "      <td>2015</td>\n",
       "      <td>Buick</td>\n",
       "      <td>Verano</td>\n",
       "      <td>Windsor</td>\n",
       "      <td>15000</td>\n",
       "      <td>32525</td>\n",
       "      <td>Sedan</td>\n",
       "      <td>-</td>\n",
       "      <td>-</td>\n",
       "      <td>4</td>\n",
       "      <td>5</td>\n",
       "      <td>Automatic</td>\n",
       "      <td>FWD</td>\n",
       "      <td>2.4</td>\n",
       "      <td>4</td>\n",
       "      <td>Gasoline</td>\n",
       "      <td>USA</td>\n",
       "      <td>3.86</td>\n",
       "      <td>4</td>\n",
       "      <td>4</td>\n",
       "    </tr>\n",
       "    <tr>\n",
       "      <th>23934</th>\n",
       "      <td>2015</td>\n",
       "      <td>Kia</td>\n",
       "      <td>Rio</td>\n",
       "      <td>Windsor</td>\n",
       "      <td>13999</td>\n",
       "      <td>53815</td>\n",
       "      <td>Sedan</td>\n",
       "      <td>-</td>\n",
       "      <td>-</td>\n",
       "      <td>4</td>\n",
       "      <td>5</td>\n",
       "      <td>Automatic</td>\n",
       "      <td>FWD</td>\n",
       "      <td>1.6</td>\n",
       "      <td>4</td>\n",
       "      <td>Gasoline</td>\n",
       "      <td>Korea</td>\n",
       "      <td>4.74</td>\n",
       "      <td>5</td>\n",
       "      <td>5</td>\n",
       "    </tr>\n",
       "    <tr>\n",
       "      <th>23937</th>\n",
       "      <td>2016</td>\n",
       "      <td>Ford</td>\n",
       "      <td>Fusion</td>\n",
       "      <td>Windsor</td>\n",
       "      <td>16000</td>\n",
       "      <td>80995</td>\n",
       "      <td>Sedan</td>\n",
       "      <td>Blue</td>\n",
       "      <td>-</td>\n",
       "      <td>4</td>\n",
       "      <td>5</td>\n",
       "      <td>Automatic</td>\n",
       "      <td>FWD</td>\n",
       "      <td>2.5</td>\n",
       "      <td>4</td>\n",
       "      <td>Gasoline</td>\n",
       "      <td>USA</td>\n",
       "      <td>5.37</td>\n",
       "      <td>5</td>\n",
       "      <td>5</td>\n",
       "    </tr>\n",
       "  </tbody>\n",
       "</table>\n",
       "<p>3269 rows × 20 columns</p>\n",
       "</div>"
      ],
      "text/plain": [
       "       year     brand    model location  price  mileage body_type  \\\n",
       "0      2016    Toyota  Corolla   Aurora  13888    42098     Sedan   \n",
       "2      2017    Toyota    Camry   Toyota  22888    95532     Sedan   \n",
       "3      2016    Toyota    Camry   Aurora  19888    48315     Sedan   \n",
       "5      2020   Hyundai  Elantra   Aurora  17988    11719     Sedan   \n",
       "9      2018     Acura      ILX   Aurora  25988    13054     Sedan   \n",
       "...     ...       ...      ...      ...    ...      ...       ...   \n",
       "23898  2018  Chrysler      300  Windsor  20995    54863     Sedan   \n",
       "23927  2016     Buick   Verano  Windsor  14000    83424     Sedan   \n",
       "23930  2015     Buick   Verano  Windsor  15000    32525     Sedan   \n",
       "23934  2015       Kia      Rio  Windsor  13999    53815     Sedan   \n",
       "23937  2016      Ford   Fusion  Windsor  16000    80995     Sedan   \n",
       "\n",
       "      exterior_colour interior_colour door passenger transmission drive_type  \\\n",
       "0                   -               -    4         5    Automatic        FWD   \n",
       "2               White            Gray    4         5    Automatic        FWD   \n",
       "3               White           Black    4         5    Automatic        FWD   \n",
       "5               White           Black    4         5    Automatic        FWD   \n",
       "9               White           Black    4         5    Automatic        FWD   \n",
       "...               ...             ...  ...       ...          ...        ...   \n",
       "23898            Gray           Black    4         5    Automatic        RWD   \n",
       "23927           White               -    4         5    Automatic        FWD   \n",
       "23930               -               -    4         5    Automatic        FWD   \n",
       "23934               -               -    4         5    Automatic        FWD   \n",
       "23937            Blue               -    4         5    Automatic        FWD   \n",
       "\n",
       "      displacement cylinder      fuel country  real_year_age  car_age_int  \\\n",
       "0              1.8        4  Gasoline   Japan           3.75            4   \n",
       "2              2.5        4  Gasoline   Japan           5.48            5   \n",
       "3              2.5        4  Gasoline   Japan           4.01            4   \n",
       "5              2.0        4  Gasoline   Korea           0.49            0   \n",
       "9              2.4        4  Gasoline   Japan           1.54            2   \n",
       "...            ...      ...       ...     ...            ...          ...   \n",
       "23898          3.6        6  Gasoline     USA           3.29            3   \n",
       "23927          2.4        4  Gasoline     USA           5.48            5   \n",
       "23930          2.4        4  Gasoline     USA           3.86            4   \n",
       "23934          1.6        4  Gasoline   Korea           4.74            5   \n",
       "23937          2.5        4  Gasoline     USA           5.37            5   \n",
       "\n",
       "      car_age_str  \n",
       "0               4  \n",
       "2               5  \n",
       "3               4  \n",
       "5               0  \n",
       "9               2  \n",
       "...           ...  \n",
       "23898           3  \n",
       "23927           5  \n",
       "23930           4  \n",
       "23934           5  \n",
       "23937           5  \n",
       "\n",
       "[3269 rows x 20 columns]"
      ]
     },
     "execution_count": 297,
     "metadata": {},
     "output_type": "execute_result"
    }
   ],
   "source": [
    "# filter top 5 brands in the 3 countries\n",
    "\n",
    "sedan_3country=sedan_less5[sedan_less5['country'].isin(['Korea','Japan','USA'])]\n",
    "sedan_3country"
   ]
  },
  {
   "cell_type": "code",
   "execution_count": 298,
   "metadata": {},
   "outputs": [
    {
     "data": {
      "text/html": [
       "<div>\n",
       "<style scoped>\n",
       "    .dataframe tbody tr th:only-of-type {\n",
       "        vertical-align: middle;\n",
       "    }\n",
       "\n",
       "    .dataframe tbody tr th {\n",
       "        vertical-align: top;\n",
       "    }\n",
       "\n",
       "    .dataframe thead th {\n",
       "        text-align: right;\n",
       "    }\n",
       "</style>\n",
       "<table border=\"1\" class=\"dataframe\">\n",
       "  <thead>\n",
       "    <tr style=\"text-align: right;\">\n",
       "      <th>car_age_str</th>\n",
       "      <th>0</th>\n",
       "      <th>1</th>\n",
       "      <th>2</th>\n",
       "      <th>3</th>\n",
       "      <th>4</th>\n",
       "      <th>5</th>\n",
       "    </tr>\n",
       "    <tr>\n",
       "      <th>brand</th>\n",
       "      <th></th>\n",
       "      <th></th>\n",
       "      <th></th>\n",
       "      <th></th>\n",
       "      <th></th>\n",
       "      <th></th>\n",
       "    </tr>\n",
       "  </thead>\n",
       "  <tbody>\n",
       "    <tr>\n",
       "      <th>Acura</th>\n",
       "      <td>NaN</td>\n",
       "      <td>32423.000000</td>\n",
       "      <td>27380.500000</td>\n",
       "      <td>21258.315789</td>\n",
       "      <td>20041.365854</td>\n",
       "      <td>18540.323529</td>\n",
       "    </tr>\n",
       "    <tr>\n",
       "      <th>Buick</th>\n",
       "      <td>NaN</td>\n",
       "      <td>27964.333333</td>\n",
       "      <td>22505.000000</td>\n",
       "      <td>17614.333333</td>\n",
       "      <td>15945.357143</td>\n",
       "      <td>14998.000000</td>\n",
       "    </tr>\n",
       "    <tr>\n",
       "      <th>Cadillac</th>\n",
       "      <td>61328.000000</td>\n",
       "      <td>48290.666667</td>\n",
       "      <td>33548.285714</td>\n",
       "      <td>26915.727273</td>\n",
       "      <td>32453.909091</td>\n",
       "      <td>19176.266667</td>\n",
       "    </tr>\n",
       "    <tr>\n",
       "      <th>Chevrolet</th>\n",
       "      <td>28750.200000</td>\n",
       "      <td>20811.176471</td>\n",
       "      <td>18818.625000</td>\n",
       "      <td>16630.411348</td>\n",
       "      <td>14406.375796</td>\n",
       "      <td>13382.043478</td>\n",
       "    </tr>\n",
       "    <tr>\n",
       "      <th>Chrysler</th>\n",
       "      <td>NaN</td>\n",
       "      <td>29868.250000</td>\n",
       "      <td>28933.684211</td>\n",
       "      <td>25031.500000</td>\n",
       "      <td>18396.882353</td>\n",
       "      <td>16572.666667</td>\n",
       "    </tr>\n",
       "    <tr>\n",
       "      <th>Dodge</th>\n",
       "      <td>NaN</td>\n",
       "      <td>35435.750000</td>\n",
       "      <td>27696.788732</td>\n",
       "      <td>24927.222222</td>\n",
       "      <td>23141.500000</td>\n",
       "      <td>25404.000000</td>\n",
       "    </tr>\n",
       "    <tr>\n",
       "      <th>Ford</th>\n",
       "      <td>29815.000000</td>\n",
       "      <td>23558.347826</td>\n",
       "      <td>21891.230769</td>\n",
       "      <td>17322.488372</td>\n",
       "      <td>15741.222222</td>\n",
       "      <td>14334.729167</td>\n",
       "    </tr>\n",
       "    <tr>\n",
       "      <th>Honda</th>\n",
       "      <td>31549.950000</td>\n",
       "      <td>25345.219512</td>\n",
       "      <td>22236.145161</td>\n",
       "      <td>20219.716418</td>\n",
       "      <td>18496.892857</td>\n",
       "      <td>16030.970874</td>\n",
       "    </tr>\n",
       "    <tr>\n",
       "      <th>Hyundai</th>\n",
       "      <td>19847.800000</td>\n",
       "      <td>19573.776119</td>\n",
       "      <td>18177.800000</td>\n",
       "      <td>15701.119266</td>\n",
       "      <td>15214.455556</td>\n",
       "      <td>14678.569444</td>\n",
       "    </tr>\n",
       "    <tr>\n",
       "      <th>Infiniti</th>\n",
       "      <td>51500.000000</td>\n",
       "      <td>41800.000000</td>\n",
       "      <td>27283.600000</td>\n",
       "      <td>28999.000000</td>\n",
       "      <td>24827.750000</td>\n",
       "      <td>23833.875000</td>\n",
       "    </tr>\n",
       "    <tr>\n",
       "      <th>Kia</th>\n",
       "      <td>24482.583333</td>\n",
       "      <td>18719.281250</td>\n",
       "      <td>17638.951220</td>\n",
       "      <td>15912.690476</td>\n",
       "      <td>14158.702128</td>\n",
       "      <td>13690.404255</td>\n",
       "    </tr>\n",
       "    <tr>\n",
       "      <th>Lexus</th>\n",
       "      <td>52995.000000</td>\n",
       "      <td>NaN</td>\n",
       "      <td>37665.000000</td>\n",
       "      <td>33011.500000</td>\n",
       "      <td>33859.923077</td>\n",
       "      <td>28372.000000</td>\n",
       "    </tr>\n",
       "    <tr>\n",
       "      <th>Lincoln</th>\n",
       "      <td>NaN</td>\n",
       "      <td>59998.000000</td>\n",
       "      <td>29094.000000</td>\n",
       "      <td>35998.333333</td>\n",
       "      <td>26942.875000</td>\n",
       "      <td>23458.200000</td>\n",
       "    </tr>\n",
       "    <tr>\n",
       "      <th>Mazda</th>\n",
       "      <td>29822.000000</td>\n",
       "      <td>25849.700000</td>\n",
       "      <td>19899.583333</td>\n",
       "      <td>17646.180000</td>\n",
       "      <td>15587.555556</td>\n",
       "      <td>14234.377778</td>\n",
       "    </tr>\n",
       "    <tr>\n",
       "      <th>Mitsubishi</th>\n",
       "      <td>NaN</td>\n",
       "      <td>14594.000000</td>\n",
       "      <td>13196.500000</td>\n",
       "      <td>13913.666667</td>\n",
       "      <td>14369.500000</td>\n",
       "      <td>11915.555556</td>\n",
       "    </tr>\n",
       "    <tr>\n",
       "      <th>Nissan</th>\n",
       "      <td>27616.000000</td>\n",
       "      <td>21201.812500</td>\n",
       "      <td>16732.230769</td>\n",
       "      <td>16657.972973</td>\n",
       "      <td>14728.150943</td>\n",
       "      <td>12726.677966</td>\n",
       "    </tr>\n",
       "    <tr>\n",
       "      <th>Subaru</th>\n",
       "      <td>33604.333333</td>\n",
       "      <td>31683.916667</td>\n",
       "      <td>29234.400000</td>\n",
       "      <td>24955.956522</td>\n",
       "      <td>21774.148148</td>\n",
       "      <td>21578.545455</td>\n",
       "    </tr>\n",
       "    <tr>\n",
       "      <th>Toyota</th>\n",
       "      <td>27896.604651</td>\n",
       "      <td>21846.000000</td>\n",
       "      <td>21415.758621</td>\n",
       "      <td>17938.583333</td>\n",
       "      <td>16408.754545</td>\n",
       "      <td>15946.658824</td>\n",
       "    </tr>\n",
       "  </tbody>\n",
       "</table>\n",
       "</div>"
      ],
      "text/plain": [
       "car_age_str             0             1             2             3  \\\n",
       "brand                                                                 \n",
       "Acura                 NaN  32423.000000  27380.500000  21258.315789   \n",
       "Buick                 NaN  27964.333333  22505.000000  17614.333333   \n",
       "Cadillac     61328.000000  48290.666667  33548.285714  26915.727273   \n",
       "Chevrolet    28750.200000  20811.176471  18818.625000  16630.411348   \n",
       "Chrysler              NaN  29868.250000  28933.684211  25031.500000   \n",
       "Dodge                 NaN  35435.750000  27696.788732  24927.222222   \n",
       "Ford         29815.000000  23558.347826  21891.230769  17322.488372   \n",
       "Honda        31549.950000  25345.219512  22236.145161  20219.716418   \n",
       "Hyundai      19847.800000  19573.776119  18177.800000  15701.119266   \n",
       "Infiniti     51500.000000  41800.000000  27283.600000  28999.000000   \n",
       "Kia          24482.583333  18719.281250  17638.951220  15912.690476   \n",
       "Lexus        52995.000000           NaN  37665.000000  33011.500000   \n",
       "Lincoln               NaN  59998.000000  29094.000000  35998.333333   \n",
       "Mazda        29822.000000  25849.700000  19899.583333  17646.180000   \n",
       "Mitsubishi            NaN  14594.000000  13196.500000  13913.666667   \n",
       "Nissan       27616.000000  21201.812500  16732.230769  16657.972973   \n",
       "Subaru       33604.333333  31683.916667  29234.400000  24955.956522   \n",
       "Toyota       27896.604651  21846.000000  21415.758621  17938.583333   \n",
       "\n",
       "car_age_str             4             5  \n",
       "brand                                    \n",
       "Acura        20041.365854  18540.323529  \n",
       "Buick        15945.357143  14998.000000  \n",
       "Cadillac     32453.909091  19176.266667  \n",
       "Chevrolet    14406.375796  13382.043478  \n",
       "Chrysler     18396.882353  16572.666667  \n",
       "Dodge        23141.500000  25404.000000  \n",
       "Ford         15741.222222  14334.729167  \n",
       "Honda        18496.892857  16030.970874  \n",
       "Hyundai      15214.455556  14678.569444  \n",
       "Infiniti     24827.750000  23833.875000  \n",
       "Kia          14158.702128  13690.404255  \n",
       "Lexus        33859.923077  28372.000000  \n",
       "Lincoln      26942.875000  23458.200000  \n",
       "Mazda        15587.555556  14234.377778  \n",
       "Mitsubishi   14369.500000  11915.555556  \n",
       "Nissan       14728.150943  12726.677966  \n",
       "Subaru       21774.148148  21578.545455  \n",
       "Toyota       16408.754545  15946.658824  "
      ]
     },
     "execution_count": 298,
     "metadata": {},
     "output_type": "execute_result"
    }
   ],
   "source": [
    "sedan_3country_brands=sedan_3country.groupby(['brand','car_age_str'])['price'].mean().unstack()\n",
    "sedan_3country_brands"
   ]
  },
  {
   "cell_type": "code",
   "execution_count": 299,
   "metadata": {},
   "outputs": [
    {
     "data": {
      "text/html": [
       "<div>\n",
       "<style scoped>\n",
       "    .dataframe tbody tr th:only-of-type {\n",
       "        vertical-align: middle;\n",
       "    }\n",
       "\n",
       "    .dataframe tbody tr th {\n",
       "        vertical-align: top;\n",
       "    }\n",
       "\n",
       "    .dataframe thead th {\n",
       "        text-align: right;\n",
       "    }\n",
       "</style>\n",
       "<table border=\"1\" class=\"dataframe\">\n",
       "  <thead>\n",
       "    <tr style=\"text-align: right;\">\n",
       "      <th>car_age_str</th>\n",
       "      <th>0</th>\n",
       "      <th>1</th>\n",
       "      <th>2</th>\n",
       "      <th>3</th>\n",
       "      <th>4</th>\n",
       "      <th>5</th>\n",
       "      <th>ratention_rate</th>\n",
       "    </tr>\n",
       "    <tr>\n",
       "      <th>brand</th>\n",
       "      <th></th>\n",
       "      <th></th>\n",
       "      <th></th>\n",
       "      <th></th>\n",
       "      <th></th>\n",
       "      <th></th>\n",
       "      <th></th>\n",
       "    </tr>\n",
       "  </thead>\n",
       "  <tbody>\n",
       "    <tr>\n",
       "      <th>Acura</th>\n",
       "      <td>NaN</td>\n",
       "      <td>32423.000000</td>\n",
       "      <td>27380.500000</td>\n",
       "      <td>21258.315789</td>\n",
       "      <td>20041.365854</td>\n",
       "      <td>18540.323529</td>\n",
       "      <td>NaN</td>\n",
       "    </tr>\n",
       "    <tr>\n",
       "      <th>Buick</th>\n",
       "      <td>NaN</td>\n",
       "      <td>27964.333333</td>\n",
       "      <td>22505.000000</td>\n",
       "      <td>17614.333333</td>\n",
       "      <td>15945.357143</td>\n",
       "      <td>14998.000000</td>\n",
       "      <td>NaN</td>\n",
       "    </tr>\n",
       "    <tr>\n",
       "      <th>Cadillac</th>\n",
       "      <td>61328.000000</td>\n",
       "      <td>48290.666667</td>\n",
       "      <td>33548.285714</td>\n",
       "      <td>26915.727273</td>\n",
       "      <td>32453.909091</td>\n",
       "      <td>19176.266667</td>\n",
       "      <td>0.312684</td>\n",
       "    </tr>\n",
       "    <tr>\n",
       "      <th>Chevrolet</th>\n",
       "      <td>28750.200000</td>\n",
       "      <td>20811.176471</td>\n",
       "      <td>18818.625000</td>\n",
       "      <td>16630.411348</td>\n",
       "      <td>14406.375796</td>\n",
       "      <td>13382.043478</td>\n",
       "      <td>0.465459</td>\n",
       "    </tr>\n",
       "    <tr>\n",
       "      <th>Chrysler</th>\n",
       "      <td>NaN</td>\n",
       "      <td>29868.250000</td>\n",
       "      <td>28933.684211</td>\n",
       "      <td>25031.500000</td>\n",
       "      <td>18396.882353</td>\n",
       "      <td>16572.666667</td>\n",
       "      <td>NaN</td>\n",
       "    </tr>\n",
       "    <tr>\n",
       "      <th>Dodge</th>\n",
       "      <td>NaN</td>\n",
       "      <td>35435.750000</td>\n",
       "      <td>27696.788732</td>\n",
       "      <td>24927.222222</td>\n",
       "      <td>23141.500000</td>\n",
       "      <td>25404.000000</td>\n",
       "      <td>NaN</td>\n",
       "    </tr>\n",
       "    <tr>\n",
       "      <th>Ford</th>\n",
       "      <td>29815.000000</td>\n",
       "      <td>23558.347826</td>\n",
       "      <td>21891.230769</td>\n",
       "      <td>17322.488372</td>\n",
       "      <td>15741.222222</td>\n",
       "      <td>14334.729167</td>\n",
       "      <td>0.480789</td>\n",
       "    </tr>\n",
       "    <tr>\n",
       "      <th>Honda</th>\n",
       "      <td>31549.950000</td>\n",
       "      <td>25345.219512</td>\n",
       "      <td>22236.145161</td>\n",
       "      <td>20219.716418</td>\n",
       "      <td>18496.892857</td>\n",
       "      <td>16030.970874</td>\n",
       "      <td>0.508114</td>\n",
       "    </tr>\n",
       "    <tr>\n",
       "      <th>Hyundai</th>\n",
       "      <td>19847.800000</td>\n",
       "      <td>19573.776119</td>\n",
       "      <td>18177.800000</td>\n",
       "      <td>15701.119266</td>\n",
       "      <td>15214.455556</td>\n",
       "      <td>14678.569444</td>\n",
       "      <td>0.739556</td>\n",
       "    </tr>\n",
       "    <tr>\n",
       "      <th>Infiniti</th>\n",
       "      <td>51500.000000</td>\n",
       "      <td>41800.000000</td>\n",
       "      <td>27283.600000</td>\n",
       "      <td>28999.000000</td>\n",
       "      <td>24827.750000</td>\n",
       "      <td>23833.875000</td>\n",
       "      <td>0.462794</td>\n",
       "    </tr>\n",
       "    <tr>\n",
       "      <th>Kia</th>\n",
       "      <td>24482.583333</td>\n",
       "      <td>18719.281250</td>\n",
       "      <td>17638.951220</td>\n",
       "      <td>15912.690476</td>\n",
       "      <td>14158.702128</td>\n",
       "      <td>13690.404255</td>\n",
       "      <td>0.559190</td>\n",
       "    </tr>\n",
       "    <tr>\n",
       "      <th>Lexus</th>\n",
       "      <td>52995.000000</td>\n",
       "      <td>NaN</td>\n",
       "      <td>37665.000000</td>\n",
       "      <td>33011.500000</td>\n",
       "      <td>33859.923077</td>\n",
       "      <td>28372.000000</td>\n",
       "      <td>0.535371</td>\n",
       "    </tr>\n",
       "    <tr>\n",
       "      <th>Lincoln</th>\n",
       "      <td>NaN</td>\n",
       "      <td>59998.000000</td>\n",
       "      <td>29094.000000</td>\n",
       "      <td>35998.333333</td>\n",
       "      <td>26942.875000</td>\n",
       "      <td>23458.200000</td>\n",
       "      <td>NaN</td>\n",
       "    </tr>\n",
       "    <tr>\n",
       "      <th>Mazda</th>\n",
       "      <td>29822.000000</td>\n",
       "      <td>25849.700000</td>\n",
       "      <td>19899.583333</td>\n",
       "      <td>17646.180000</td>\n",
       "      <td>15587.555556</td>\n",
       "      <td>14234.377778</td>\n",
       "      <td>0.477311</td>\n",
       "    </tr>\n",
       "    <tr>\n",
       "      <th>Mitsubishi</th>\n",
       "      <td>NaN</td>\n",
       "      <td>14594.000000</td>\n",
       "      <td>13196.500000</td>\n",
       "      <td>13913.666667</td>\n",
       "      <td>14369.500000</td>\n",
       "      <td>11915.555556</td>\n",
       "      <td>NaN</td>\n",
       "    </tr>\n",
       "    <tr>\n",
       "      <th>Nissan</th>\n",
       "      <td>27616.000000</td>\n",
       "      <td>21201.812500</td>\n",
       "      <td>16732.230769</td>\n",
       "      <td>16657.972973</td>\n",
       "      <td>14728.150943</td>\n",
       "      <td>12726.677966</td>\n",
       "      <td>0.460844</td>\n",
       "    </tr>\n",
       "    <tr>\n",
       "      <th>Subaru</th>\n",
       "      <td>33604.333333</td>\n",
       "      <td>31683.916667</td>\n",
       "      <td>29234.400000</td>\n",
       "      <td>24955.956522</td>\n",
       "      <td>21774.148148</td>\n",
       "      <td>21578.545455</td>\n",
       "      <td>0.642136</td>\n",
       "    </tr>\n",
       "    <tr>\n",
       "      <th>Toyota</th>\n",
       "      <td>27896.604651</td>\n",
       "      <td>21846.000000</td>\n",
       "      <td>21415.758621</td>\n",
       "      <td>17938.583333</td>\n",
       "      <td>16408.754545</td>\n",
       "      <td>15946.658824</td>\n",
       "      <td>0.571634</td>\n",
       "    </tr>\n",
       "  </tbody>\n",
       "</table>\n",
       "</div>"
      ],
      "text/plain": [
       "car_age_str             0             1             2             3  \\\n",
       "brand                                                                 \n",
       "Acura                 NaN  32423.000000  27380.500000  21258.315789   \n",
       "Buick                 NaN  27964.333333  22505.000000  17614.333333   \n",
       "Cadillac     61328.000000  48290.666667  33548.285714  26915.727273   \n",
       "Chevrolet    28750.200000  20811.176471  18818.625000  16630.411348   \n",
       "Chrysler              NaN  29868.250000  28933.684211  25031.500000   \n",
       "Dodge                 NaN  35435.750000  27696.788732  24927.222222   \n",
       "Ford         29815.000000  23558.347826  21891.230769  17322.488372   \n",
       "Honda        31549.950000  25345.219512  22236.145161  20219.716418   \n",
       "Hyundai      19847.800000  19573.776119  18177.800000  15701.119266   \n",
       "Infiniti     51500.000000  41800.000000  27283.600000  28999.000000   \n",
       "Kia          24482.583333  18719.281250  17638.951220  15912.690476   \n",
       "Lexus        52995.000000           NaN  37665.000000  33011.500000   \n",
       "Lincoln               NaN  59998.000000  29094.000000  35998.333333   \n",
       "Mazda        29822.000000  25849.700000  19899.583333  17646.180000   \n",
       "Mitsubishi            NaN  14594.000000  13196.500000  13913.666667   \n",
       "Nissan       27616.000000  21201.812500  16732.230769  16657.972973   \n",
       "Subaru       33604.333333  31683.916667  29234.400000  24955.956522   \n",
       "Toyota       27896.604651  21846.000000  21415.758621  17938.583333   \n",
       "\n",
       "car_age_str             4             5  ratention_rate  \n",
       "brand                                                    \n",
       "Acura        20041.365854  18540.323529             NaN  \n",
       "Buick        15945.357143  14998.000000             NaN  \n",
       "Cadillac     32453.909091  19176.266667        0.312684  \n",
       "Chevrolet    14406.375796  13382.043478        0.465459  \n",
       "Chrysler     18396.882353  16572.666667             NaN  \n",
       "Dodge        23141.500000  25404.000000             NaN  \n",
       "Ford         15741.222222  14334.729167        0.480789  \n",
       "Honda        18496.892857  16030.970874        0.508114  \n",
       "Hyundai      15214.455556  14678.569444        0.739556  \n",
       "Infiniti     24827.750000  23833.875000        0.462794  \n",
       "Kia          14158.702128  13690.404255        0.559190  \n",
       "Lexus        33859.923077  28372.000000        0.535371  \n",
       "Lincoln      26942.875000  23458.200000             NaN  \n",
       "Mazda        15587.555556  14234.377778        0.477311  \n",
       "Mitsubishi   14369.500000  11915.555556             NaN  \n",
       "Nissan       14728.150943  12726.677966        0.460844  \n",
       "Subaru       21774.148148  21578.545455        0.642136  \n",
       "Toyota       16408.754545  15946.658824        0.571634  "
      ]
     },
     "execution_count": 299,
     "metadata": {},
     "output_type": "execute_result"
    }
   ],
   "source": [
    "sedan_3country_brands['ratention_rate']=sedan_3country_brands['5']/sedan_3country_brands['0']\n",
    "sedan_3country_brands"
   ]
  },
  {
   "cell_type": "code",
   "execution_count": 300,
   "metadata": {
    "scrolled": true
   },
   "outputs": [
    {
     "data": {
      "text/html": [
       "<div>\n",
       "<style scoped>\n",
       "    .dataframe tbody tr th:only-of-type {\n",
       "        vertical-align: middle;\n",
       "    }\n",
       "\n",
       "    .dataframe tbody tr th {\n",
       "        vertical-align: top;\n",
       "    }\n",
       "\n",
       "    .dataframe thead th {\n",
       "        text-align: right;\n",
       "    }\n",
       "</style>\n",
       "<table border=\"1\" class=\"dataframe\">\n",
       "  <thead>\n",
       "    <tr style=\"text-align: right;\">\n",
       "      <th>car_age_str</th>\n",
       "      <th>0</th>\n",
       "      <th>1</th>\n",
       "      <th>2</th>\n",
       "      <th>3</th>\n",
       "      <th>4</th>\n",
       "      <th>5</th>\n",
       "      <th>ratention_rate</th>\n",
       "    </tr>\n",
       "    <tr>\n",
       "      <th>brand</th>\n",
       "      <th></th>\n",
       "      <th></th>\n",
       "      <th></th>\n",
       "      <th></th>\n",
       "      <th></th>\n",
       "      <th></th>\n",
       "      <th></th>\n",
       "    </tr>\n",
       "  </thead>\n",
       "  <tbody>\n",
       "    <tr>\n",
       "      <th>Hyundai</th>\n",
       "      <td>19847.800000</td>\n",
       "      <td>19573.776119</td>\n",
       "      <td>18177.800000</td>\n",
       "      <td>15701.119266</td>\n",
       "      <td>15214.455556</td>\n",
       "      <td>14678.569444</td>\n",
       "      <td>0.739556</td>\n",
       "    </tr>\n",
       "    <tr>\n",
       "      <th>Subaru</th>\n",
       "      <td>33604.333333</td>\n",
       "      <td>31683.916667</td>\n",
       "      <td>29234.400000</td>\n",
       "      <td>24955.956522</td>\n",
       "      <td>21774.148148</td>\n",
       "      <td>21578.545455</td>\n",
       "      <td>0.642136</td>\n",
       "    </tr>\n",
       "    <tr>\n",
       "      <th>Toyota</th>\n",
       "      <td>27896.604651</td>\n",
       "      <td>21846.000000</td>\n",
       "      <td>21415.758621</td>\n",
       "      <td>17938.583333</td>\n",
       "      <td>16408.754545</td>\n",
       "      <td>15946.658824</td>\n",
       "      <td>0.571634</td>\n",
       "    </tr>\n",
       "    <tr>\n",
       "      <th>Kia</th>\n",
       "      <td>24482.583333</td>\n",
       "      <td>18719.281250</td>\n",
       "      <td>17638.951220</td>\n",
       "      <td>15912.690476</td>\n",
       "      <td>14158.702128</td>\n",
       "      <td>13690.404255</td>\n",
       "      <td>0.559190</td>\n",
       "    </tr>\n",
       "    <tr>\n",
       "      <th>Lexus</th>\n",
       "      <td>52995.000000</td>\n",
       "      <td>NaN</td>\n",
       "      <td>37665.000000</td>\n",
       "      <td>33011.500000</td>\n",
       "      <td>33859.923077</td>\n",
       "      <td>28372.000000</td>\n",
       "      <td>0.535371</td>\n",
       "    </tr>\n",
       "  </tbody>\n",
       "</table>\n",
       "</div>"
      ],
      "text/plain": [
       "car_age_str             0             1             2             3  \\\n",
       "brand                                                                 \n",
       "Hyundai      19847.800000  19573.776119  18177.800000  15701.119266   \n",
       "Subaru       33604.333333  31683.916667  29234.400000  24955.956522   \n",
       "Toyota       27896.604651  21846.000000  21415.758621  17938.583333   \n",
       "Kia          24482.583333  18719.281250  17638.951220  15912.690476   \n",
       "Lexus        52995.000000           NaN  37665.000000  33011.500000   \n",
       "\n",
       "car_age_str             4             5  ratention_rate  \n",
       "brand                                                    \n",
       "Hyundai      15214.455556  14678.569444        0.739556  \n",
       "Subaru       21774.148148  21578.545455        0.642136  \n",
       "Toyota       16408.754545  15946.658824        0.571634  \n",
       "Kia          14158.702128  13690.404255        0.559190  \n",
       "Lexus        33859.923077  28372.000000        0.535371  "
      ]
     },
     "execution_count": 300,
     "metadata": {},
     "output_type": "execute_result"
    }
   ],
   "source": [
    "sedan_3country_brands_TOP5=sedan_3country_brands.sort_values(by='ratention_rate',ascending=False).head(5)\n",
    "sedan_3country_brands_TOP5"
   ]
  },
  {
   "cell_type": "code",
   "execution_count": 301,
   "metadata": {},
   "outputs": [
    {
     "data": {
      "text/html": [
       "<div>\n",
       "<style scoped>\n",
       "    .dataframe tbody tr th:only-of-type {\n",
       "        vertical-align: middle;\n",
       "    }\n",
       "\n",
       "    .dataframe tbody tr th {\n",
       "        vertical-align: top;\n",
       "    }\n",
       "\n",
       "    .dataframe thead th {\n",
       "        text-align: right;\n",
       "    }\n",
       "</style>\n",
       "<table border=\"1\" class=\"dataframe\">\n",
       "  <thead>\n",
       "    <tr style=\"text-align: right;\">\n",
       "      <th>car_age_str</th>\n",
       "      <th>0</th>\n",
       "      <th>1</th>\n",
       "      <th>2</th>\n",
       "      <th>3</th>\n",
       "      <th>4</th>\n",
       "      <th>5</th>\n",
       "      <th>ratention_rate</th>\n",
       "    </tr>\n",
       "    <tr>\n",
       "      <th>brand</th>\n",
       "      <th></th>\n",
       "      <th></th>\n",
       "      <th></th>\n",
       "      <th></th>\n",
       "      <th></th>\n",
       "      <th></th>\n",
       "      <th></th>\n",
       "    </tr>\n",
       "  </thead>\n",
       "  <tbody>\n",
       "    <tr>\n",
       "      <th>Hyundai</th>\n",
       "      <td>19847.800000</td>\n",
       "      <td>19573.776119</td>\n",
       "      <td>18177.800000</td>\n",
       "      <td>15701.119266</td>\n",
       "      <td>15214.455556</td>\n",
       "      <td>14678.569444</td>\n",
       "      <td>0.74</td>\n",
       "    </tr>\n",
       "    <tr>\n",
       "      <th>Subaru</th>\n",
       "      <td>33604.333333</td>\n",
       "      <td>31683.916667</td>\n",
       "      <td>29234.400000</td>\n",
       "      <td>24955.956522</td>\n",
       "      <td>21774.148148</td>\n",
       "      <td>21578.545455</td>\n",
       "      <td>0.64</td>\n",
       "    </tr>\n",
       "    <tr>\n",
       "      <th>Toyota</th>\n",
       "      <td>27896.604651</td>\n",
       "      <td>21846.000000</td>\n",
       "      <td>21415.758621</td>\n",
       "      <td>17938.583333</td>\n",
       "      <td>16408.754545</td>\n",
       "      <td>15946.658824</td>\n",
       "      <td>0.57</td>\n",
       "    </tr>\n",
       "    <tr>\n",
       "      <th>Kia</th>\n",
       "      <td>24482.583333</td>\n",
       "      <td>18719.281250</td>\n",
       "      <td>17638.951220</td>\n",
       "      <td>15912.690476</td>\n",
       "      <td>14158.702128</td>\n",
       "      <td>13690.404255</td>\n",
       "      <td>0.56</td>\n",
       "    </tr>\n",
       "    <tr>\n",
       "      <th>Lexus</th>\n",
       "      <td>52995.000000</td>\n",
       "      <td>NaN</td>\n",
       "      <td>37665.000000</td>\n",
       "      <td>33011.500000</td>\n",
       "      <td>33859.923077</td>\n",
       "      <td>28372.000000</td>\n",
       "      <td>0.54</td>\n",
       "    </tr>\n",
       "  </tbody>\n",
       "</table>\n",
       "</div>"
      ],
      "text/plain": [
       "car_age_str             0             1             2             3  \\\n",
       "brand                                                                 \n",
       "Hyundai      19847.800000  19573.776119  18177.800000  15701.119266   \n",
       "Subaru       33604.333333  31683.916667  29234.400000  24955.956522   \n",
       "Toyota       27896.604651  21846.000000  21415.758621  17938.583333   \n",
       "Kia          24482.583333  18719.281250  17638.951220  15912.690476   \n",
       "Lexus        52995.000000           NaN  37665.000000  33011.500000   \n",
       "\n",
       "car_age_str             4             5  ratention_rate  \n",
       "brand                                                    \n",
       "Hyundai      15214.455556  14678.569444            0.74  \n",
       "Subaru       21774.148148  21578.545455            0.64  \n",
       "Toyota       16408.754545  15946.658824            0.57  \n",
       "Kia          14158.702128  13690.404255            0.56  \n",
       "Lexus        33859.923077  28372.000000            0.54  "
      ]
     },
     "execution_count": 301,
     "metadata": {},
     "output_type": "execute_result"
    }
   ],
   "source": [
    "sedan_3country_brands_TOP5['ratention_rate']=sedan_3country_brands_TOP5['ratention_rate'].round(2)\n",
    "sedan_3country_brands_TOP5"
   ]
  },
  {
   "cell_type": "code",
   "execution_count": 302,
   "metadata": {},
   "outputs": [
    {
     "data": {
      "image/png": "[encoded data removed]",
      "text/plain": [
       "<Figure size 800x550 with 1 Axes>"
      ]
     },
     "metadata": {},
     "output_type": "display_data"
    }
   ],
   "source": [
    "#plot of brand\n",
    "x=sedan_3country_brands_TOP5.index\n",
    "y=sedan_3country_brands_TOP5['ratention_rate']\n",
    "plt.figure(dpi=100)\n",
    "plt.bar(x,y,width=0.5,color='#121186')\n",
    "plt.xlabel('Top5 Brand',)\n",
    "plt.ylabel('Retention Rate')\n",
    "\n",
    "for a,b in zip(x, y):\n",
    "    plt.text(a, b, str(b),verticalalignment=\"bottom\",horizontalalignment='center')\n",
    "plt.show()"
   ]
  },
  {
   "cell_type": "code",
   "execution_count": 303,
   "metadata": {},
   "outputs": [
    {
     "name": "stderr",
     "output_type": "stream",
     "text": [
      "/Users/Ericzheng/opt/anaconda3/lib/python3.7/site-packages/ipykernel_launcher.py:3: UserWarning:\n",
      "\n",
      "Boolean Series key will be reindexed to match DataFrame index.\n",
      "\n"
     ]
    },
    {
     "data": {
      "text/html": [
       "<div>\n",
       "<style scoped>\n",
       "    .dataframe tbody tr th:only-of-type {\n",
       "        vertical-align: middle;\n",
       "    }\n",
       "\n",
       "    .dataframe tbody tr th {\n",
       "        vertical-align: top;\n",
       "    }\n",
       "\n",
       "    .dataframe thead th {\n",
       "        text-align: right;\n",
       "    }\n",
       "</style>\n",
       "<table border=\"1\" class=\"dataframe\">\n",
       "  <thead>\n",
       "    <tr style=\"text-align: right;\">\n",
       "      <th></th>\n",
       "      <th>year</th>\n",
       "      <th>brand</th>\n",
       "      <th>model</th>\n",
       "      <th>location</th>\n",
       "      <th>price</th>\n",
       "      <th>mileage</th>\n",
       "      <th>body_type</th>\n",
       "      <th>exterior_colour</th>\n",
       "      <th>interior_colour</th>\n",
       "      <th>door</th>\n",
       "      <th>passenger</th>\n",
       "      <th>transmission</th>\n",
       "      <th>drive_type</th>\n",
       "      <th>displacement</th>\n",
       "      <th>cylinder</th>\n",
       "      <th>fuel</th>\n",
       "      <th>country</th>\n",
       "      <th>real_year_age</th>\n",
       "      <th>car_age_int</th>\n",
       "      <th>car_age_str</th>\n",
       "    </tr>\n",
       "  </thead>\n",
       "  <tbody>\n",
       "    <tr>\n",
       "      <th>0</th>\n",
       "      <td>2016</td>\n",
       "      <td>Toyota</td>\n",
       "      <td>Corolla</td>\n",
       "      <td>Aurora</td>\n",
       "      <td>13888</td>\n",
       "      <td>42098</td>\n",
       "      <td>Sedan</td>\n",
       "      <td>-</td>\n",
       "      <td>-</td>\n",
       "      <td>4</td>\n",
       "      <td>5</td>\n",
       "      <td>Automatic</td>\n",
       "      <td>FWD</td>\n",
       "      <td>1.8</td>\n",
       "      <td>4</td>\n",
       "      <td>Gasoline</td>\n",
       "      <td>Japan</td>\n",
       "      <td>3.75</td>\n",
       "      <td>4</td>\n",
       "      <td>4</td>\n",
       "    </tr>\n",
       "    <tr>\n",
       "      <th>2</th>\n",
       "      <td>2017</td>\n",
       "      <td>Toyota</td>\n",
       "      <td>Camry</td>\n",
       "      <td>Toyota</td>\n",
       "      <td>22888</td>\n",
       "      <td>95532</td>\n",
       "      <td>Sedan</td>\n",
       "      <td>White</td>\n",
       "      <td>Gray</td>\n",
       "      <td>4</td>\n",
       "      <td>5</td>\n",
       "      <td>Automatic</td>\n",
       "      <td>FWD</td>\n",
       "      <td>2.5</td>\n",
       "      <td>4</td>\n",
       "      <td>Gasoline</td>\n",
       "      <td>Japan</td>\n",
       "      <td>5.48</td>\n",
       "      <td>5</td>\n",
       "      <td>5</td>\n",
       "    </tr>\n",
       "    <tr>\n",
       "      <th>3</th>\n",
       "      <td>2016</td>\n",
       "      <td>Toyota</td>\n",
       "      <td>Camry</td>\n",
       "      <td>Aurora</td>\n",
       "      <td>19888</td>\n",
       "      <td>48315</td>\n",
       "      <td>Sedan</td>\n",
       "      <td>White</td>\n",
       "      <td>Black</td>\n",
       "      <td>4</td>\n",
       "      <td>5</td>\n",
       "      <td>Automatic</td>\n",
       "      <td>FWD</td>\n",
       "      <td>2.5</td>\n",
       "      <td>4</td>\n",
       "      <td>Gasoline</td>\n",
       "      <td>Japan</td>\n",
       "      <td>4.01</td>\n",
       "      <td>4</td>\n",
       "      <td>4</td>\n",
       "    </tr>\n",
       "    <tr>\n",
       "      <th>5</th>\n",
       "      <td>2020</td>\n",
       "      <td>Hyundai</td>\n",
       "      <td>Elantra</td>\n",
       "      <td>Aurora</td>\n",
       "      <td>17988</td>\n",
       "      <td>11719</td>\n",
       "      <td>Sedan</td>\n",
       "      <td>White</td>\n",
       "      <td>Black</td>\n",
       "      <td>4</td>\n",
       "      <td>5</td>\n",
       "      <td>Automatic</td>\n",
       "      <td>FWD</td>\n",
       "      <td>2.0</td>\n",
       "      <td>4</td>\n",
       "      <td>Gasoline</td>\n",
       "      <td>Korea</td>\n",
       "      <td>0.49</td>\n",
       "      <td>0</td>\n",
       "      <td>0</td>\n",
       "    </tr>\n",
       "    <tr>\n",
       "      <th>20</th>\n",
       "      <td>2015</td>\n",
       "      <td>Toyota</td>\n",
       "      <td>Corolla</td>\n",
       "      <td>Aurora</td>\n",
       "      <td>13500</td>\n",
       "      <td>29201</td>\n",
       "      <td>Sedan</td>\n",
       "      <td>Blue</td>\n",
       "      <td>Black</td>\n",
       "      <td>4</td>\n",
       "      <td>5</td>\n",
       "      <td>Automatic</td>\n",
       "      <td>FWD</td>\n",
       "      <td>1.8</td>\n",
       "      <td>4</td>\n",
       "      <td>Gasoline</td>\n",
       "      <td>Japan</td>\n",
       "      <td>3.72</td>\n",
       "      <td>4</td>\n",
       "      <td>4</td>\n",
       "    </tr>\n",
       "    <tr>\n",
       "      <th>...</th>\n",
       "      <td>...</td>\n",
       "      <td>...</td>\n",
       "      <td>...</td>\n",
       "      <td>...</td>\n",
       "      <td>...</td>\n",
       "      <td>...</td>\n",
       "      <td>...</td>\n",
       "      <td>...</td>\n",
       "      <td>...</td>\n",
       "      <td>...</td>\n",
       "      <td>...</td>\n",
       "      <td>...</td>\n",
       "      <td>...</td>\n",
       "      <td>...</td>\n",
       "      <td>...</td>\n",
       "      <td>...</td>\n",
       "      <td>...</td>\n",
       "      <td>...</td>\n",
       "      <td>...</td>\n",
       "      <td>...</td>\n",
       "    </tr>\n",
       "    <tr>\n",
       "      <th>23728</th>\n",
       "      <td>2017</td>\n",
       "      <td>Toyota</td>\n",
       "      <td>Corolla</td>\n",
       "      <td>Windsor</td>\n",
       "      <td>17700</td>\n",
       "      <td>52820</td>\n",
       "      <td>Sedan</td>\n",
       "      <td>White</td>\n",
       "      <td>Black</td>\n",
       "      <td>4</td>\n",
       "      <td>5</td>\n",
       "      <td>-</td>\n",
       "      <td>FWD</td>\n",
       "      <td>1.8</td>\n",
       "      <td>4</td>\n",
       "      <td>Gasoline</td>\n",
       "      <td>Japan</td>\n",
       "      <td>3.70</td>\n",
       "      <td>4</td>\n",
       "      <td>4</td>\n",
       "    </tr>\n",
       "    <tr>\n",
       "      <th>23739</th>\n",
       "      <td>2016</td>\n",
       "      <td>Hyundai</td>\n",
       "      <td>Elantra</td>\n",
       "      <td>Windsor</td>\n",
       "      <td>15099</td>\n",
       "      <td>48838</td>\n",
       "      <td>Sedan</td>\n",
       "      <td>Gray</td>\n",
       "      <td>Black</td>\n",
       "      <td>4</td>\n",
       "      <td>5</td>\n",
       "      <td>Automatic</td>\n",
       "      <td>FWD</td>\n",
       "      <td>2.0</td>\n",
       "      <td>4</td>\n",
       "      <td>Gasoline</td>\n",
       "      <td>Korea</td>\n",
       "      <td>4.03</td>\n",
       "      <td>4</td>\n",
       "      <td>4</td>\n",
       "    </tr>\n",
       "    <tr>\n",
       "      <th>23784</th>\n",
       "      <td>2018</td>\n",
       "      <td>Kia</td>\n",
       "      <td>Forte</td>\n",
       "      <td>Windsor</td>\n",
       "      <td>14700</td>\n",
       "      <td>13675</td>\n",
       "      <td>Sedan</td>\n",
       "      <td>Black</td>\n",
       "      <td>Black</td>\n",
       "      <td>4</td>\n",
       "      <td>5</td>\n",
       "      <td>Automatic</td>\n",
       "      <td>FWD</td>\n",
       "      <td>2.0</td>\n",
       "      <td>4</td>\n",
       "      <td>Gasoline</td>\n",
       "      <td>Korea</td>\n",
       "      <td>1.57</td>\n",
       "      <td>2</td>\n",
       "      <td>2</td>\n",
       "    </tr>\n",
       "    <tr>\n",
       "      <th>23888</th>\n",
       "      <td>2018</td>\n",
       "      <td>Kia</td>\n",
       "      <td>Forte</td>\n",
       "      <td>Windsor</td>\n",
       "      <td>13995</td>\n",
       "      <td>25269</td>\n",
       "      <td>Sedan</td>\n",
       "      <td>Blue</td>\n",
       "      <td>Black</td>\n",
       "      <td>4</td>\n",
       "      <td>5</td>\n",
       "      <td>Automatic</td>\n",
       "      <td>FWD</td>\n",
       "      <td>2.0</td>\n",
       "      <td>4</td>\n",
       "      <td>Gasoline</td>\n",
       "      <td>Korea</td>\n",
       "      <td>2.05</td>\n",
       "      <td>2</td>\n",
       "      <td>2</td>\n",
       "    </tr>\n",
       "    <tr>\n",
       "      <th>23934</th>\n",
       "      <td>2015</td>\n",
       "      <td>Kia</td>\n",
       "      <td>Rio</td>\n",
       "      <td>Windsor</td>\n",
       "      <td>13999</td>\n",
       "      <td>53815</td>\n",
       "      <td>Sedan</td>\n",
       "      <td>-</td>\n",
       "      <td>-</td>\n",
       "      <td>4</td>\n",
       "      <td>5</td>\n",
       "      <td>Automatic</td>\n",
       "      <td>FWD</td>\n",
       "      <td>1.6</td>\n",
       "      <td>4</td>\n",
       "      <td>Gasoline</td>\n",
       "      <td>Korea</td>\n",
       "      <td>4.74</td>\n",
       "      <td>5</td>\n",
       "      <td>5</td>\n",
       "    </tr>\n",
       "  </tbody>\n",
       "</table>\n",
       "<p>1265 rows × 20 columns</p>\n",
       "</div>"
      ],
      "text/plain": [
       "       year    brand    model location  price  mileage body_type  \\\n",
       "0      2016   Toyota  Corolla   Aurora  13888    42098     Sedan   \n",
       "2      2017   Toyota    Camry   Toyota  22888    95532     Sedan   \n",
       "3      2016   Toyota    Camry   Aurora  19888    48315     Sedan   \n",
       "5      2020  Hyundai  Elantra   Aurora  17988    11719     Sedan   \n",
       "20     2015   Toyota  Corolla   Aurora  13500    29201     Sedan   \n",
       "...     ...      ...      ...      ...    ...      ...       ...   \n",
       "23728  2017   Toyota  Corolla  Windsor  17700    52820     Sedan   \n",
       "23739  2016  Hyundai  Elantra  Windsor  15099    48838     Sedan   \n",
       "23784  2018      Kia    Forte  Windsor  14700    13675     Sedan   \n",
       "23888  2018      Kia    Forte  Windsor  13995    25269     Sedan   \n",
       "23934  2015      Kia      Rio  Windsor  13999    53815     Sedan   \n",
       "\n",
       "      exterior_colour interior_colour door passenger transmission drive_type  \\\n",
       "0                   -               -    4         5    Automatic        FWD   \n",
       "2               White            Gray    4         5    Automatic        FWD   \n",
       "3               White           Black    4         5    Automatic        FWD   \n",
       "5               White           Black    4         5    Automatic        FWD   \n",
       "20               Blue           Black    4         5    Automatic        FWD   \n",
       "...               ...             ...  ...       ...          ...        ...   \n",
       "23728           White           Black    4         5            -        FWD   \n",
       "23739            Gray           Black    4         5    Automatic        FWD   \n",
       "23784           Black           Black    4         5    Automatic        FWD   \n",
       "23888            Blue           Black    4         5    Automatic        FWD   \n",
       "23934               -               -    4         5    Automatic        FWD   \n",
       "\n",
       "      displacement cylinder      fuel country  real_year_age  car_age_int  \\\n",
       "0              1.8        4  Gasoline   Japan           3.75            4   \n",
       "2              2.5        4  Gasoline   Japan           5.48            5   \n",
       "3              2.5        4  Gasoline   Japan           4.01            4   \n",
       "5              2.0        4  Gasoline   Korea           0.49            0   \n",
       "20             1.8        4  Gasoline   Japan           3.72            4   \n",
       "...            ...      ...       ...     ...            ...          ...   \n",
       "23728          1.8        4  Gasoline   Japan           3.70            4   \n",
       "23739          2.0        4  Gasoline   Korea           4.03            4   \n",
       "23784          2.0        4  Gasoline   Korea           1.57            2   \n",
       "23888          2.0        4  Gasoline   Korea           2.05            2   \n",
       "23934          1.6        4  Gasoline   Korea           4.74            5   \n",
       "\n",
       "      car_age_str  \n",
       "0               4  \n",
       "2               5  \n",
       "3               4  \n",
       "5               0  \n",
       "20              4  \n",
       "...           ...  \n",
       "23728           4  \n",
       "23739           4  \n",
       "23784           2  \n",
       "23888           2  \n",
       "23934           5  \n",
       "\n",
       "[1265 rows x 20 columns]"
      ]
     },
     "execution_count": 303,
     "metadata": {},
     "output_type": "execute_result"
    }
   ],
   "source": [
    "# Filter model by the top 5 brand\n",
    "\n",
    "sedan_model_in5brand=sedan_less5[data_age_less5['brand'].isin(['Hyundai','Lexus','Toyota','Subaru','Kia'])]\n",
    "sedan_model_in5brand"
   ]
  },
  {
   "cell_type": "code",
   "execution_count": 304,
   "metadata": {},
   "outputs": [
    {
     "data": {
      "text/html": [
       "<div>\n",
       "<style scoped>\n",
       "    .dataframe tbody tr th:only-of-type {\n",
       "        vertical-align: middle;\n",
       "    }\n",
       "\n",
       "    .dataframe tbody tr th {\n",
       "        vertical-align: top;\n",
       "    }\n",
       "\n",
       "    .dataframe thead th {\n",
       "        text-align: right;\n",
       "    }\n",
       "</style>\n",
       "<table border=\"1\" class=\"dataframe\">\n",
       "  <thead>\n",
       "    <tr style=\"text-align: right;\">\n",
       "      <th>car_age_str</th>\n",
       "      <th>0</th>\n",
       "      <th>1</th>\n",
       "      <th>2</th>\n",
       "      <th>3</th>\n",
       "      <th>4</th>\n",
       "      <th>5</th>\n",
       "    </tr>\n",
       "    <tr>\n",
       "      <th>model</th>\n",
       "      <th></th>\n",
       "      <th></th>\n",
       "      <th></th>\n",
       "      <th></th>\n",
       "      <th></th>\n",
       "      <th></th>\n",
       "    </tr>\n",
       "  </thead>\n",
       "  <tbody>\n",
       "    <tr>\n",
       "      <th>Accent</th>\n",
       "      <td>NaN</td>\n",
       "      <td>17986.000000</td>\n",
       "      <td>15490.000000</td>\n",
       "      <td>13359.833333</td>\n",
       "      <td>13066.666667</td>\n",
       "      <td>10995.000000</td>\n",
       "    </tr>\n",
       "    <tr>\n",
       "      <th>Avalon</th>\n",
       "      <td>NaN</td>\n",
       "      <td>NaN</td>\n",
       "      <td>34888.000000</td>\n",
       "      <td>NaN</td>\n",
       "      <td>24995.000000</td>\n",
       "      <td>NaN</td>\n",
       "    </tr>\n",
       "    <tr>\n",
       "      <th>Cadenza</th>\n",
       "      <td>NaN</td>\n",
       "      <td>NaN</td>\n",
       "      <td>NaN</td>\n",
       "      <td>NaN</td>\n",
       "      <td>NaN</td>\n",
       "      <td>23988.000000</td>\n",
       "    </tr>\n",
       "    <tr>\n",
       "      <th>Camry</th>\n",
       "      <td>35332.500000</td>\n",
       "      <td>27824.357143</td>\n",
       "      <td>23928.877193</td>\n",
       "      <td>24963.818182</td>\n",
       "      <td>21255.764706</td>\n",
       "      <td>18618.785714</td>\n",
       "    </tr>\n",
       "    <tr>\n",
       "      <th>Corolla</th>\n",
       "      <td>23755.307692</td>\n",
       "      <td>20214.441860</td>\n",
       "      <td>18541.267857</td>\n",
       "      <td>16348.291667</td>\n",
       "      <td>15367.321839</td>\n",
       "      <td>14661.085106</td>\n",
       "    </tr>\n",
       "    <tr>\n",
       "      <th>CorollaCertified</th>\n",
       "      <td>NaN</td>\n",
       "      <td>18900.000000</td>\n",
       "      <td>18495.000000</td>\n",
       "      <td>16995.000000</td>\n",
       "      <td>17109.666667</td>\n",
       "      <td>15293.250000</td>\n",
       "    </tr>\n",
       "    <tr>\n",
       "      <th>ES</th>\n",
       "      <td>52995.000000</td>\n",
       "      <td>NaN</td>\n",
       "      <td>37665.000000</td>\n",
       "      <td>32785.250000</td>\n",
       "      <td>30535.200000</td>\n",
       "      <td>28890.750000</td>\n",
       "    </tr>\n",
       "    <tr>\n",
       "      <th>Elantra</th>\n",
       "      <td>19479.928571</td>\n",
       "      <td>18844.846154</td>\n",
       "      <td>17036.180328</td>\n",
       "      <td>15381.070588</td>\n",
       "      <td>14374.153846</td>\n",
       "      <td>13432.428571</td>\n",
       "    </tr>\n",
       "    <tr>\n",
       "      <th>Equus</th>\n",
       "      <td>NaN</td>\n",
       "      <td>NaN</td>\n",
       "      <td>NaN</td>\n",
       "      <td>NaN</td>\n",
       "      <td>NaN</td>\n",
       "      <td>22995.000000</td>\n",
       "    </tr>\n",
       "    <tr>\n",
       "      <th>Forte</th>\n",
       "      <td>20755.600000</td>\n",
       "      <td>17145.550000</td>\n",
       "      <td>16931.312500</td>\n",
       "      <td>14892.370370</td>\n",
       "      <td>13626.526316</td>\n",
       "      <td>12635.555556</td>\n",
       "    </tr>\n",
       "    <tr>\n",
       "      <th>ForteCertified</th>\n",
       "      <td>NaN</td>\n",
       "      <td>NaN</td>\n",
       "      <td>NaN</td>\n",
       "      <td>NaN</td>\n",
       "      <td>14497.000000</td>\n",
       "      <td>NaN</td>\n",
       "    </tr>\n",
       "    <tr>\n",
       "      <th>GS</th>\n",
       "      <td>NaN</td>\n",
       "      <td>NaN</td>\n",
       "      <td>NaN</td>\n",
       "      <td>36888.000000</td>\n",
       "      <td>NaN</td>\n",
       "      <td>NaN</td>\n",
       "    </tr>\n",
       "    <tr>\n",
       "      <th>Genesis</th>\n",
       "      <td>NaN</td>\n",
       "      <td>NaN</td>\n",
       "      <td>NaN</td>\n",
       "      <td>26998.000000</td>\n",
       "      <td>NaN</td>\n",
       "      <td>24360.333333</td>\n",
       "    </tr>\n",
       "    <tr>\n",
       "      <th>IS</th>\n",
       "      <td>NaN</td>\n",
       "      <td>NaN</td>\n",
       "      <td>NaN</td>\n",
       "      <td>32587.000000</td>\n",
       "      <td>30751.500000</td>\n",
       "      <td>27853.250000</td>\n",
       "    </tr>\n",
       "    <tr>\n",
       "      <th>Impreza</th>\n",
       "      <td>32207.000000</td>\n",
       "      <td>23988.000000</td>\n",
       "      <td>24999.000000</td>\n",
       "      <td>19672.600000</td>\n",
       "      <td>17344.857143</td>\n",
       "      <td>17621.666667</td>\n",
       "    </tr>\n",
       "    <tr>\n",
       "      <th>LS</th>\n",
       "      <td>NaN</td>\n",
       "      <td>NaN</td>\n",
       "      <td>NaN</td>\n",
       "      <td>NaN</td>\n",
       "      <td>51497.000000</td>\n",
       "      <td>NaN</td>\n",
       "    </tr>\n",
       "    <tr>\n",
       "      <th>Legacy</th>\n",
       "      <td>NaN</td>\n",
       "      <td>31941.200000</td>\n",
       "      <td>22322.500000</td>\n",
       "      <td>22417.571429</td>\n",
       "      <td>19586.700000</td>\n",
       "      <td>17917.250000</td>\n",
       "    </tr>\n",
       "    <tr>\n",
       "      <th>LegacyCertified</th>\n",
       "      <td>NaN</td>\n",
       "      <td>NaN</td>\n",
       "      <td>NaN</td>\n",
       "      <td>NaN</td>\n",
       "      <td>NaN</td>\n",
       "      <td>17900.000000</td>\n",
       "    </tr>\n",
       "    <tr>\n",
       "      <th>Optima</th>\n",
       "      <td>25055.000000</td>\n",
       "      <td>25893.000000</td>\n",
       "      <td>18941.500000</td>\n",
       "      <td>17692.428571</td>\n",
       "      <td>15890.307692</td>\n",
       "      <td>15161.125000</td>\n",
       "    </tr>\n",
       "    <tr>\n",
       "      <th>OptimaCertified</th>\n",
       "      <td>NaN</td>\n",
       "      <td>NaN</td>\n",
       "      <td>NaN</td>\n",
       "      <td>NaN</td>\n",
       "      <td>15995.000000</td>\n",
       "      <td>NaN</td>\n",
       "    </tr>\n",
       "    <tr>\n",
       "      <th>Prius</th>\n",
       "      <td>34556.750000</td>\n",
       "      <td>NaN</td>\n",
       "      <td>28588.000000</td>\n",
       "      <td>NaN</td>\n",
       "      <td>NaN</td>\n",
       "      <td>18394.500000</td>\n",
       "    </tr>\n",
       "    <tr>\n",
       "      <th>Rio</th>\n",
       "      <td>22604.500000</td>\n",
       "      <td>16986.000000</td>\n",
       "      <td>12960.750000</td>\n",
       "      <td>13428.000000</td>\n",
       "      <td>11901.714286</td>\n",
       "      <td>11294.000000</td>\n",
       "    </tr>\n",
       "    <tr>\n",
       "      <th>Rondo</th>\n",
       "      <td>NaN</td>\n",
       "      <td>NaN</td>\n",
       "      <td>NaN</td>\n",
       "      <td>13888.000000</td>\n",
       "      <td>NaN</td>\n",
       "      <td>12007.500000</td>\n",
       "    </tr>\n",
       "    <tr>\n",
       "      <th>Sonata</th>\n",
       "      <td>24998.000000</td>\n",
       "      <td>22394.642857</td>\n",
       "      <td>21587.545455</td>\n",
       "      <td>17463.176471</td>\n",
       "      <td>17990.045455</td>\n",
       "      <td>15424.960000</td>\n",
       "    </tr>\n",
       "    <tr>\n",
       "      <th>Soul</th>\n",
       "      <td>21900.000000</td>\n",
       "      <td>19675.600000</td>\n",
       "      <td>15995.000000</td>\n",
       "      <td>16410.000000</td>\n",
       "      <td>14336.000000</td>\n",
       "      <td>13078.000000</td>\n",
       "    </tr>\n",
       "    <tr>\n",
       "      <th>SoulCertified</th>\n",
       "      <td>21999.000000</td>\n",
       "      <td>NaN</td>\n",
       "      <td>NaN</td>\n",
       "      <td>NaN</td>\n",
       "      <td>NaN</td>\n",
       "      <td>NaN</td>\n",
       "    </tr>\n",
       "    <tr>\n",
       "      <th>Stinger</th>\n",
       "      <td>50795.000000</td>\n",
       "      <td>37998.000000</td>\n",
       "      <td>37837.000000</td>\n",
       "      <td>38990.000000</td>\n",
       "      <td>NaN</td>\n",
       "      <td>NaN</td>\n",
       "    </tr>\n",
       "    <tr>\n",
       "      <th>WRX</th>\n",
       "      <td>36399.000000</td>\n",
       "      <td>32752.166667</td>\n",
       "      <td>31814.285714</td>\n",
       "      <td>28972.818182</td>\n",
       "      <td>27062.100000</td>\n",
       "      <td>26062.500000</td>\n",
       "    </tr>\n",
       "    <tr>\n",
       "      <th>Yaris</th>\n",
       "      <td>19699.000000</td>\n",
       "      <td>16549.000000</td>\n",
       "      <td>NaN</td>\n",
       "      <td>NaN</td>\n",
       "      <td>15167.000000</td>\n",
       "      <td>11776.750000</td>\n",
       "    </tr>\n",
       "  </tbody>\n",
       "</table>\n",
       "</div>"
      ],
      "text/plain": [
       "car_age_str                  0             1             2             3  \\\n",
       "model                                                                      \n",
       "Accent                     NaN  17986.000000  15490.000000  13359.833333   \n",
       "Avalon                     NaN           NaN  34888.000000           NaN   \n",
       "Cadenza                    NaN           NaN           NaN           NaN   \n",
       "Camry             35332.500000  27824.357143  23928.877193  24963.818182   \n",
       "Corolla           23755.307692  20214.441860  18541.267857  16348.291667   \n",
       "CorollaCertified           NaN  18900.000000  18495.000000  16995.000000   \n",
       "ES                52995.000000           NaN  37665.000000  32785.250000   \n",
       "Elantra           19479.928571  18844.846154  17036.180328  15381.070588   \n",
       "Equus                      NaN           NaN           NaN           NaN   \n",
       "Forte             20755.600000  17145.550000  16931.312500  14892.370370   \n",
       "ForteCertified             NaN           NaN           NaN           NaN   \n",
       "GS                         NaN           NaN           NaN  36888.000000   \n",
       "Genesis                    NaN           NaN           NaN  26998.000000   \n",
       "IS                         NaN           NaN           NaN  32587.000000   \n",
       "Impreza           32207.000000  23988.000000  24999.000000  19672.600000   \n",
       "LS                         NaN           NaN           NaN           NaN   \n",
       "Legacy                     NaN  31941.200000  22322.500000  22417.571429   \n",
       "LegacyCertified            NaN           NaN           NaN           NaN   \n",
       "Optima            25055.000000  25893.000000  18941.500000  17692.428571   \n",
       "OptimaCertified            NaN           NaN           NaN           NaN   \n",
       "Prius             34556.750000           NaN  28588.000000           NaN   \n",
       "Rio               22604.500000  16986.000000  12960.750000  13428.000000   \n",
       "Rondo                      NaN           NaN           NaN  13888.000000   \n",
       "Sonata            24998.000000  22394.642857  21587.545455  17463.176471   \n",
       "Soul              21900.000000  19675.600000  15995.000000  16410.000000   \n",
       "SoulCertified     21999.000000           NaN           NaN           NaN   \n",
       "Stinger           50795.000000  37998.000000  37837.000000  38990.000000   \n",
       "WRX               36399.000000  32752.166667  31814.285714  28972.818182   \n",
       "Yaris             19699.000000  16549.000000           NaN           NaN   \n",
       "\n",
       "car_age_str                  4             5  \n",
       "model                                         \n",
       "Accent            13066.666667  10995.000000  \n",
       "Avalon            24995.000000           NaN  \n",
       "Cadenza                    NaN  23988.000000  \n",
       "Camry             21255.764706  18618.785714  \n",
       "Corolla           15367.321839  14661.085106  \n",
       "CorollaCertified  17109.666667  15293.250000  \n",
       "ES                30535.200000  28890.750000  \n",
       "Elantra           14374.153846  13432.428571  \n",
       "Equus                      NaN  22995.000000  \n",
       "Forte             13626.526316  12635.555556  \n",
       "ForteCertified    14497.000000           NaN  \n",
       "GS                         NaN           NaN  \n",
       "Genesis                    NaN  24360.333333  \n",
       "IS                30751.500000  27853.250000  \n",
       "Impreza           17344.857143  17621.666667  \n",
       "LS                51497.000000           NaN  \n",
       "Legacy            19586.700000  17917.250000  \n",
       "LegacyCertified            NaN  17900.000000  \n",
       "Optima            15890.307692  15161.125000  \n",
       "OptimaCertified   15995.000000           NaN  \n",
       "Prius                      NaN  18394.500000  \n",
       "Rio               11901.714286  11294.000000  \n",
       "Rondo                      NaN  12007.500000  \n",
       "Sonata            17990.045455  15424.960000  \n",
       "Soul              14336.000000  13078.000000  \n",
       "SoulCertified              NaN           NaN  \n",
       "Stinger                    NaN           NaN  \n",
       "WRX               27062.100000  26062.500000  \n",
       "Yaris             15167.000000  11776.750000  "
      ]
     },
     "execution_count": 304,
     "metadata": {},
     "output_type": "execute_result"
    }
   ],
   "source": [
    "sedan_model_meanprice=sedan_model_in5brand.groupby(['model','car_age_str'])['price'].mean().unstack()\n",
    "sedan_model_meanprice"
   ]
  },
  {
   "cell_type": "code",
   "execution_count": 305,
   "metadata": {},
   "outputs": [
    {
     "data": {
      "text/html": [
       "<div>\n",
       "<style scoped>\n",
       "    .dataframe tbody tr th:only-of-type {\n",
       "        vertical-align: middle;\n",
       "    }\n",
       "\n",
       "    .dataframe tbody tr th {\n",
       "        vertical-align: top;\n",
       "    }\n",
       "\n",
       "    .dataframe thead th {\n",
       "        text-align: right;\n",
       "    }\n",
       "</style>\n",
       "<table border=\"1\" class=\"dataframe\">\n",
       "  <thead>\n",
       "    <tr style=\"text-align: right;\">\n",
       "      <th>car_age_str</th>\n",
       "      <th>0</th>\n",
       "      <th>1</th>\n",
       "      <th>2</th>\n",
       "      <th>3</th>\n",
       "      <th>4</th>\n",
       "      <th>5</th>\n",
       "      <th>ratention_rate</th>\n",
       "    </tr>\n",
       "    <tr>\n",
       "      <th>model</th>\n",
       "      <th></th>\n",
       "      <th></th>\n",
       "      <th></th>\n",
       "      <th></th>\n",
       "      <th></th>\n",
       "      <th></th>\n",
       "      <th></th>\n",
       "    </tr>\n",
       "  </thead>\n",
       "  <tbody>\n",
       "    <tr>\n",
       "      <th>Accent</th>\n",
       "      <td>NaN</td>\n",
       "      <td>17986.000000</td>\n",
       "      <td>15490.000000</td>\n",
       "      <td>13359.833333</td>\n",
       "      <td>13066.666667</td>\n",
       "      <td>10995.000000</td>\n",
       "      <td>NaN</td>\n",
       "    </tr>\n",
       "    <tr>\n",
       "      <th>Avalon</th>\n",
       "      <td>NaN</td>\n",
       "      <td>NaN</td>\n",
       "      <td>34888.000000</td>\n",
       "      <td>NaN</td>\n",
       "      <td>24995.000000</td>\n",
       "      <td>NaN</td>\n",
       "      <td>NaN</td>\n",
       "    </tr>\n",
       "    <tr>\n",
       "      <th>Cadenza</th>\n",
       "      <td>NaN</td>\n",
       "      <td>NaN</td>\n",
       "      <td>NaN</td>\n",
       "      <td>NaN</td>\n",
       "      <td>NaN</td>\n",
       "      <td>23988.000000</td>\n",
       "      <td>NaN</td>\n",
       "    </tr>\n",
       "    <tr>\n",
       "      <th>Camry</th>\n",
       "      <td>35332.500000</td>\n",
       "      <td>27824.357143</td>\n",
       "      <td>23928.877193</td>\n",
       "      <td>24963.818182</td>\n",
       "      <td>21255.764706</td>\n",
       "      <td>18618.785714</td>\n",
       "      <td>0.526959</td>\n",
       "    </tr>\n",
       "    <tr>\n",
       "      <th>Corolla</th>\n",
       "      <td>23755.307692</td>\n",
       "      <td>20214.441860</td>\n",
       "      <td>18541.267857</td>\n",
       "      <td>16348.291667</td>\n",
       "      <td>15367.321839</td>\n",
       "      <td>14661.085106</td>\n",
       "      <td>0.617171</td>\n",
       "    </tr>\n",
       "    <tr>\n",
       "      <th>CorollaCertified</th>\n",
       "      <td>NaN</td>\n",
       "      <td>18900.000000</td>\n",
       "      <td>18495.000000</td>\n",
       "      <td>16995.000000</td>\n",
       "      <td>17109.666667</td>\n",
       "      <td>15293.250000</td>\n",
       "      <td>NaN</td>\n",
       "    </tr>\n",
       "    <tr>\n",
       "      <th>ES</th>\n",
       "      <td>52995.000000</td>\n",
       "      <td>NaN</td>\n",
       "      <td>37665.000000</td>\n",
       "      <td>32785.250000</td>\n",
       "      <td>30535.200000</td>\n",
       "      <td>28890.750000</td>\n",
       "      <td>0.545160</td>\n",
       "    </tr>\n",
       "    <tr>\n",
       "      <th>Elantra</th>\n",
       "      <td>19479.928571</td>\n",
       "      <td>18844.846154</td>\n",
       "      <td>17036.180328</td>\n",
       "      <td>15381.070588</td>\n",
       "      <td>14374.153846</td>\n",
       "      <td>13432.428571</td>\n",
       "      <td>0.689552</td>\n",
       "    </tr>\n",
       "    <tr>\n",
       "      <th>Equus</th>\n",
       "      <td>NaN</td>\n",
       "      <td>NaN</td>\n",
       "      <td>NaN</td>\n",
       "      <td>NaN</td>\n",
       "      <td>NaN</td>\n",
       "      <td>22995.000000</td>\n",
       "      <td>NaN</td>\n",
       "    </tr>\n",
       "    <tr>\n",
       "      <th>Forte</th>\n",
       "      <td>20755.600000</td>\n",
       "      <td>17145.550000</td>\n",
       "      <td>16931.312500</td>\n",
       "      <td>14892.370370</td>\n",
       "      <td>13626.526316</td>\n",
       "      <td>12635.555556</td>\n",
       "      <td>0.608778</td>\n",
       "    </tr>\n",
       "    <tr>\n",
       "      <th>ForteCertified</th>\n",
       "      <td>NaN</td>\n",
       "      <td>NaN</td>\n",
       "      <td>NaN</td>\n",
       "      <td>NaN</td>\n",
       "      <td>14497.000000</td>\n",
       "      <td>NaN</td>\n",
       "      <td>NaN</td>\n",
       "    </tr>\n",
       "    <tr>\n",
       "      <th>GS</th>\n",
       "      <td>NaN</td>\n",
       "      <td>NaN</td>\n",
       "      <td>NaN</td>\n",
       "      <td>36888.000000</td>\n",
       "      <td>NaN</td>\n",
       "      <td>NaN</td>\n",
       "      <td>NaN</td>\n",
       "    </tr>\n",
       "    <tr>\n",
       "      <th>Genesis</th>\n",
       "      <td>NaN</td>\n",
       "      <td>NaN</td>\n",
       "      <td>NaN</td>\n",
       "      <td>26998.000000</td>\n",
       "      <td>NaN</td>\n",
       "      <td>24360.333333</td>\n",
       "      <td>NaN</td>\n",
       "    </tr>\n",
       "    <tr>\n",
       "      <th>IS</th>\n",
       "      <td>NaN</td>\n",
       "      <td>NaN</td>\n",
       "      <td>NaN</td>\n",
       "      <td>32587.000000</td>\n",
       "      <td>30751.500000</td>\n",
       "      <td>27853.250000</td>\n",
       "      <td>NaN</td>\n",
       "    </tr>\n",
       "    <tr>\n",
       "      <th>Impreza</th>\n",
       "      <td>32207.000000</td>\n",
       "      <td>23988.000000</td>\n",
       "      <td>24999.000000</td>\n",
       "      <td>19672.600000</td>\n",
       "      <td>17344.857143</td>\n",
       "      <td>17621.666667</td>\n",
       "      <td>0.547138</td>\n",
       "    </tr>\n",
       "    <tr>\n",
       "      <th>LS</th>\n",
       "      <td>NaN</td>\n",
       "      <td>NaN</td>\n",
       "      <td>NaN</td>\n",
       "      <td>NaN</td>\n",
       "      <td>51497.000000</td>\n",
       "      <td>NaN</td>\n",
       "      <td>NaN</td>\n",
       "    </tr>\n",
       "    <tr>\n",
       "      <th>Legacy</th>\n",
       "      <td>NaN</td>\n",
       "      <td>31941.200000</td>\n",
       "      <td>22322.500000</td>\n",
       "      <td>22417.571429</td>\n",
       "      <td>19586.700000</td>\n",
       "      <td>17917.250000</td>\n",
       "      <td>NaN</td>\n",
       "    </tr>\n",
       "    <tr>\n",
       "      <th>LegacyCertified</th>\n",
       "      <td>NaN</td>\n",
       "      <td>NaN</td>\n",
       "      <td>NaN</td>\n",
       "      <td>NaN</td>\n",
       "      <td>NaN</td>\n",
       "      <td>17900.000000</td>\n",
       "      <td>NaN</td>\n",
       "    </tr>\n",
       "    <tr>\n",
       "      <th>Optima</th>\n",
       "      <td>25055.000000</td>\n",
       "      <td>25893.000000</td>\n",
       "      <td>18941.500000</td>\n",
       "      <td>17692.428571</td>\n",
       "      <td>15890.307692</td>\n",
       "      <td>15161.125000</td>\n",
       "      <td>0.605114</td>\n",
       "    </tr>\n",
       "    <tr>\n",
       "      <th>OptimaCertified</th>\n",
       "      <td>NaN</td>\n",
       "      <td>NaN</td>\n",
       "      <td>NaN</td>\n",
       "      <td>NaN</td>\n",
       "      <td>15995.000000</td>\n",
       "      <td>NaN</td>\n",
       "      <td>NaN</td>\n",
       "    </tr>\n",
       "    <tr>\n",
       "      <th>Prius</th>\n",
       "      <td>34556.750000</td>\n",
       "      <td>NaN</td>\n",
       "      <td>28588.000000</td>\n",
       "      <td>NaN</td>\n",
       "      <td>NaN</td>\n",
       "      <td>18394.500000</td>\n",
       "      <td>0.532298</td>\n",
       "    </tr>\n",
       "    <tr>\n",
       "      <th>Rio</th>\n",
       "      <td>22604.500000</td>\n",
       "      <td>16986.000000</td>\n",
       "      <td>12960.750000</td>\n",
       "      <td>13428.000000</td>\n",
       "      <td>11901.714286</td>\n",
       "      <td>11294.000000</td>\n",
       "      <td>0.499635</td>\n",
       "    </tr>\n",
       "    <tr>\n",
       "      <th>Rondo</th>\n",
       "      <td>NaN</td>\n",
       "      <td>NaN</td>\n",
       "      <td>NaN</td>\n",
       "      <td>13888.000000</td>\n",
       "      <td>NaN</td>\n",
       "      <td>12007.500000</td>\n",
       "      <td>NaN</td>\n",
       "    </tr>\n",
       "    <tr>\n",
       "      <th>Sonata</th>\n",
       "      <td>24998.000000</td>\n",
       "      <td>22394.642857</td>\n",
       "      <td>21587.545455</td>\n",
       "      <td>17463.176471</td>\n",
       "      <td>17990.045455</td>\n",
       "      <td>15424.960000</td>\n",
       "      <td>0.617048</td>\n",
       "    </tr>\n",
       "    <tr>\n",
       "      <th>Soul</th>\n",
       "      <td>21900.000000</td>\n",
       "      <td>19675.600000</td>\n",
       "      <td>15995.000000</td>\n",
       "      <td>16410.000000</td>\n",
       "      <td>14336.000000</td>\n",
       "      <td>13078.000000</td>\n",
       "      <td>0.597169</td>\n",
       "    </tr>\n",
       "    <tr>\n",
       "      <th>SoulCertified</th>\n",
       "      <td>21999.000000</td>\n",
       "      <td>NaN</td>\n",
       "      <td>NaN</td>\n",
       "      <td>NaN</td>\n",
       "      <td>NaN</td>\n",
       "      <td>NaN</td>\n",
       "      <td>NaN</td>\n",
       "    </tr>\n",
       "    <tr>\n",
       "      <th>Stinger</th>\n",
       "      <td>50795.000000</td>\n",
       "      <td>37998.000000</td>\n",
       "      <td>37837.000000</td>\n",
       "      <td>38990.000000</td>\n",
       "      <td>NaN</td>\n",
       "      <td>NaN</td>\n",
       "      <td>NaN</td>\n",
       "    </tr>\n",
       "    <tr>\n",
       "      <th>WRX</th>\n",
       "      <td>36399.000000</td>\n",
       "      <td>32752.166667</td>\n",
       "      <td>31814.285714</td>\n",
       "      <td>28972.818182</td>\n",
       "      <td>27062.100000</td>\n",
       "      <td>26062.500000</td>\n",
       "      <td>0.716022</td>\n",
       "    </tr>\n",
       "    <tr>\n",
       "      <th>Yaris</th>\n",
       "      <td>19699.000000</td>\n",
       "      <td>16549.000000</td>\n",
       "      <td>NaN</td>\n",
       "      <td>NaN</td>\n",
       "      <td>15167.000000</td>\n",
       "      <td>11776.750000</td>\n",
       "      <td>0.597835</td>\n",
       "    </tr>\n",
       "  </tbody>\n",
       "</table>\n",
       "</div>"
      ],
      "text/plain": [
       "car_age_str                  0             1             2             3  \\\n",
       "model                                                                      \n",
       "Accent                     NaN  17986.000000  15490.000000  13359.833333   \n",
       "Avalon                     NaN           NaN  34888.000000           NaN   \n",
       "Cadenza                    NaN           NaN           NaN           NaN   \n",
       "Camry             35332.500000  27824.357143  23928.877193  24963.818182   \n",
       "Corolla           23755.307692  20214.441860  18541.267857  16348.291667   \n",
       "CorollaCertified           NaN  18900.000000  18495.000000  16995.000000   \n",
       "ES                52995.000000           NaN  37665.000000  32785.250000   \n",
       "Elantra           19479.928571  18844.846154  17036.180328  15381.070588   \n",
       "Equus                      NaN           NaN           NaN           NaN   \n",
       "Forte             20755.600000  17145.550000  16931.312500  14892.370370   \n",
       "ForteCertified             NaN           NaN           NaN           NaN   \n",
       "GS                         NaN           NaN           NaN  36888.000000   \n",
       "Genesis                    NaN           NaN           NaN  26998.000000   \n",
       "IS                         NaN           NaN           NaN  32587.000000   \n",
       "Impreza           32207.000000  23988.000000  24999.000000  19672.600000   \n",
       "LS                         NaN           NaN           NaN           NaN   \n",
       "Legacy                     NaN  31941.200000  22322.500000  22417.571429   \n",
       "LegacyCertified            NaN           NaN           NaN           NaN   \n",
       "Optima            25055.000000  25893.000000  18941.500000  17692.428571   \n",
       "OptimaCertified            NaN           NaN           NaN           NaN   \n",
       "Prius             34556.750000           NaN  28588.000000           NaN   \n",
       "Rio               22604.500000  16986.000000  12960.750000  13428.000000   \n",
       "Rondo                      NaN           NaN           NaN  13888.000000   \n",
       "Sonata            24998.000000  22394.642857  21587.545455  17463.176471   \n",
       "Soul              21900.000000  19675.600000  15995.000000  16410.000000   \n",
       "SoulCertified     21999.000000           NaN           NaN           NaN   \n",
       "Stinger           50795.000000  37998.000000  37837.000000  38990.000000   \n",
       "WRX               36399.000000  32752.166667  31814.285714  28972.818182   \n",
       "Yaris             19699.000000  16549.000000           NaN           NaN   \n",
       "\n",
       "car_age_str                  4             5  ratention_rate  \n",
       "model                                                         \n",
       "Accent            13066.666667  10995.000000             NaN  \n",
       "Avalon            24995.000000           NaN             NaN  \n",
       "Cadenza                    NaN  23988.000000             NaN  \n",
       "Camry             21255.764706  18618.785714        0.526959  \n",
       "Corolla           15367.321839  14661.085106        0.617171  \n",
       "CorollaCertified  17109.666667  15293.250000             NaN  \n",
       "ES                30535.200000  28890.750000        0.545160  \n",
       "Elantra           14374.153846  13432.428571        0.689552  \n",
       "Equus                      NaN  22995.000000             NaN  \n",
       "Forte             13626.526316  12635.555556        0.608778  \n",
       "ForteCertified    14497.000000           NaN             NaN  \n",
       "GS                         NaN           NaN             NaN  \n",
       "Genesis                    NaN  24360.333333             NaN  \n",
       "IS                30751.500000  27853.250000             NaN  \n",
       "Impreza           17344.857143  17621.666667        0.547138  \n",
       "LS                51497.000000           NaN             NaN  \n",
       "Legacy            19586.700000  17917.250000             NaN  \n",
       "LegacyCertified            NaN  17900.000000             NaN  \n",
       "Optima            15890.307692  15161.125000        0.605114  \n",
       "OptimaCertified   15995.000000           NaN             NaN  \n",
       "Prius                      NaN  18394.500000        0.532298  \n",
       "Rio               11901.714286  11294.000000        0.499635  \n",
       "Rondo                      NaN  12007.500000             NaN  \n",
       "Sonata            17990.045455  15424.960000        0.617048  \n",
       "Soul              14336.000000  13078.000000        0.597169  \n",
       "SoulCertified              NaN           NaN             NaN  \n",
       "Stinger                    NaN           NaN             NaN  \n",
       "WRX               27062.100000  26062.500000        0.716022  \n",
       "Yaris             15167.000000  11776.750000        0.597835  "
      ]
     },
     "execution_count": 305,
     "metadata": {},
     "output_type": "execute_result"
    }
   ],
   "source": [
    "sedan_model_meanprice['ratention_rate']=sedan_model_meanprice['5']/sedan_model_meanprice['0']\n",
    "sedan_model_meanprice"
   ]
  },
  {
   "cell_type": "code",
   "execution_count": 306,
   "metadata": {},
   "outputs": [
    {
     "data": {
      "text/html": [
       "<div>\n",
       "<style scoped>\n",
       "    .dataframe tbody tr th:only-of-type {\n",
       "        vertical-align: middle;\n",
       "    }\n",
       "\n",
       "    .dataframe tbody tr th {\n",
       "        vertical-align: top;\n",
       "    }\n",
       "\n",
       "    .dataframe thead th {\n",
       "        text-align: right;\n",
       "    }\n",
       "</style>\n",
       "<table border=\"1\" class=\"dataframe\">\n",
       "  <thead>\n",
       "    <tr style=\"text-align: right;\">\n",
       "      <th>car_age_str</th>\n",
       "      <th>0</th>\n",
       "      <th>1</th>\n",
       "      <th>2</th>\n",
       "      <th>3</th>\n",
       "      <th>4</th>\n",
       "      <th>5</th>\n",
       "      <th>ratention_rate</th>\n",
       "    </tr>\n",
       "    <tr>\n",
       "      <th>model</th>\n",
       "      <th></th>\n",
       "      <th></th>\n",
       "      <th></th>\n",
       "      <th></th>\n",
       "      <th></th>\n",
       "      <th></th>\n",
       "      <th></th>\n",
       "    </tr>\n",
       "  </thead>\n",
       "  <tbody>\n",
       "    <tr>\n",
       "      <th>WRX</th>\n",
       "      <td>36399.000000</td>\n",
       "      <td>32752.166667</td>\n",
       "      <td>31814.285714</td>\n",
       "      <td>28972.818182</td>\n",
       "      <td>27062.100000</td>\n",
       "      <td>26062.500000</td>\n",
       "      <td>0.716022</td>\n",
       "    </tr>\n",
       "    <tr>\n",
       "      <th>Elantra</th>\n",
       "      <td>19479.928571</td>\n",
       "      <td>18844.846154</td>\n",
       "      <td>17036.180328</td>\n",
       "      <td>15381.070588</td>\n",
       "      <td>14374.153846</td>\n",
       "      <td>13432.428571</td>\n",
       "      <td>0.689552</td>\n",
       "    </tr>\n",
       "    <tr>\n",
       "      <th>Corolla</th>\n",
       "      <td>23755.307692</td>\n",
       "      <td>20214.441860</td>\n",
       "      <td>18541.267857</td>\n",
       "      <td>16348.291667</td>\n",
       "      <td>15367.321839</td>\n",
       "      <td>14661.085106</td>\n",
       "      <td>0.617171</td>\n",
       "    </tr>\n",
       "    <tr>\n",
       "      <th>Sonata</th>\n",
       "      <td>24998.000000</td>\n",
       "      <td>22394.642857</td>\n",
       "      <td>21587.545455</td>\n",
       "      <td>17463.176471</td>\n",
       "      <td>17990.045455</td>\n",
       "      <td>15424.960000</td>\n",
       "      <td>0.617048</td>\n",
       "    </tr>\n",
       "    <tr>\n",
       "      <th>Forte</th>\n",
       "      <td>20755.600000</td>\n",
       "      <td>17145.550000</td>\n",
       "      <td>16931.312500</td>\n",
       "      <td>14892.370370</td>\n",
       "      <td>13626.526316</td>\n",
       "      <td>12635.555556</td>\n",
       "      <td>0.608778</td>\n",
       "    </tr>\n",
       "  </tbody>\n",
       "</table>\n",
       "</div>"
      ],
      "text/plain": [
       "car_age_str             0             1             2             3  \\\n",
       "model                                                                 \n",
       "WRX          36399.000000  32752.166667  31814.285714  28972.818182   \n",
       "Elantra      19479.928571  18844.846154  17036.180328  15381.070588   \n",
       "Corolla      23755.307692  20214.441860  18541.267857  16348.291667   \n",
       "Sonata       24998.000000  22394.642857  21587.545455  17463.176471   \n",
       "Forte        20755.600000  17145.550000  16931.312500  14892.370370   \n",
       "\n",
       "car_age_str             4             5  ratention_rate  \n",
       "model                                                    \n",
       "WRX          27062.100000  26062.500000        0.716022  \n",
       "Elantra      14374.153846  13432.428571        0.689552  \n",
       "Corolla      15367.321839  14661.085106        0.617171  \n",
       "Sonata       17990.045455  15424.960000        0.617048  \n",
       "Forte        13626.526316  12635.555556        0.608778  "
      ]
     },
     "execution_count": 306,
     "metadata": {},
     "output_type": "execute_result"
    }
   ],
   "source": [
    "sedan_model_TOP5=sedan_model_meanprice.sort_values(by='ratention_rate',ascending=False).head(5)\n",
    "sedan_model_TOP5"
   ]
  },
  {
   "cell_type": "code",
   "execution_count": 307,
   "metadata": {},
   "outputs": [
    {
     "data": {
      "text/html": [
       "<div>\n",
       "<style scoped>\n",
       "    .dataframe tbody tr th:only-of-type {\n",
       "        vertical-align: middle;\n",
       "    }\n",
       "\n",
       "    .dataframe tbody tr th {\n",
       "        vertical-align: top;\n",
       "    }\n",
       "\n",
       "    .dataframe thead th {\n",
       "        text-align: right;\n",
       "    }\n",
       "</style>\n",
       "<table border=\"1\" class=\"dataframe\">\n",
       "  <thead>\n",
       "    <tr style=\"text-align: right;\">\n",
       "      <th>car_age_str</th>\n",
       "      <th>0</th>\n",
       "      <th>1</th>\n",
       "      <th>2</th>\n",
       "      <th>3</th>\n",
       "      <th>4</th>\n",
       "      <th>5</th>\n",
       "      <th>ratention_rate</th>\n",
       "    </tr>\n",
       "    <tr>\n",
       "      <th>model</th>\n",
       "      <th></th>\n",
       "      <th></th>\n",
       "      <th></th>\n",
       "      <th></th>\n",
       "      <th></th>\n",
       "      <th></th>\n",
       "      <th></th>\n",
       "    </tr>\n",
       "  </thead>\n",
       "  <tbody>\n",
       "    <tr>\n",
       "      <th>WRX</th>\n",
       "      <td>36399.000000</td>\n",
       "      <td>32752.166667</td>\n",
       "      <td>31814.285714</td>\n",
       "      <td>28972.818182</td>\n",
       "      <td>27062.100000</td>\n",
       "      <td>26062.500000</td>\n",
       "      <td>0.72</td>\n",
       "    </tr>\n",
       "    <tr>\n",
       "      <th>Elantra</th>\n",
       "      <td>19479.928571</td>\n",
       "      <td>18844.846154</td>\n",
       "      <td>17036.180328</td>\n",
       "      <td>15381.070588</td>\n",
       "      <td>14374.153846</td>\n",
       "      <td>13432.428571</td>\n",
       "      <td>0.69</td>\n",
       "    </tr>\n",
       "    <tr>\n",
       "      <th>Corolla</th>\n",
       "      <td>23755.307692</td>\n",
       "      <td>20214.441860</td>\n",
       "      <td>18541.267857</td>\n",
       "      <td>16348.291667</td>\n",
       "      <td>15367.321839</td>\n",
       "      <td>14661.085106</td>\n",
       "      <td>0.62</td>\n",
       "    </tr>\n",
       "    <tr>\n",
       "      <th>Sonata</th>\n",
       "      <td>24998.000000</td>\n",
       "      <td>22394.642857</td>\n",
       "      <td>21587.545455</td>\n",
       "      <td>17463.176471</td>\n",
       "      <td>17990.045455</td>\n",
       "      <td>15424.960000</td>\n",
       "      <td>0.62</td>\n",
       "    </tr>\n",
       "    <tr>\n",
       "      <th>Forte</th>\n",
       "      <td>20755.600000</td>\n",
       "      <td>17145.550000</td>\n",
       "      <td>16931.312500</td>\n",
       "      <td>14892.370370</td>\n",
       "      <td>13626.526316</td>\n",
       "      <td>12635.555556</td>\n",
       "      <td>0.61</td>\n",
       "    </tr>\n",
       "  </tbody>\n",
       "</table>\n",
       "</div>"
      ],
      "text/plain": [
       "car_age_str             0             1             2             3  \\\n",
       "model                                                                 \n",
       "WRX          36399.000000  32752.166667  31814.285714  28972.818182   \n",
       "Elantra      19479.928571  18844.846154  17036.180328  15381.070588   \n",
       "Corolla      23755.307692  20214.441860  18541.267857  16348.291667   \n",
       "Sonata       24998.000000  22394.642857  21587.545455  17463.176471   \n",
       "Forte        20755.600000  17145.550000  16931.312500  14892.370370   \n",
       "\n",
       "car_age_str             4             5  ratention_rate  \n",
       "model                                                    \n",
       "WRX          27062.100000  26062.500000            0.72  \n",
       "Elantra      14374.153846  13432.428571            0.69  \n",
       "Corolla      15367.321839  14661.085106            0.62  \n",
       "Sonata       17990.045455  15424.960000            0.62  \n",
       "Forte        13626.526316  12635.555556            0.61  "
      ]
     },
     "execution_count": 307,
     "metadata": {},
     "output_type": "execute_result"
    }
   ],
   "source": [
    "sedan_model_TOP5['ratention_rate']=sedan_model_TOP5['ratention_rate'].round(2)\n",
    "sedan_model_TOP5"
   ]
  },
  {
   "cell_type": "code",
   "execution_count": 308,
   "metadata": {},
   "outputs": [
    {
     "data": {
      "image/png": "[encoded data removed]",
      "text/plain": [
       "<Figure size 800x550 with 1 Axes>"
      ]
     },
     "metadata": {},
     "output_type": "display_data"
    }
   ],
   "source": [
    "#plot of models\n",
    "x=sedan_model_TOP5.index\n",
    "y=sedan_model_TOP5['ratention_rate']\n",
    "plt.figure(dpi=100)\n",
    "plt.bar(x,y,width=0.5,color='#BA1D1D')\n",
    "plt.xlabel('Top5 Model',)\n",
    "plt.ylabel('Retention Rate')\n",
    "\n",
    "for a,b in zip(x, y):\n",
    "    plt.text(a, b, str(b),verticalalignment=\"bottom\",horizontalalignment='center')\n",
    "plt.show()"
   ]
  },
  {
   "cell_type": "code",
   "execution_count": null,
   "metadata": {},
   "outputs": [],
   "source": []
  }
 ],
 "metadata": {
  "kernelspec": {
   "display_name": "Python 3",
   "language": "python",
   "name": "python3"
  },
  "language_info": {
   "codemirror_mode": {
    "name": "ipython",
    "version": 3
   },
   "file_extension": ".py",
   "mimetype": "text/x-python",
   "name": "python",
   "nbconvert_exporter": "python",
   "pygments_lexer": "ipython3",
   "version": "3.8.3"
  }
 },
 "nbformat": 4,
 "nbformat_minor": 4
}
